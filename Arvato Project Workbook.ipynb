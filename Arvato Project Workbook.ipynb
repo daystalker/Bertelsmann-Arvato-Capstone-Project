{
 "cells": [
  {
   "cell_type": "markdown",
   "metadata": {},
   "source": [
    "# Capstone Project: Create a Customer Segmentation Report for Arvato Financial Services\n",
    "\n",
    "In this project, you will analyze demographics data for customers of a mail-order sales company in Germany, comparing it against demographics information for the general population. You'll use unsupervised learning techniques to perform customer segmentation, identifying the parts of the population that best describe the core customer base of the company. Then, you'll apply what you've learned on a third dataset with demographics information for targets of a marketing campaign for the company, and use a model to predict which individuals are most likely to convert into becoming customers for the company. The data that you will use has been provided by our partners at Bertelsmann Arvato Analytics, and represents a real-life data science task.\n",
    "\n",
    "If you completed the first term of this program, you will be familiar with the first part of this project, from the unsupervised learning project. The versions of those two datasets used in this project will include many more features and has not been pre-cleaned. You are also free to choose whatever approach you'd like to analyzing the data rather than follow pre-determined steps. In your work on this project, make sure that you carefully document your steps and decisions, since your main deliverable for this project will be a blog post reporting your findings."
   ]
  },
  {
   "cell_type": "code",
   "execution_count": 1,
   "metadata": {},
   "outputs": [],
   "source": [
    "# import libraries here; add more as necessary\n",
    "import numpy as np\n",
    "import pandas as pd\n",
    "import matplotlib.pyplot as plt\n",
    "import seaborn as sns\n",
    "import os \n",
    "\n",
    "# magic word for producing visualizations in notebook\n",
    "%matplotlib inline\n",
    "\n",
    "#scikit-learn\n",
    "from sklearn.impute import SimpleImputer"
   ]
  },
  {
   "cell_type": "markdown",
   "metadata": {},
   "source": [
    "## Part 0: Get to Know the Data\n",
    "\n",
    "There are four data files associated with this project:\n",
    "\n",
    "- `Udacity_AZDIAS_052018.csv`: Demographics data for the general population of Germany; 891 211 persons (rows) x 366 features (columns).\n",
    "- `Udacity_CUSTOMERS_052018.csv`: Demographics data for customers of a mail-order company; 191 652 persons (rows) x 369 features (columns).\n",
    "- `Udacity_MAILOUT_052018_TRAIN.csv`: Demographics data for individuals who were targets of a marketing campaign; 42 982 persons (rows) x 367 (columns).\n",
    "- `Udacity_MAILOUT_052018_TEST.csv`: Demographics data for individuals who were targets of a marketing campaign; 42 833 persons (rows) x 366 (columns).\n",
    "\n",
    "Each row of the demographics files represents a single person, but also includes information outside of individuals, including information about their household, building, and neighborhood. Use the information from the first two files to figure out how customers (\"CUSTOMERS\") are similar to or differ from the general population at large (\"AZDIAS\"), then use your analysis to make predictions on the other two files (\"MAILOUT\"), predicting which recipients are most likely to become a customer for the mail-order company.\n",
    "\n",
    "The \"CUSTOMERS\" file contains three extra columns ('CUSTOMER_GROUP', 'ONLINE_PURCHASE', and 'PRODUCT_GROUP'), which provide broad information about the customers depicted in the file. The original \"MAILOUT\" file included one additional column, \"RESPONSE\", which indicated whether or not each recipient became a customer of the company. For the \"TRAIN\" subset, this column has been retained, but in the \"TEST\" subset it has been removed; it is against that withheld column that your final predictions will be assessed in the Kaggle competition.\n",
    "\n",
    "Otherwise, all of the remaining columns are the same between the three data files. For more information about the columns depicted in the files, you can refer to two Excel spreadsheets provided in the workspace. [One of them](./DIAS Information Levels - Attributes 2017.xlsx) is a top-level list of attributes and descriptions, organized by informational category. [The other](./DIAS Attributes - Values 2017.xlsx) is a detailed mapping of data values for each feature in alphabetical order.\n",
    "\n",
    "In the below cell, we've provided some initial code to load in the first two datasets. Note for all of the `.csv` data files in this project that they're semicolon (`;`) delimited, so an additional argument in the [`read_csv()`](https://pandas.pydata.org/pandas-docs/stable/generated/pandas.read_csv.html) call has been included to read in the data properly. Also, considering the size of the datasets, it may take some time for them to load completely.\n",
    "\n",
    "You'll notice when the data is loaded in that a warning message will immediately pop up. Before you really start digging into the modeling and analysis, you're going to need to perform some cleaning. Take some time to browse the structure of the data and look over the informational spreadsheets to understand the data values. Make some decisions on which features to keep, which features to drop, and if any revisions need to be made on data formats. It'll be a good idea to create a function with pre-processing steps, since you'll need to clean all of the datasets before you work with them."
   ]
  },
  {
   "cell_type": "markdown",
   "metadata": {},
   "source": [
    "### 0.1 Loading data\n",
    "\n",
    "While loading in the data I got a warning: `DtypeWarning: Columns (18,19) have mixed types.Specify dtype option on import or set low_memory=False. interactivity=interactivity, compiler=compiler, result=result)`"
   ]
  },
  {
   "cell_type": "code",
   "execution_count": 2,
   "metadata": {},
   "outputs": [
    {
     "name": "stderr",
     "output_type": "stream",
     "text": [
      "C:\\Users\\Nami_Kaneko\\anaconda3\\lib\\site-packages\\IPython\\core\\interactiveshell.py:3063: DtypeWarning: Columns (18,19) have mixed types.Specify dtype option on import or set low_memory=False.\n",
      "  interactivity=interactivity, compiler=compiler, result=result)\n"
     ]
    }
   ],
   "source": [
    "# load in the data\n",
    "azdias = pd.read_csv('data/Udacity_AZDIAS_052018.csv', sep=';')\n",
    "customers = pd.read_csv('data/Udacity_CUSTOMERS_052018.csv', sep=';')\n",
    "\n",
    "attributes_values = pd.read_excel('data/DIAS Attributes - Values 2017.xlsx', header=1)\n",
    "attribuets_desc = pd.read_excel('data/DIAS Information Levels - Attributes 2017.xlsx', header=1)"
   ]
  },
  {
   "cell_type": "markdown",
   "metadata": {},
   "source": [
    "I want to check the shape of the datasets and additional documents."
   ]
  },
  {
   "cell_type": "code",
   "execution_count": 3,
   "metadata": {},
   "outputs": [
    {
     "name": "stdout",
     "output_type": "stream",
     "text": [
      "Azdias shape:  (891221, 366)\n",
      "Customers shape:  (191652, 369)\n",
      "DIAS Attributes shape:  (2258, 5)\n",
      "DIAS Information Levels shape:  (313, 5)\n"
     ]
    }
   ],
   "source": [
    "print('Azdias shape: ', azdias.shape)\n",
    "print('Customers shape: ', customers.shape)\n",
    "print('DIAS Attributes shape: ', attributes_values.shape)\n",
    "print('DIAS Information Levels shape: ', attribuets_desc.shape)"
   ]
  },
  {
   "cell_type": "markdown",
   "metadata": {},
   "source": [
    "The description to the project mentioned that the \"CUSTOMERS\" file contains three extra columns. Thus, I want to check if this true."
   ]
  },
  {
   "cell_type": "code",
   "execution_count": 4,
   "metadata": {},
   "outputs": [
    {
     "name": "stdout",
     "output_type": "stream",
     "text": [
      "Index(['CUSTOMER_GROUP', 'ONLINE_PURCHASE', 'PRODUCT_GROUP'], dtype='object')\n"
     ]
    }
   ],
   "source": [
    "print(customers.columns.symmetric_difference(azdias.columns))"
   ]
  },
  {
   "cell_type": "markdown",
   "metadata": {},
   "source": [
    "Earlier, I've got a warning, which means that some columns store in mixed-types. Therefore, before diving deeper into the analysis of the datasets, firstly,  I want to validate columns and fix the error. \n",
    "1. Checking data and source of warning"
   ]
  },
  {
   "cell_type": "code",
   "execution_count": 5,
   "metadata": {},
   "outputs": [
    {
     "data": {
      "text/html": [
       "<div>\n",
       "<style scoped>\n",
       "    .dataframe tbody tr th:only-of-type {\n",
       "        vertical-align: middle;\n",
       "    }\n",
       "\n",
       "    .dataframe tbody tr th {\n",
       "        vertical-align: top;\n",
       "    }\n",
       "\n",
       "    .dataframe thead th {\n",
       "        text-align: right;\n",
       "    }\n",
       "</style>\n",
       "<table border=\"1\" class=\"dataframe\">\n",
       "  <thead>\n",
       "    <tr style=\"text-align: right;\">\n",
       "      <th></th>\n",
       "      <th>LNR</th>\n",
       "      <th>AGER_TYP</th>\n",
       "      <th>AKT_DAT_KL</th>\n",
       "      <th>ALTER_HH</th>\n",
       "      <th>ALTER_KIND1</th>\n",
       "      <th>ALTER_KIND2</th>\n",
       "      <th>ALTER_KIND3</th>\n",
       "      <th>ALTER_KIND4</th>\n",
       "      <th>ALTERSKATEGORIE_FEIN</th>\n",
       "      <th>ANZ_HAUSHALTE_AKTIV</th>\n",
       "      <th>...</th>\n",
       "      <th>VK_ZG11</th>\n",
       "      <th>W_KEIT_KIND_HH</th>\n",
       "      <th>WOHNDAUER_2008</th>\n",
       "      <th>WOHNLAGE</th>\n",
       "      <th>ZABEOTYP</th>\n",
       "      <th>PRODUCT_GROUP</th>\n",
       "      <th>CUSTOMER_GROUP</th>\n",
       "      <th>ONLINE_PURCHASE</th>\n",
       "      <th>ANREDE_KZ</th>\n",
       "      <th>ALTERSKATEGORIE_GROB</th>\n",
       "    </tr>\n",
       "  </thead>\n",
       "  <tbody>\n",
       "    <tr>\n",
       "      <th>0</th>\n",
       "      <td>9626</td>\n",
       "      <td>2</td>\n",
       "      <td>1.0</td>\n",
       "      <td>10.0</td>\n",
       "      <td>NaN</td>\n",
       "      <td>NaN</td>\n",
       "      <td>NaN</td>\n",
       "      <td>NaN</td>\n",
       "      <td>10.0</td>\n",
       "      <td>1.0</td>\n",
       "      <td>...</td>\n",
       "      <td>2.0</td>\n",
       "      <td>6.0</td>\n",
       "      <td>9.0</td>\n",
       "      <td>7.0</td>\n",
       "      <td>3</td>\n",
       "      <td>COSMETIC_AND_FOOD</td>\n",
       "      <td>MULTI_BUYER</td>\n",
       "      <td>0</td>\n",
       "      <td>1</td>\n",
       "      <td>4</td>\n",
       "    </tr>\n",
       "    <tr>\n",
       "      <th>1</th>\n",
       "      <td>9628</td>\n",
       "      <td>-1</td>\n",
       "      <td>9.0</td>\n",
       "      <td>11.0</td>\n",
       "      <td>NaN</td>\n",
       "      <td>NaN</td>\n",
       "      <td>NaN</td>\n",
       "      <td>NaN</td>\n",
       "      <td>NaN</td>\n",
       "      <td>NaN</td>\n",
       "      <td>...</td>\n",
       "      <td>3.0</td>\n",
       "      <td>0.0</td>\n",
       "      <td>9.0</td>\n",
       "      <td>NaN</td>\n",
       "      <td>3</td>\n",
       "      <td>FOOD</td>\n",
       "      <td>SINGLE_BUYER</td>\n",
       "      <td>0</td>\n",
       "      <td>1</td>\n",
       "      <td>4</td>\n",
       "    </tr>\n",
       "    <tr>\n",
       "      <th>2</th>\n",
       "      <td>143872</td>\n",
       "      <td>-1</td>\n",
       "      <td>1.0</td>\n",
       "      <td>6.0</td>\n",
       "      <td>NaN</td>\n",
       "      <td>NaN</td>\n",
       "      <td>NaN</td>\n",
       "      <td>NaN</td>\n",
       "      <td>0.0</td>\n",
       "      <td>1.0</td>\n",
       "      <td>...</td>\n",
       "      <td>11.0</td>\n",
       "      <td>6.0</td>\n",
       "      <td>9.0</td>\n",
       "      <td>2.0</td>\n",
       "      <td>3</td>\n",
       "      <td>COSMETIC_AND_FOOD</td>\n",
       "      <td>MULTI_BUYER</td>\n",
       "      <td>0</td>\n",
       "      <td>2</td>\n",
       "      <td>4</td>\n",
       "    </tr>\n",
       "    <tr>\n",
       "      <th>3</th>\n",
       "      <td>143873</td>\n",
       "      <td>1</td>\n",
       "      <td>1.0</td>\n",
       "      <td>8.0</td>\n",
       "      <td>NaN</td>\n",
       "      <td>NaN</td>\n",
       "      <td>NaN</td>\n",
       "      <td>NaN</td>\n",
       "      <td>8.0</td>\n",
       "      <td>0.0</td>\n",
       "      <td>...</td>\n",
       "      <td>2.0</td>\n",
       "      <td>NaN</td>\n",
       "      <td>9.0</td>\n",
       "      <td>7.0</td>\n",
       "      <td>1</td>\n",
       "      <td>COSMETIC</td>\n",
       "      <td>MULTI_BUYER</td>\n",
       "      <td>0</td>\n",
       "      <td>1</td>\n",
       "      <td>4</td>\n",
       "    </tr>\n",
       "    <tr>\n",
       "      <th>4</th>\n",
       "      <td>143874</td>\n",
       "      <td>-1</td>\n",
       "      <td>1.0</td>\n",
       "      <td>20.0</td>\n",
       "      <td>NaN</td>\n",
       "      <td>NaN</td>\n",
       "      <td>NaN</td>\n",
       "      <td>NaN</td>\n",
       "      <td>14.0</td>\n",
       "      <td>7.0</td>\n",
       "      <td>...</td>\n",
       "      <td>4.0</td>\n",
       "      <td>2.0</td>\n",
       "      <td>9.0</td>\n",
       "      <td>3.0</td>\n",
       "      <td>1</td>\n",
       "      <td>FOOD</td>\n",
       "      <td>MULTI_BUYER</td>\n",
       "      <td>0</td>\n",
       "      <td>1</td>\n",
       "      <td>3</td>\n",
       "    </tr>\n",
       "  </tbody>\n",
       "</table>\n",
       "<p>5 rows × 369 columns</p>\n",
       "</div>"
      ],
      "text/plain": [
       "      LNR  AGER_TYP  AKT_DAT_KL  ALTER_HH  ALTER_KIND1  ALTER_KIND2  \\\n",
       "0    9626         2         1.0      10.0          NaN          NaN   \n",
       "1    9628        -1         9.0      11.0          NaN          NaN   \n",
       "2  143872        -1         1.0       6.0          NaN          NaN   \n",
       "3  143873         1         1.0       8.0          NaN          NaN   \n",
       "4  143874        -1         1.0      20.0          NaN          NaN   \n",
       "\n",
       "   ALTER_KIND3  ALTER_KIND4  ALTERSKATEGORIE_FEIN  ANZ_HAUSHALTE_AKTIV  ...  \\\n",
       "0          NaN          NaN                  10.0                  1.0  ...   \n",
       "1          NaN          NaN                   NaN                  NaN  ...   \n",
       "2          NaN          NaN                   0.0                  1.0  ...   \n",
       "3          NaN          NaN                   8.0                  0.0  ...   \n",
       "4          NaN          NaN                  14.0                  7.0  ...   \n",
       "\n",
       "   VK_ZG11  W_KEIT_KIND_HH  WOHNDAUER_2008  WOHNLAGE  ZABEOTYP  \\\n",
       "0      2.0             6.0             9.0       7.0         3   \n",
       "1      3.0             0.0             9.0       NaN         3   \n",
       "2     11.0             6.0             9.0       2.0         3   \n",
       "3      2.0             NaN             9.0       7.0         1   \n",
       "4      4.0             2.0             9.0       3.0         1   \n",
       "\n",
       "       PRODUCT_GROUP  CUSTOMER_GROUP ONLINE_PURCHASE ANREDE_KZ  \\\n",
       "0  COSMETIC_AND_FOOD     MULTI_BUYER               0         1   \n",
       "1               FOOD    SINGLE_BUYER               0         1   \n",
       "2  COSMETIC_AND_FOOD     MULTI_BUYER               0         2   \n",
       "3           COSMETIC     MULTI_BUYER               0         1   \n",
       "4               FOOD     MULTI_BUYER               0         1   \n",
       "\n",
       "  ALTERSKATEGORIE_GROB  \n",
       "0                    4  \n",
       "1                    4  \n",
       "2                    4  \n",
       "3                    4  \n",
       "4                    3  \n",
       "\n",
       "[5 rows x 369 columns]"
      ]
     },
     "execution_count": 5,
     "metadata": {},
     "output_type": "execute_result"
    }
   ],
   "source": [
    "customers.head()"
   ]
  },
  {
   "cell_type": "markdown",
   "metadata": {},
   "source": [
    "I want to know how does columns 18 and 19 look like and if there might be other columns with similar source of risk."
   ]
  },
  {
   "cell_type": "code",
   "execution_count": 6,
   "metadata": {},
   "outputs": [
    {
     "data": {
      "text/html": [
       "<div>\n",
       "<style scoped>\n",
       "    .dataframe tbody tr th:only-of-type {\n",
       "        vertical-align: middle;\n",
       "    }\n",
       "\n",
       "    .dataframe tbody tr th {\n",
       "        vertical-align: top;\n",
       "    }\n",
       "\n",
       "    .dataframe thead th {\n",
       "        text-align: right;\n",
       "    }\n",
       "</style>\n",
       "<table border=\"1\" class=\"dataframe\">\n",
       "  <thead>\n",
       "    <tr style=\"text-align: right;\">\n",
       "      <th></th>\n",
       "      <th>CAMEO_DEU_2015</th>\n",
       "      <th>CAMEO_DEUG_2015</th>\n",
       "      <th>CAMEO_INTL_2015</th>\n",
       "      <th>D19_LETZTER_KAUF_BRANCHE</th>\n",
       "      <th>EINGEFUEGT_AM</th>\n",
       "      <th>OST_WEST_KZ</th>\n",
       "      <th>PRODUCT_GROUP</th>\n",
       "      <th>CUSTOMER_GROUP</th>\n",
       "    </tr>\n",
       "  </thead>\n",
       "  <tbody>\n",
       "    <tr>\n",
       "      <th>0</th>\n",
       "      <td>1A</td>\n",
       "      <td>1</td>\n",
       "      <td>13</td>\n",
       "      <td>D19_UNBEKANNT</td>\n",
       "      <td>1992-02-12 00:00:00</td>\n",
       "      <td>W</td>\n",
       "      <td>COSMETIC_AND_FOOD</td>\n",
       "      <td>MULTI_BUYER</td>\n",
       "    </tr>\n",
       "    <tr>\n",
       "      <th>1</th>\n",
       "      <td>NaN</td>\n",
       "      <td>NaN</td>\n",
       "      <td>NaN</td>\n",
       "      <td>D19_BANKEN_GROSS</td>\n",
       "      <td>NaN</td>\n",
       "      <td>NaN</td>\n",
       "      <td>FOOD</td>\n",
       "      <td>SINGLE_BUYER</td>\n",
       "    </tr>\n",
       "    <tr>\n",
       "      <th>2</th>\n",
       "      <td>5D</td>\n",
       "      <td>5</td>\n",
       "      <td>34</td>\n",
       "      <td>D19_UNBEKANNT</td>\n",
       "      <td>1992-02-10 00:00:00</td>\n",
       "      <td>W</td>\n",
       "      <td>COSMETIC_AND_FOOD</td>\n",
       "      <td>MULTI_BUYER</td>\n",
       "    </tr>\n",
       "    <tr>\n",
       "      <th>3</th>\n",
       "      <td>4C</td>\n",
       "      <td>4</td>\n",
       "      <td>24</td>\n",
       "      <td>D19_NAHRUNGSERGAENZUNG</td>\n",
       "      <td>1992-02-10 00:00:00</td>\n",
       "      <td>W</td>\n",
       "      <td>COSMETIC</td>\n",
       "      <td>MULTI_BUYER</td>\n",
       "    </tr>\n",
       "    <tr>\n",
       "      <th>4</th>\n",
       "      <td>7B</td>\n",
       "      <td>7</td>\n",
       "      <td>41</td>\n",
       "      <td>D19_SCHUHE</td>\n",
       "      <td>1992-02-12 00:00:00</td>\n",
       "      <td>W</td>\n",
       "      <td>FOOD</td>\n",
       "      <td>MULTI_BUYER</td>\n",
       "    </tr>\n",
       "    <tr>\n",
       "      <th>...</th>\n",
       "      <td>...</td>\n",
       "      <td>...</td>\n",
       "      <td>...</td>\n",
       "      <td>...</td>\n",
       "      <td>...</td>\n",
       "      <td>...</td>\n",
       "      <td>...</td>\n",
       "      <td>...</td>\n",
       "    </tr>\n",
       "    <tr>\n",
       "      <th>191647</th>\n",
       "      <td>1C</td>\n",
       "      <td>1</td>\n",
       "      <td>14</td>\n",
       "      <td>D19_BANKEN_REST</td>\n",
       "      <td>1992-02-10 00:00:00</td>\n",
       "      <td>W</td>\n",
       "      <td>COSMETIC_AND_FOOD</td>\n",
       "      <td>MULTI_BUYER</td>\n",
       "    </tr>\n",
       "    <tr>\n",
       "      <th>191648</th>\n",
       "      <td>5B</td>\n",
       "      <td>5</td>\n",
       "      <td>32</td>\n",
       "      <td>D19_UNBEKANNT</td>\n",
       "      <td>1997-03-06 00:00:00</td>\n",
       "      <td>W</td>\n",
       "      <td>COSMETIC</td>\n",
       "      <td>SINGLE_BUYER</td>\n",
       "    </tr>\n",
       "    <tr>\n",
       "      <th>191649</th>\n",
       "      <td>4D</td>\n",
       "      <td>4</td>\n",
       "      <td>24</td>\n",
       "      <td>D19_TECHNIK</td>\n",
       "      <td>1992-02-10 00:00:00</td>\n",
       "      <td>W</td>\n",
       "      <td>COSMETIC_AND_FOOD</td>\n",
       "      <td>MULTI_BUYER</td>\n",
       "    </tr>\n",
       "    <tr>\n",
       "      <th>191650</th>\n",
       "      <td>4C</td>\n",
       "      <td>4</td>\n",
       "      <td>24</td>\n",
       "      <td>D19_BANKEN_REST</td>\n",
       "      <td>1992-02-10 00:00:00</td>\n",
       "      <td>W</td>\n",
       "      <td>FOOD</td>\n",
       "      <td>SINGLE_BUYER</td>\n",
       "    </tr>\n",
       "    <tr>\n",
       "      <th>191651</th>\n",
       "      <td>5C</td>\n",
       "      <td>5</td>\n",
       "      <td>33</td>\n",
       "      <td>D19_SCHUHE</td>\n",
       "      <td>1992-02-12 00:00:00</td>\n",
       "      <td>W</td>\n",
       "      <td>COSMETIC_AND_FOOD</td>\n",
       "      <td>MULTI_BUYER</td>\n",
       "    </tr>\n",
       "  </tbody>\n",
       "</table>\n",
       "<p>191652 rows × 8 columns</p>\n",
       "</div>"
      ],
      "text/plain": [
       "       CAMEO_DEU_2015 CAMEO_DEUG_2015 CAMEO_INTL_2015  \\\n",
       "0                  1A               1              13   \n",
       "1                 NaN             NaN             NaN   \n",
       "2                  5D               5              34   \n",
       "3                  4C               4              24   \n",
       "4                  7B               7              41   \n",
       "...               ...             ...             ...   \n",
       "191647             1C               1              14   \n",
       "191648             5B               5              32   \n",
       "191649             4D               4              24   \n",
       "191650             4C               4              24   \n",
       "191651             5C               5              33   \n",
       "\n",
       "       D19_LETZTER_KAUF_BRANCHE        EINGEFUEGT_AM OST_WEST_KZ  \\\n",
       "0                 D19_UNBEKANNT  1992-02-12 00:00:00           W   \n",
       "1              D19_BANKEN_GROSS                  NaN         NaN   \n",
       "2                 D19_UNBEKANNT  1992-02-10 00:00:00           W   \n",
       "3        D19_NAHRUNGSERGAENZUNG  1992-02-10 00:00:00           W   \n",
       "4                    D19_SCHUHE  1992-02-12 00:00:00           W   \n",
       "...                         ...                  ...         ...   \n",
       "191647          D19_BANKEN_REST  1992-02-10 00:00:00           W   \n",
       "191648            D19_UNBEKANNT  1997-03-06 00:00:00           W   \n",
       "191649              D19_TECHNIK  1992-02-10 00:00:00           W   \n",
       "191650          D19_BANKEN_REST  1992-02-10 00:00:00           W   \n",
       "191651               D19_SCHUHE  1992-02-12 00:00:00           W   \n",
       "\n",
       "            PRODUCT_GROUP CUSTOMER_GROUP  \n",
       "0       COSMETIC_AND_FOOD    MULTI_BUYER  \n",
       "1                    FOOD   SINGLE_BUYER  \n",
       "2       COSMETIC_AND_FOOD    MULTI_BUYER  \n",
       "3                COSMETIC    MULTI_BUYER  \n",
       "4                    FOOD    MULTI_BUYER  \n",
       "...                   ...            ...  \n",
       "191647  COSMETIC_AND_FOOD    MULTI_BUYER  \n",
       "191648           COSMETIC   SINGLE_BUYER  \n",
       "191649  COSMETIC_AND_FOOD    MULTI_BUYER  \n",
       "191650               FOOD   SINGLE_BUYER  \n",
       "191651  COSMETIC_AND_FOOD    MULTI_BUYER  \n",
       "\n",
       "[191652 rows x 8 columns]"
      ]
     },
     "execution_count": 6,
     "metadata": {},
     "output_type": "execute_result"
    }
   ],
   "source": [
    "customers[customers.columns[customers.dtypes == 'object']]"
   ]
  },
  {
   "cell_type": "code",
   "execution_count": 7,
   "metadata": {},
   "outputs": [
    {
     "data": {
      "text/plain": [
       "array(['1A', nan, '5D', '4C', '7B', '3B', '1D', '9E', '2D', '4A', '6B',\n",
       "       '9D', '8B', '5C', '9C', '4E', '6C', '8C', '8A', '5B', '9B', '3D',\n",
       "       '2A', '3C', '5F', '7A', '1E', '2C', '7C', '5A', '2B', '6D', '7E',\n",
       "       '5E', '6E', '3A', '9A', '4B', '1C', '1B', '6A', '8D', '7D', '6F',\n",
       "       '4D', 'XX'], dtype=object)"
      ]
     },
     "execution_count": 7,
     "metadata": {},
     "output_type": "execute_result"
    }
   ],
   "source": [
    "customers['CAMEO_DEU_2015'].unique()"
   ]
  },
  {
   "cell_type": "code",
   "execution_count": 8,
   "metadata": {},
   "outputs": [
    {
     "name": "stdout",
     "output_type": "stream",
     "text": [
      "Customers (18, 19): -  Index(['CAMEO_DEUG_2015', 'CAMEO_INTL_2015'], dtype='object')\n",
      "Azdias (18, 19): -  Index(['CAMEO_DEUG_2015', 'CAMEO_INTL_2015'], dtype='object')\n"
     ]
    },
    {
     "data": {
      "text/plain": [
       "CAMEO_DEUG_2015\n",
       "1.0     4280\n",
       "2.0     5910\n",
       "3.0     4805\n",
       "4.0     5606\n",
       "5.0     3042\n",
       "6.0     4709\n",
       "7.0     2680\n",
       "8.0     3333\n",
       "9.0     1661\n",
       "1      12498\n",
       "2      17574\n",
       "3      13585\n",
       "4      16458\n",
       "5       8624\n",
       "6      14008\n",
       "7       7878\n",
       "8       9716\n",
       "9       4731\n",
       "X        126\n",
       "Name: CAMEO_DEUG_2015, dtype: int64"
      ]
     },
     "execution_count": 8,
     "metadata": {},
     "output_type": "execute_result"
    }
   ],
   "source": [
    "print('Customers (18, 19): - ', customers.iloc[:, 18:20].columns)\n",
    "print('Azdias (18, 19): - ', azdias.iloc[:, 18:20].columns)\n",
    "customers.groupby(\"CAMEO_DEUG_2015\")[\"CAMEO_DEUG_2015\"].count()"
   ]
  },
  {
   "cell_type": "markdown",
   "metadata": {},
   "source": [
    "The problem of mixed types in columns is because there is actually a mix of float, int and string values. \n",
    "I assume that int anf float (e.g,: 12.0 and 12) represent the same criterea. Therefore, I will perform formating (float => int, X/XX => NaN)"
   ]
  },
  {
   "cell_type": "code",
   "execution_count": 9,
   "metadata": {},
   "outputs": [
    {
     "data": {
      "text/plain": [
       "CAMEO_INTL_2015\n",
       "12.0      924\n",
       "13.0     1955\n",
       "14.0     4939\n",
       "15.0     2372\n",
       "22.0     1941\n",
       "23.0     1494\n",
       "24.0     4504\n",
       "25.0     2472\n",
       "31.0      681\n",
       "32.0      440\n",
       "33.0      396\n",
       "34.0     1423\n",
       "35.0      553\n",
       "41.0     2859\n",
       "43.0     2476\n",
       "44.0      688\n",
       "45.0     1352\n",
       "51.0     2126\n",
       "52.0      253\n",
       "54.0     1258\n",
       "55.0      920\n",
       "12       2791\n",
       "13       5728\n",
       "14      14708\n",
       "15       6845\n",
       "22       5566\n",
       "23       4276\n",
       "24      13301\n",
       "25       6900\n",
       "31       2050\n",
       "32       1256\n",
       "33       1178\n",
       "34       3945\n",
       "35       1741\n",
       "41       8461\n",
       "43       7158\n",
       "44       2144\n",
       "45       3936\n",
       "51       5987\n",
       "52        770\n",
       "54       3537\n",
       "55       2794\n",
       "XX        126\n",
       "Name: CAMEO_INTL_2015, dtype: int64"
      ]
     },
     "execution_count": 9,
     "metadata": {},
     "output_type": "execute_result"
    }
   ],
   "source": [
    "customers.groupby(\"CAMEO_INTL_2015\")[\"CAMEO_INTL_2015\"].count()"
   ]
  },
  {
   "cell_type": "markdown",
   "metadata": {},
   "source": [
    "Similar situatiation with AZDIAS dataframe."
   ]
  },
  {
   "cell_type": "code",
   "execution_count": 10,
   "metadata": {},
   "outputs": [
    {
     "data": {
      "text/html": [
       "<div>\n",
       "<style scoped>\n",
       "    .dataframe tbody tr th:only-of-type {\n",
       "        vertical-align: middle;\n",
       "    }\n",
       "\n",
       "    .dataframe tbody tr th {\n",
       "        vertical-align: top;\n",
       "    }\n",
       "\n",
       "    .dataframe thead th {\n",
       "        text-align: right;\n",
       "    }\n",
       "</style>\n",
       "<table border=\"1\" class=\"dataframe\">\n",
       "  <thead>\n",
       "    <tr style=\"text-align: right;\">\n",
       "      <th></th>\n",
       "      <th>CAMEO_DEU_2015</th>\n",
       "      <th>CAMEO_DEUG_2015</th>\n",
       "      <th>CAMEO_INTL_2015</th>\n",
       "      <th>D19_LETZTER_KAUF_BRANCHE</th>\n",
       "      <th>EINGEFUEGT_AM</th>\n",
       "      <th>OST_WEST_KZ</th>\n",
       "    </tr>\n",
       "  </thead>\n",
       "  <tbody>\n",
       "    <tr>\n",
       "      <th>0</th>\n",
       "      <td>NaN</td>\n",
       "      <td>NaN</td>\n",
       "      <td>NaN</td>\n",
       "      <td>NaN</td>\n",
       "      <td>NaN</td>\n",
       "      <td>NaN</td>\n",
       "    </tr>\n",
       "    <tr>\n",
       "      <th>1</th>\n",
       "      <td>8A</td>\n",
       "      <td>8</td>\n",
       "      <td>51</td>\n",
       "      <td>NaN</td>\n",
       "      <td>1992-02-10 00:00:00</td>\n",
       "      <td>W</td>\n",
       "    </tr>\n",
       "    <tr>\n",
       "      <th>2</th>\n",
       "      <td>4C</td>\n",
       "      <td>4</td>\n",
       "      <td>24</td>\n",
       "      <td>D19_UNBEKANNT</td>\n",
       "      <td>1992-02-12 00:00:00</td>\n",
       "      <td>W</td>\n",
       "    </tr>\n",
       "    <tr>\n",
       "      <th>3</th>\n",
       "      <td>2A</td>\n",
       "      <td>2</td>\n",
       "      <td>12</td>\n",
       "      <td>D19_UNBEKANNT</td>\n",
       "      <td>1997-04-21 00:00:00</td>\n",
       "      <td>W</td>\n",
       "    </tr>\n",
       "    <tr>\n",
       "      <th>4</th>\n",
       "      <td>6B</td>\n",
       "      <td>6</td>\n",
       "      <td>43</td>\n",
       "      <td>D19_SCHUHE</td>\n",
       "      <td>1992-02-12 00:00:00</td>\n",
       "      <td>W</td>\n",
       "    </tr>\n",
       "    <tr>\n",
       "      <th>...</th>\n",
       "      <td>...</td>\n",
       "      <td>...</td>\n",
       "      <td>...</td>\n",
       "      <td>...</td>\n",
       "      <td>...</td>\n",
       "      <td>...</td>\n",
       "    </tr>\n",
       "    <tr>\n",
       "      <th>891216</th>\n",
       "      <td>7A</td>\n",
       "      <td>7</td>\n",
       "      <td>41</td>\n",
       "      <td>D19_HAUS_DEKO</td>\n",
       "      <td>1992-02-10 00:00:00</td>\n",
       "      <td>W</td>\n",
       "    </tr>\n",
       "    <tr>\n",
       "      <th>891217</th>\n",
       "      <td>9D</td>\n",
       "      <td>9</td>\n",
       "      <td>51</td>\n",
       "      <td>D19_UNBEKANNT</td>\n",
       "      <td>1992-02-10 00:00:00</td>\n",
       "      <td>W</td>\n",
       "    </tr>\n",
       "    <tr>\n",
       "      <th>891218</th>\n",
       "      <td>4C</td>\n",
       "      <td>4</td>\n",
       "      <td>24</td>\n",
       "      <td>D19_BEKLEIDUNG_GEH</td>\n",
       "      <td>1992-02-10 00:00:00</td>\n",
       "      <td>W</td>\n",
       "    </tr>\n",
       "    <tr>\n",
       "      <th>891219</th>\n",
       "      <td>9D</td>\n",
       "      <td>9</td>\n",
       "      <td>51</td>\n",
       "      <td>D19_UNBEKANNT</td>\n",
       "      <td>1992-02-12 00:00:00</td>\n",
       "      <td>W</td>\n",
       "    </tr>\n",
       "    <tr>\n",
       "      <th>891220</th>\n",
       "      <td>6B</td>\n",
       "      <td>6</td>\n",
       "      <td>43</td>\n",
       "      <td>NaN</td>\n",
       "      <td>1992-02-10 00:00:00</td>\n",
       "      <td>W</td>\n",
       "    </tr>\n",
       "  </tbody>\n",
       "</table>\n",
       "<p>891221 rows × 6 columns</p>\n",
       "</div>"
      ],
      "text/plain": [
       "       CAMEO_DEU_2015 CAMEO_DEUG_2015 CAMEO_INTL_2015  \\\n",
       "0                 NaN             NaN             NaN   \n",
       "1                  8A               8              51   \n",
       "2                  4C               4              24   \n",
       "3                  2A               2              12   \n",
       "4                  6B               6              43   \n",
       "...               ...             ...             ...   \n",
       "891216             7A               7              41   \n",
       "891217             9D               9              51   \n",
       "891218             4C               4              24   \n",
       "891219             9D               9              51   \n",
       "891220             6B               6              43   \n",
       "\n",
       "       D19_LETZTER_KAUF_BRANCHE        EINGEFUEGT_AM OST_WEST_KZ  \n",
       "0                           NaN                  NaN         NaN  \n",
       "1                           NaN  1992-02-10 00:00:00           W  \n",
       "2                 D19_UNBEKANNT  1992-02-12 00:00:00           W  \n",
       "3                 D19_UNBEKANNT  1997-04-21 00:00:00           W  \n",
       "4                    D19_SCHUHE  1992-02-12 00:00:00           W  \n",
       "...                         ...                  ...         ...  \n",
       "891216            D19_HAUS_DEKO  1992-02-10 00:00:00           W  \n",
       "891217            D19_UNBEKANNT  1992-02-10 00:00:00           W  \n",
       "891218       D19_BEKLEIDUNG_GEH  1992-02-10 00:00:00           W  \n",
       "891219            D19_UNBEKANNT  1992-02-12 00:00:00           W  \n",
       "891220                      NaN  1992-02-10 00:00:00           W  \n",
       "\n",
       "[891221 rows x 6 columns]"
      ]
     },
     "execution_count": 10,
     "metadata": {},
     "output_type": "execute_result"
    }
   ],
   "source": [
    "azdias[azdias.columns[azdias.dtypes == 'object']]"
   ]
  },
  {
   "cell_type": "code",
   "execution_count": 11,
   "metadata": {},
   "outputs": [],
   "source": [
    "def format_mixed_types(df):\n",
    "    '''This function is created for formating improper \n",
    "    values in columns CAMEO_DEUG_2015 and CAMEO_INTL_2015'''\n",
    "    \n",
    "    cols_nan = ['CAMEO_DEUG_2015', 'CAMEO_INTL_2015', 'CAMEO_DEU_2015']\n",
    "    cols = ['CAMEO_DEUG_2015', 'CAMEO_INTL_2015']\n",
    "    \n",
    "    df[cols_nan] = df[cols_nan].replace({'X': np.nan, 'XX': np.nan})\n",
    "    df[cols] = df[cols].astype(float)\n",
    "\n",
    "    return df"
   ]
  },
  {
   "cell_type": "code",
   "execution_count": 12,
   "metadata": {},
   "outputs": [],
   "source": [
    "customers = format_mixed_types(customers)"
   ]
  },
  {
   "cell_type": "code",
   "execution_count": 13,
   "metadata": {},
   "outputs": [
    {
     "data": {
      "text/plain": [
       "CAMEO_DEUG_2015\n",
       "1.0    16778\n",
       "2.0    23484\n",
       "3.0    18390\n",
       "4.0    22064\n",
       "5.0    11666\n",
       "6.0    18717\n",
       "7.0    10558\n",
       "8.0    13049\n",
       "9.0     6392\n",
       "Name: CAMEO_DEUG_2015, dtype: int64"
      ]
     },
     "execution_count": 13,
     "metadata": {},
     "output_type": "execute_result"
    }
   ],
   "source": [
    "customers.groupby(\"CAMEO_DEUG_2015\")[\"CAMEO_DEUG_2015\"].count()"
   ]
  },
  {
   "cell_type": "markdown",
   "metadata": {},
   "source": [
    "Now we do not have a mixture of different data types, and values from float and int are properly merged. "
   ]
  },
  {
   "cell_type": "code",
   "execution_count": 14,
   "metadata": {},
   "outputs": [
    {
     "data": {
      "text/plain": [
       "CAMEO_INTL_2015\n",
       "12.0     3715\n",
       "13.0     7683\n",
       "14.0    19647\n",
       "15.0     9217\n",
       "22.0     7507\n",
       "23.0     5770\n",
       "24.0    17805\n",
       "25.0     9372\n",
       "31.0     2731\n",
       "32.0     1696\n",
       "33.0     1574\n",
       "34.0     5368\n",
       "35.0     2294\n",
       "41.0    11320\n",
       "43.0     9634\n",
       "44.0     2832\n",
       "45.0     5288\n",
       "51.0     8113\n",
       "52.0     1023\n",
       "54.0     4795\n",
       "55.0     3714\n",
       "Name: CAMEO_INTL_2015, dtype: int64"
      ]
     },
     "execution_count": 14,
     "metadata": {},
     "output_type": "execute_result"
    }
   ],
   "source": [
    "customers.groupby(\"CAMEO_INTL_2015\")[\"CAMEO_INTL_2015\"].count()"
   ]
  },
  {
   "cell_type": "code",
   "execution_count": 15,
   "metadata": {},
   "outputs": [
    {
     "data": {
      "text/plain": [
       "array(['1A', nan, '5D', '4C', '7B', '3B', '1D', '9E', '2D', '4A', '6B',\n",
       "       '9D', '8B', '5C', '9C', '4E', '6C', '8C', '8A', '5B', '9B', '3D',\n",
       "       '2A', '3C', '5F', '7A', '1E', '2C', '7C', '5A', '2B', '6D', '7E',\n",
       "       '5E', '6E', '3A', '9A', '4B', '1C', '1B', '6A', '8D', '7D', '6F',\n",
       "       '4D'], dtype=object)"
      ]
     },
     "execution_count": 15,
     "metadata": {},
     "output_type": "execute_result"
    }
   ],
   "source": [
    "customers['CAMEO_DEU_2015'].unique()"
   ]
  },
  {
   "cell_type": "code",
   "execution_count": 16,
   "metadata": {},
   "outputs": [],
   "source": [
    "azdias = format_mixed_types(azdias)"
   ]
  },
  {
   "cell_type": "markdown",
   "metadata": {},
   "source": [
    "### 0.2 Checking attributes\n",
    "\n",
    "After, we are finished with warning-problem, I would like to have a quick look on the attributes files."
   ]
  },
  {
   "cell_type": "code",
   "execution_count": 17,
   "metadata": {},
   "outputs": [],
   "source": [
    "attribuets_desc.drop(columns=['Unnamed: 0'], inplace=True)\n",
    "attributes_values.drop(columns=['Unnamed: 0'], inplace=True)"
   ]
  },
  {
   "cell_type": "code",
   "execution_count": 18,
   "metadata": {},
   "outputs": [
    {
     "data": {
      "text/html": [
       "<div>\n",
       "<style scoped>\n",
       "    .dataframe tbody tr th:only-of-type {\n",
       "        vertical-align: middle;\n",
       "    }\n",
       "\n",
       "    .dataframe tbody tr th {\n",
       "        vertical-align: top;\n",
       "    }\n",
       "\n",
       "    .dataframe thead th {\n",
       "        text-align: right;\n",
       "    }\n",
       "</style>\n",
       "<table border=\"1\" class=\"dataframe\">\n",
       "  <thead>\n",
       "    <tr style=\"text-align: right;\">\n",
       "      <th></th>\n",
       "      <th>Information level</th>\n",
       "      <th>Attribute</th>\n",
       "      <th>Description</th>\n",
       "      <th>Additional notes</th>\n",
       "    </tr>\n",
       "  </thead>\n",
       "  <tbody>\n",
       "    <tr>\n",
       "      <th>0</th>\n",
       "      <td>NaN</td>\n",
       "      <td>AGER_TYP</td>\n",
       "      <td>best-ager typology</td>\n",
       "      <td>in cooperation with Kantar TNS; the informatio...</td>\n",
       "    </tr>\n",
       "    <tr>\n",
       "      <th>1</th>\n",
       "      <td>Person</td>\n",
       "      <td>ALTERSKATEGORIE_GROB</td>\n",
       "      <td>age through prename analysis</td>\n",
       "      <td>modelled on millions of first name-age-referen...</td>\n",
       "    </tr>\n",
       "    <tr>\n",
       "      <th>2</th>\n",
       "      <td>NaN</td>\n",
       "      <td>ANREDE_KZ</td>\n",
       "      <td>gender</td>\n",
       "      <td>NaN</td>\n",
       "    </tr>\n",
       "    <tr>\n",
       "      <th>3</th>\n",
       "      <td>NaN</td>\n",
       "      <td>CJT_GESAMTTYP</td>\n",
       "      <td>Customer-Journey-Typology relating to the pref...</td>\n",
       "      <td>relating to the preferred information, marketi...</td>\n",
       "    </tr>\n",
       "    <tr>\n",
       "      <th>4</th>\n",
       "      <td>NaN</td>\n",
       "      <td>FINANZ_MINIMALIST</td>\n",
       "      <td>financial typology: low financial interest</td>\n",
       "      <td>Gfk-Typology based on a representative househo...</td>\n",
       "    </tr>\n",
       "  </tbody>\n",
       "</table>\n",
       "</div>"
      ],
      "text/plain": [
       "  Information level             Attribute  \\\n",
       "0               NaN              AGER_TYP   \n",
       "1            Person  ALTERSKATEGORIE_GROB   \n",
       "2               NaN             ANREDE_KZ   \n",
       "3               NaN         CJT_GESAMTTYP   \n",
       "4               NaN     FINANZ_MINIMALIST   \n",
       "\n",
       "                                         Description  \\\n",
       "0                                 best-ager typology   \n",
       "1                      age through prename analysis    \n",
       "2                                             gender   \n",
       "3  Customer-Journey-Typology relating to the pref...   \n",
       "4         financial typology: low financial interest   \n",
       "\n",
       "                                    Additional notes  \n",
       "0  in cooperation with Kantar TNS; the informatio...  \n",
       "1  modelled on millions of first name-age-referen...  \n",
       "2                                                NaN  \n",
       "3  relating to the preferred information, marketi...  \n",
       "4  Gfk-Typology based on a representative househo...  "
      ]
     },
     "execution_count": 18,
     "metadata": {},
     "output_type": "execute_result"
    }
   ],
   "source": [
    "attribuets_desc.head()"
   ]
  },
  {
   "cell_type": "code",
   "execution_count": 19,
   "metadata": {},
   "outputs": [
    {
     "data": {
      "text/html": [
       "<div>\n",
       "<style scoped>\n",
       "    .dataframe tbody tr th:only-of-type {\n",
       "        vertical-align: middle;\n",
       "    }\n",
       "\n",
       "    .dataframe tbody tr th {\n",
       "        vertical-align: top;\n",
       "    }\n",
       "\n",
       "    .dataframe thead th {\n",
       "        text-align: right;\n",
       "    }\n",
       "</style>\n",
       "<table border=\"1\" class=\"dataframe\">\n",
       "  <thead>\n",
       "    <tr style=\"text-align: right;\">\n",
       "      <th></th>\n",
       "      <th>Attribute</th>\n",
       "      <th>Description</th>\n",
       "      <th>Value</th>\n",
       "      <th>Meaning</th>\n",
       "    </tr>\n",
       "  </thead>\n",
       "  <tbody>\n",
       "    <tr>\n",
       "      <th>0</th>\n",
       "      <td>AGER_TYP</td>\n",
       "      <td>best-ager typology</td>\n",
       "      <td>-1</td>\n",
       "      <td>unknown</td>\n",
       "    </tr>\n",
       "    <tr>\n",
       "      <th>1</th>\n",
       "      <td>NaN</td>\n",
       "      <td>NaN</td>\n",
       "      <td>0</td>\n",
       "      <td>no classification possible</td>\n",
       "    </tr>\n",
       "    <tr>\n",
       "      <th>2</th>\n",
       "      <td>NaN</td>\n",
       "      <td>NaN</td>\n",
       "      <td>1</td>\n",
       "      <td>passive elderly</td>\n",
       "    </tr>\n",
       "    <tr>\n",
       "      <th>3</th>\n",
       "      <td>NaN</td>\n",
       "      <td>NaN</td>\n",
       "      <td>2</td>\n",
       "      <td>cultural elderly</td>\n",
       "    </tr>\n",
       "    <tr>\n",
       "      <th>4</th>\n",
       "      <td>NaN</td>\n",
       "      <td>NaN</td>\n",
       "      <td>3</td>\n",
       "      <td>experience-driven elderly</td>\n",
       "    </tr>\n",
       "  </tbody>\n",
       "</table>\n",
       "</div>"
      ],
      "text/plain": [
       "  Attribute         Description Value                     Meaning\n",
       "0  AGER_TYP  best-ager typology    -1                     unknown\n",
       "1       NaN                 NaN     0  no classification possible\n",
       "2       NaN                 NaN     1             passive elderly\n",
       "3       NaN                 NaN     2            cultural elderly\n",
       "4       NaN                 NaN     3   experience-driven elderly"
      ]
     },
     "execution_count": 19,
     "metadata": {},
     "output_type": "execute_result"
    }
   ],
   "source": [
    "attributes_values.head()"
   ]
  },
  {
   "cell_type": "markdown",
   "metadata": {},
   "source": [
    "From the observations I may conclude that those dataframes contain descriptions for each column name in AZDIAS and CUSTOMERS files as well as the range of the proper values."
   ]
  },
  {
   "cell_type": "code",
   "execution_count": 20,
   "metadata": {},
   "outputs": [
    {
     "data": {
      "text/html": [
       "<div>\n",
       "<style scoped>\n",
       "    .dataframe tbody tr th:only-of-type {\n",
       "        vertical-align: middle;\n",
       "    }\n",
       "\n",
       "    .dataframe tbody tr th {\n",
       "        vertical-align: top;\n",
       "    }\n",
       "\n",
       "    .dataframe thead th {\n",
       "        text-align: right;\n",
       "    }\n",
       "</style>\n",
       "<table border=\"1\" class=\"dataframe\">\n",
       "  <thead>\n",
       "    <tr style=\"text-align: right;\">\n",
       "      <th></th>\n",
       "      <th>Attribute</th>\n",
       "      <th>Description</th>\n",
       "      <th>Value</th>\n",
       "      <th>Meaning</th>\n",
       "    </tr>\n",
       "  </thead>\n",
       "  <tbody>\n",
       "    <tr>\n",
       "      <th>0</th>\n",
       "      <td>AGER_TYP</td>\n",
       "      <td>best-ager typology</td>\n",
       "      <td>-1</td>\n",
       "      <td>unknown</td>\n",
       "    </tr>\n",
       "    <tr>\n",
       "      <th>1</th>\n",
       "      <td>AGER_TYP</td>\n",
       "      <td>best-ager typology</td>\n",
       "      <td>0</td>\n",
       "      <td>no classification possible</td>\n",
       "    </tr>\n",
       "    <tr>\n",
       "      <th>2</th>\n",
       "      <td>AGER_TYP</td>\n",
       "      <td>best-ager typology</td>\n",
       "      <td>1</td>\n",
       "      <td>passive elderly</td>\n",
       "    </tr>\n",
       "    <tr>\n",
       "      <th>3</th>\n",
       "      <td>AGER_TYP</td>\n",
       "      <td>best-ager typology</td>\n",
       "      <td>2</td>\n",
       "      <td>cultural elderly</td>\n",
       "    </tr>\n",
       "    <tr>\n",
       "      <th>4</th>\n",
       "      <td>AGER_TYP</td>\n",
       "      <td>best-ager typology</td>\n",
       "      <td>3</td>\n",
       "      <td>experience-driven elderly</td>\n",
       "    </tr>\n",
       "    <tr>\n",
       "      <th>...</th>\n",
       "      <td>...</td>\n",
       "      <td>...</td>\n",
       "      <td>...</td>\n",
       "      <td>...</td>\n",
       "    </tr>\n",
       "    <tr>\n",
       "      <th>2253</th>\n",
       "      <td>ZABEOTYP</td>\n",
       "      <td>typification of energy consumers</td>\n",
       "      <td>2</td>\n",
       "      <td>smart</td>\n",
       "    </tr>\n",
       "    <tr>\n",
       "      <th>2254</th>\n",
       "      <td>ZABEOTYP</td>\n",
       "      <td>typification of energy consumers</td>\n",
       "      <td>3</td>\n",
       "      <td>fair supplied</td>\n",
       "    </tr>\n",
       "    <tr>\n",
       "      <th>2255</th>\n",
       "      <td>ZABEOTYP</td>\n",
       "      <td>typification of energy consumers</td>\n",
       "      <td>4</td>\n",
       "      <td>price driven</td>\n",
       "    </tr>\n",
       "    <tr>\n",
       "      <th>2256</th>\n",
       "      <td>ZABEOTYP</td>\n",
       "      <td>typification of energy consumers</td>\n",
       "      <td>5</td>\n",
       "      <td>seeking orientation</td>\n",
       "    </tr>\n",
       "    <tr>\n",
       "      <th>2257</th>\n",
       "      <td>ZABEOTYP</td>\n",
       "      <td>typification of energy consumers</td>\n",
       "      <td>6</td>\n",
       "      <td>indifferent</td>\n",
       "    </tr>\n",
       "  </tbody>\n",
       "</table>\n",
       "<p>2258 rows × 4 columns</p>\n",
       "</div>"
      ],
      "text/plain": [
       "     Attribute                       Description Value  \\\n",
       "0     AGER_TYP                best-ager typology    -1   \n",
       "1     AGER_TYP                best-ager typology     0   \n",
       "2     AGER_TYP                best-ager typology     1   \n",
       "3     AGER_TYP                best-ager typology     2   \n",
       "4     AGER_TYP                best-ager typology     3   \n",
       "...        ...                               ...   ...   \n",
       "2253  ZABEOTYP  typification of energy consumers     2   \n",
       "2254  ZABEOTYP  typification of energy consumers     3   \n",
       "2255  ZABEOTYP  typification of energy consumers     4   \n",
       "2256  ZABEOTYP  typification of energy consumers     5   \n",
       "2257  ZABEOTYP  typification of energy consumers     6   \n",
       "\n",
       "                         Meaning  \n",
       "0                        unknown  \n",
       "1     no classification possible  \n",
       "2                passive elderly  \n",
       "3               cultural elderly  \n",
       "4      experience-driven elderly  \n",
       "...                          ...  \n",
       "2253                       smart  \n",
       "2254               fair supplied  \n",
       "2255                price driven  \n",
       "2256         seeking orientation  \n",
       "2257                 indifferent  \n",
       "\n",
       "[2258 rows x 4 columns]"
      ]
     },
     "execution_count": 20,
     "metadata": {},
     "output_type": "execute_result"
    }
   ],
   "source": [
    "attributes_values['Attribute'] = attributes_values['Attribute'].ffill()\n",
    "attributes_values['Description'] = attributes_values['Description'].ffill()\n",
    "attributes_values"
   ]
  },
  {
   "cell_type": "markdown",
   "metadata": {},
   "source": [
    "At this point, I want to check what is common for all given datafiles."
   ]
  },
  {
   "cell_type": "code",
   "execution_count": 21,
   "metadata": {},
   "outputs": [
    {
     "name": "stdout",
     "output_type": "stream",
     "text": [
      "No of columns in CUSTOMESRS:  369\n",
      "No of columns in AZDIAS:  366\n",
      "No of columns in Attributes description:  313\n",
      "No of columns in Attributes values:  314\n",
      "No of columns in common:  264\n"
     ]
    }
   ],
   "source": [
    "customers_unique = set(list(customers.columns))\n",
    "azdias_unique = set(list(azdias.columns))\n",
    "attribuets_desc_unique = set(list(attribuets_desc.Attribute))\n",
    "attributes_values_unique = set(list(attributes_values.Attribute))\n",
    "\n",
    "print('No of columns in CUSTOMESRS: ', len(customers_unique))\n",
    "print('No of columns in AZDIAS: ', len(azdias_unique))\n",
    "print('No of columns in Attributes description: ', len(attribuets_desc_unique))\n",
    "print('No of columns in Attributes values: ', len(attributes_values_unique))\n",
    "\n",
    "common = customers_unique & azdias_unique & attribuets_desc_unique\n",
    "print('No of columns in common: ', len(common))"
   ]
  },
  {
   "cell_type": "markdown",
   "metadata": {},
   "source": [
    "### 0.3  Missing values\n",
    "\n",
    "While observing the Attributes values, CUSTOMERS and AZDIAS dataframes I have mentioned that by now there are 3 types of the missing data:\n",
    "1. NaN that are already present in the dataframe\n",
    "2. X and XX values in columns 18 and 19, that we have already handeled\n",
    "3. In the `DIAS Attributes - Values 2017.xlsx` file in the column `Value` there are corresponding encoding for the `unknown` values\n",
    "\n",
    "Therefore, I want to know all encoding for the unknown vlues of ecah column of dataset. For this purpose I have created the dictionary, where key is name of the column and the value is an unknown encoding. After, I retrieved all necessary information,I can perform missing value replacement (for each entry in dictionary I will check dataframe where column equals key and if such column contains values such as value of the dictionary under current key I will replace this value of the dataframe with numpy.nan."
   ]
  },
  {
   "cell_type": "code",
   "execution_count": 22,
   "metadata": {},
   "outputs": [
    {
     "name": "stdout",
     "output_type": "stream",
     "text": [
      "{'AGER_TYP': [-1], 'ALTERSKATEGORIE_GROB': [-1, 0], 'ALTER_HH': [0], 'ANREDE_KZ': [-1, 0], 'BALLRAUM': [-1], 'BIP_FLAG': [-1], 'CAMEO_DEUG_2015': [-1], 'CAMEO_DEUINTL_2015': [-1], 'CJT_GESAMTTYP': [0], 'D19_KK_KUNDENTYP': [-1], 'EWDICHTE': [-1], 'FINANZTYP': [-1], 'FINANZ_ANLEGER': [-1], 'FINANZ_HAUSBAUER': [-1], 'FINANZ_MINIMALIST': [-1], 'FINANZ_SPARER': [-1], 'FINANZ_UNAUFFAELLIGER': [-1], 'FINANZ_VORSORGER': [-1], 'GEBAEUDETYP': [-1, 0], 'GEOSCORE_KLS7': [-1, 0], 'HAUSHALTSSTRUKTUR': [-1, 0], 'HEALTH_TYP': [-1], 'HH_EINKOMMEN_SCORE': [-1, 0], 'INNENSTADT': [-1], 'KBA05_ALTER1': [-1, 9], 'KBA05_ALTER2': [-1, 9], 'KBA05_ALTER3': [-1, 9], 'KBA05_ALTER4': [-1, 9], 'KBA05_ANHANG': [-1, 9], 'KBA05_ANTG1': [-1], 'KBA05_ANTG2': [-1], 'KBA05_ANTG3': [-1], 'KBA05_ANTG4': [-1], 'KBA05_AUTOQUOT': [-1, 9], 'KBA05_BAUMAX': [-1, 0], 'KBA05_CCM1': [-1, 9], 'KBA05_CCM2': [-1, 9], 'KBA05_CCM3': [-1, 9], 'KBA05_CCM4': [-1, 9], 'KBA05_DIESEL': [-1, 9], 'KBA05_FRAU': [-1, 9], 'KBA05_GBZ': [-1, 0], 'KBA05_HERST1': [-1, 9], 'KBA05_HERST2': [-1, 9], 'KBA05_HERST3': [-1, 9], 'KBA05_HERST4': [-1, 9], 'KBA05_HERST5': [-1, 9], 'KBA05_HERSTTEMP': [-1, 9], 'KBA05_KRSAQUOT': [-1, 9], 'KBA05_KRSHERST1': [-1, 9], 'KBA05_KRSHERST2': [-1, 9], 'KBA05_KRSHERST3': [-1, 9], 'KBA05_KRSKLEIN': [-1, 9], 'KBA05_KRSOBER': [-1, 9], 'KBA05_KRSVAN': [-1, 9], 'KBA05_KRSZUL': [-1, 9], 'KBA05_KW1': [-1, 9], 'KBA05_KW2': [-1, 9], 'KBA05_KW3': [-1, 9], 'KBA05_MAXAH': [-1, 9], 'KBA05_MAXBJ': [-1, 9], 'KBA05_MAXHERST': [-1, 9], 'KBA05_MAXSEG': [-1, 9], 'KBA05_MAXVORB': [-1, 9], 'KBA05_MOD1': [-1, 9], 'KBA05_MOD2': [-1, 9], 'KBA05_MOD3': [-1, 9], 'KBA05_MOD4': [-1, 9], 'KBA05_MOD8': [-1, 9], 'KBA05_MODTEMP': [-1, 9], 'KBA05_MOTOR': [-1, 9], 'KBA05_MOTRAD': [-1, 9], 'KBA05_SEG1': [-1, 9], 'KBA05_SEG10': [-1, 9], 'KBA05_SEG2': [-1, 9], 'KBA05_SEG3': [-1, 9], 'KBA05_SEG4': [-1, 9], 'KBA05_SEG5': [-1, 9], 'KBA05_SEG6': [-1, 9], 'KBA05_SEG7': [-1, 9], 'KBA05_SEG8': [-1, 9], 'KBA05_SEG9': [-1, 9], 'KBA05_VORB0': [-1, 9], 'KBA05_VORB1': [-1, 9], 'KBA05_VORB2': [-1, 9], 'KBA05_ZUL1': [-1, 9], 'KBA05_ZUL2': [-1, 9], 'KBA05_ZUL3': [-1, 9], 'KBA05_ZUL4': [-1, 9], 'KBA13_ALTERHALTER_30': [-1], 'KBA13_ALTERHALTER_45': [-1], 'KBA13_ALTERHALTER_60': [-1], 'KBA13_ALTERHALTER_61': [-1], 'KBA13_AUDI': [-1], 'KBA13_AUTOQUOTE': [-1], 'KBA13_BJ_1999': [-1], 'KBA13_BJ_2000': [-1], 'KBA13_BJ_2004': [-1], 'KBA13_BJ_2006': [-1], 'KBA13_BJ_2008': [-1], 'KBA13_BJ_2009': [-1], 'KBA13_BMW': [-1], 'KBA13_CCM_1000': [-1], 'KBA13_CCM_1200': [-1], 'KBA13_CCM_1400': [-1], 'KBA13_CCM_0_1400': [-1], 'KBA13_CCM_1500': [-1], 'KBA13_CCM_1400_2500': [-1], 'KBA13_CCM_1600': [-1], 'KBA13_CCM_1800': [-1], 'KBA13_CCM_2000': [-1], 'KBA13_CCM_2500': [-1], 'KBA13_CCM_2501': [-1], 'KBA13_CCM_3000': [-1], 'KBA13_CCM_3001': [-1], 'KBA13_FAB_ASIEN': [-1], 'KBA13_FAB_SONSTIGE': [-1], 'KBA13_FIAT': [-1], 'KBA13_FORD': [-1], 'KBA13_HALTER_20': [-1], 'KBA13_HALTER_25': [-1], 'KBA13_HALTER_30': [-1], 'KBA13_HALTER_35': [-1], 'KBA13_HALTER_40': [-1], 'KBA13_HALTER_45': [-1], 'KBA13_HALTER_50': [-1], 'KBA13_HALTER_55': [-1], 'KBA13_HALTER_60': [-1], 'KBA13_HALTER_65': [-1], 'KBA13_HALTER_66': [-1], 'KBA13_HERST_ASIEN': [-1], 'KBA13_HERST_AUDI_VW': [-1], 'KBA13_HERST_BMW_BENZ': [-1], 'KBA13_HERST_EUROPA': [-1], 'KBA13_HERST_FORD_OPEL': [-1], 'KBA13_HERST_SONST': [-1], 'KBA13_KMH_110': [-1], 'KBA13_KMH_140': [-1], 'KBA13_KMH_180': [-1], 'KBA13_KMH_0_140': [-1], 'KBA13_KMH_140_210': [-1], 'KBA13_KMH_211': [-1], 'KBA13_KMH_250': [-1], 'KBA13_KMH_251': [-1], 'KBA13_KRSAQUOT': [-1], 'KBA13_KRSHERST_AUDI_VW': [-1], 'KBA13_KRSHERST_BMW_BENZ': [-1], 'KBA13_KRSHERST_FORD_OPEL': [-1], 'KBA13_KRSSEG_KLEIN': [-1], 'KBA13_KRSSEG_OBER': [-1], 'KBA13_KRSSEG_VAN': [-1], 'KBA13_KRSZUL_NEU': [-1], 'KBA13_KW_30': [-1], 'KBA13_KW_40': [-1], 'KBA13_KW_50': [-1], 'KBA13_KW_60': [-1], 'KBA13_KW_0_60': [-1], 'KBA13_KW_70': [-1], 'KBA13_KW_61_120': [-1], 'KBA13_KW_80': [-1], 'KBA13_KW_90': [-1], 'KBA13_KW_110': [-1], 'KBA13_KW_120': [-1], 'KBA13_KW_121': [-1], 'KBA13_MAZDA': [-1], 'KBA13_MERCEDES': [-1], 'KBA13_MOTOR': [-1], 'KBA13_NISSAN': [-1], 'KBA13_OPEL': [-1], 'KBA13_PEUGEOT': [-1], 'KBA13_RENAULT': [-1], 'KBA13_SEG_GELAENDEWAGEN': [-1], 'KBA13_SEG_GROSSRAUMVANS': [-1], 'KBA13_SEG_KLEINST': [-1], 'KBA13_SEG_KLEINWAGEN': [-1], 'KBA13_SEG_KOMPAKTKLASSE': [-1], 'KBA13_SEG_MINIVANS': [-1], 'KBA13_SEG_MINIWAGEN': [-1], 'KBA13_SEG_MITTELKLASSE': [-1], 'KBA13_SEG_OBEREMITTELKLASSE': [-1], 'KBA13_SEG_OBERKLASSE': [-1], 'KBA13_SEG_SONSTIGE': [-1], 'KBA13_SEG_SPORTWAGEN': [-1], 'KBA13_SEG_UTILITIES': [-1], 'KBA13_SEG_VAN': [-1], 'KBA13_SEG_WOHNMOBILE': [-1], 'KBA13_SITZE_4': [-1], 'KBA13_SITZE_5': [-1], 'KBA13_SITZE_6': [-1], 'KBA13_TOYOTA': [-1], 'KBA13_VORB_0': [-1], 'KBA13_VORB_1': [-1], 'KBA13_VORB_1_2': [-1], 'KBA13_VORB_2': [-1], 'KBA13_VORB_3': [-1], 'KBA13_VW': [-1], 'KKK': [-1, 0], 'NATIONALITAET_KZ': [-1, 0], 'ORTSGR_KLS9': [-1], 'OST_WEST_KZ': [-1], 'PLZ8_ANTG1': [-1], 'PLZ8_ANTG2': [-1], 'PLZ8_ANTG3': [-1], 'PLZ8_ANTG4': [-1], 'PLZ8_GBZ': [-1], 'PLZ8_HHZ': [-1], 'PRAEGENDE_JUGENDJAHRE': [-1, 0], 'REGIOTYP': [-1, 0], 'RELAT_AB': [-1, 9], 'RETOURTYP_BK_S': [0], 'SEMIO_DOM': [-1, 9], 'SEMIO_ERL': [-1, 9], 'SEMIO_FAM': [-1, 9], 'SEMIO_KAEM': [-1, 9], 'SEMIO_KRIT': [-1, 9], 'SEMIO_KULT': [-1, 9], 'SEMIO_LUST': [-1, 9], 'SEMIO_MAT': [-1, 9], 'SEMIO_PFLICHT': [-1, 9], 'SEMIO_RAT': [-1, 9], 'SEMIO_REL': [-1, 9], 'SEMIO_SOZ': [-1, 9], 'SEMIO_TRADV': [-1, 9], 'SEMIO_VERT': [-1, 9], 'SHOPPER_TYP': [-1], 'SOHO_FLAG': [-1], 'TITEL_KZ': [-1, 0], 'VERS_TYP': [-1], 'WOHNDAUER_2008': [-1, 0], 'WOHNLAGE': [-1], 'WACHSTUMSGEBIET_NB': [-1, 0], 'W_KEIT_KIND_HH': [-1, 0], 'ZABEOTYP': [-1, 9]}\n"
     ]
    }
   ],
   "source": [
    "'''This dictionary stores the encoding values of the unknowns for each column of the dataset'''\n",
    "dict_of_unknown_names = {}\n",
    "for i, row in attributes_values.iterrows():\n",
    "    if \"unknown\" in str(row['Meaning']):\n",
    "        dict_of_unknown_names[row['Attribute']] = [int(num) for num in str(row['Value']).split(', ')]\n",
    "print(dict_of_unknown_names)"
   ]
  },
  {
   "cell_type": "code",
   "execution_count": 23,
   "metadata": {},
   "outputs": [],
   "source": [
    "def replace_unknown_with_nan(df, dictionary):\n",
    "    '''This function accept a dataframe which is \n",
    "    going to be check for the missing values accorfing \n",
    "    to the dictionary and if such exists it will be replaced with numpy.nan.'''\n",
    "    for key, value in dictionary.items():\n",
    "        #print(key, value)\n",
    "        if key in df.columns:\n",
    "            for i in range(0, len(value)):\n",
    "                df.loc[df[key] == value[i], key] = np.nan\n",
    "\n",
    "filtered_customers = customers.copy()\n",
    "filtered_azdias = azdias.copy()\n",
    "replace_unknown_with_nan(filtered_customers, dict_of_unknown_names)\n",
    "replace_unknown_with_nan(filtered_azdias, dict_of_unknown_names)\n"
   ]
  },
  {
   "cell_type": "markdown",
   "metadata": {},
   "source": [
    "Now, we will have a look on quantity of NaN values before and after the implementation of the replace_unknown_with_nan()."
   ]
  },
  {
   "cell_type": "code",
   "execution_count": 24,
   "metadata": {},
   "outputs": [
    {
     "name": "stdout",
     "output_type": "stream",
     "text": [
      "Pre-filtered Cusmomer df, no of NaN values:  13864900\n",
      "Post-filtered Cusmomer df, no of actual NaN values:  14488847\n",
      "Pre-filtered Azdias df, no of NaN values:  33494042\n",
      "Post-filtered Azdias df, no of actual NaN values:  37088636\n"
     ]
    }
   ],
   "source": [
    "print('Pre-filtered Cusmomer df, no of NaN values: ',customers.isna().sum().sum())\n",
    "print('Post-filtered Cusmomer df, no of actual NaN values: ', filtered_customers.isna().sum().sum())\n",
    "\n",
    "print('Pre-filtered Azdias df, no of NaN values: ', azdias.isna().sum().sum())\n",
    "print('Post-filtered Azdias df, no of actual NaN values: ', filtered_azdias.isna().sum().sum())\n",
    "#filtered_customers.head()"
   ]
  },
  {
   "cell_type": "code",
   "execution_count": 25,
   "metadata": {},
   "outputs": [],
   "source": [
    "def get_unique_values(df):\n",
    "    dict_unique_values = {}\n",
    "    for col in df.columns:\n",
    "        if col != \"LNR\":\n",
    "            dict_unique_values[col] = df[col].unique()\n",
    "            #print(f'{col} unique vals: {df[col].unique()}')\n",
    "    return dict_unique_values"
   ]
  },
  {
   "cell_type": "code",
   "execution_count": 26,
   "metadata": {},
   "outputs": [],
   "source": [
    "def get_attributes_range():\n",
    "    dict_of_attr = {}\n",
    "    for i, row in attributes_values.iterrows():\n",
    "        #print(row['Attribute'])\n",
    "        if row['Attribute'] in dict_of_attr:\n",
    "            dict_of_attr[row['Attribute']].append(row['Value'])\n",
    "        else:\n",
    "            dict_of_attr[row['Attribute']] = [row['Value']]\n",
    "    #print(dict_of_attr)\n",
    "    return dict_of_attr"
   ]
  },
  {
   "cell_type": "code",
   "execution_count": 27,
   "metadata": {},
   "outputs": [],
   "source": [
    "azdias_unique_range = get_unique_values(filtered_azdias)"
   ]
  },
  {
   "cell_type": "code",
   "execution_count": 28,
   "metadata": {},
   "outputs": [
    {
     "name": "stdout",
     "output_type": "stream",
     "text": [
      "{'AGER_TYP': array([nan,  2.,  3.,  0.,  1.]), 'AKT_DAT_KL': array([nan,  9.,  1.,  5.,  8.,  7.,  6.,  4.,  3.,  2.]), 'ALTER_HH': array([nan, 17., 13., 20., 10., 14., 16., 21., 11., 19., 15.,  9., 18.,\n",
      "        8.,  7., 12.,  4.,  3.,  6.,  5.,  2.,  1.]), 'ALTER_KIND1': array([nan, 17., 10., 18., 13., 16., 11.,  6.,  8.,  9., 15., 14.,  7.,\n",
      "       12.,  4.,  3.,  5.,  2.]), 'ALTER_KIND2': array([nan, 13.,  8., 12., 10.,  7., 16., 15., 14., 17.,  5.,  9., 18.,\n",
      "       11.,  6.,  4.,  3.,  2.]), 'ALTER_KIND3': array([nan, 10., 18., 17., 16.,  8., 15.,  9., 12., 13., 14., 11.,  7.,\n",
      "        5.,  6.,  4.]), 'ALTER_KIND4': array([nan, 10.,  9., 16., 14., 13., 11., 18., 17., 15.,  8., 12.,  7.]), 'ALTERSKATEGORIE_FEIN': array([nan, 21., 17., 13., 14., 10., 16., 20., 11., 19., 15., 18.,  9.,\n",
      "       22., 12.,  0.,  8.,  7., 23.,  4., 24.,  6.,  3.,  2.,  5., 25.,\n",
      "        1.]), 'ANZ_HAUSHALTE_AKTIV': array([ nan,  11.,  10.,   1.,   3.,   5.,   4.,   6.,   2.,   9.,   0.,\n",
      "        14.,  13.,   8.,   7.,  44.,  25.,  36.,  16., 272.,  33.,  15.,\n",
      "        12.,  22.,  21.,  20.,  67.,  23.,  18.,  27.,  24.,  31.,  39.,\n",
      "        19.,  30.,  17.,  29.,  61.,  54.,  88.,  49.,  60.,  38.,  34.,\n",
      "        48.,  35.,  62.,  26.,  45.,  42.,  28.,  77.,  47.,  50., 236.,\n",
      "       137.,  43.,  52.,  41.,  76.,  63.,  32.,  40.,  37.,  59.,  53.,\n",
      "        57., 118.,  66.,  95.,  78.,  70.,  46., 185.,  73., 154.,  80.,\n",
      "       102.,  92., 126.,  94.,  71.,  68.,  81.,  69., 121., 258.,  58.,\n",
      "        86., 124.,  85.,  90., 128.,  51.,  72.,  64.,  56.,  83., 150.,\n",
      "       259.,  91., 160., 134., 169., 246.,  82., 114., 183., 116.,  74.,\n",
      "       143.,  99., 216.,  98., 125., 112., 123.,  55., 120.,  75., 141.,\n",
      "       103.,  87.,  89., 223.,  93., 179., 135., 149.,  97., 101., 110.,\n",
      "        79., 111., 109.,  65.,  84., 367., 162., 195., 107., 119., 331.,\n",
      "       122., 161., 157., 175., 177., 136., 104., 316., 127., 100., 180.,\n",
      "       155., 133., 178., 176., 108., 353., 131., 130.,  96., 256., 117.,\n",
      "       146., 211., 199., 140., 200., 106., 285., 263., 314., 253., 163.,\n",
      "       377., 171., 148., 191., 243., 153., 145., 174., 172., 190., 142.,\n",
      "       317., 244., 189., 286., 105., 170., 215., 321., 113., 115., 156.,\n",
      "       129., 242., 132., 280., 159., 138., 158., 267., 151., 164., 187.,\n",
      "       206., 266., 265., 209., 196., 139., 193., 184., 210., 260., 366.,\n",
      "       194., 318., 344., 277., 595., 197., 247., 165., 283., 326., 181.,\n",
      "       186., 438., 222., 144., 378., 237., 152., 208., 274., 430., 202.,\n",
      "       214., 231., 219., 225., 230., 198., 224., 333., 168., 221., 523.,\n",
      "       254., 305., 166., 252., 445., 147., 301., 213., 536., 220., 249.,\n",
      "       290., 515., 276., 241., 204., 250., 218., 226., 201., 240., 404.,\n",
      "       348., 328., 228., 304., 167., 346., 205., 207., 293., 255., 307.,\n",
      "       414., 311., 347., 379., 395., 229., 232.]), 'ANZ_HH_TITEL': array([nan,  0.,  1.,  5.,  2.,  3.,  7.,  4.,  6.,  9., 15., 14.,  8.,\n",
      "       11., 10., 12., 13., 20., 16., 17., 23., 18.]), 'ANZ_KINDER': array([nan,  0.,  1.,  2.,  3.,  4.,  5.,  6.,  9.,  7., 11.,  8.]), 'ANZ_PERSONEN': array([nan,  2.,  1.,  0.,  4.,  3.,  5.,  7.,  6.,  8., 12.,  9., 21.,\n",
      "       10., 13., 11., 14., 45., 20., 31., 29., 37., 16., 22., 15., 23.,\n",
      "       18., 35., 17., 40., 38.]), 'ANZ_STATISTISCHE_HAUSHALTE': array([ nan,  12.,   7.,   2.,   3.,   5.,   6.,   1.,  14.,   4.,  11.,\n",
      "        13.,  30.,  22.,  36., 244.,  10.,  32.,   8.,   9.,  18.,  17.,\n",
      "        16.,  67.,  19.,  15.,  26.,  20.,  23.,  33.,  34.,  68.,  53.,\n",
      "        21.,  42.,  57.,  28.,  25.,  60.,  35.,  29.,  43.,  64.,  27.,\n",
      "        46.,  24.,  48.,  31.,  56.,  37., 243., 157.,  39.,  40.,  71.,\n",
      "        63.,  38.,  44.,  50., 101.,  66.,  41.,  81.,  47., 192., 131.,\n",
      "       149.,  74.,  84.,  80., 137.,  45.,  94.,  65.,  54.,  87.,  69.,\n",
      "       125.,  61.,  82.,  73.,  72.,  86., 292.,  70.,  83.,  91., 112.,\n",
      "        58.,  51.,  75.,  52.,  90., 140.,  49., 212.,  79., 152., 142.,\n",
      "       166., 251.,  99., 107.,  76., 173.,  89., 138.,  92., 154., 115.,\n",
      "       100.,  55., 116.,  88., 113., 162.,  95., 168.,  62.,  97., 110.,\n",
      "       127., 102.,  93., 103.,  78., 111., 114.,  77.,  98., 365., 146.,\n",
      "       109.,  59., 108., 289., 130.,  85., 119., 159., 183., 117., 303.,\n",
      "        96., 124., 163., 123., 122., 156., 155.,   0., 319., 104., 223.,\n",
      "       105., 128., 217., 129., 170., 218., 367., 253., 132., 328., 126.,\n",
      "       193., 133., 153., 118., 121., 233., 143., 229., 134., 256., 180.,\n",
      "       106., 202., 120., 136., 148., 204., 245., 135., 164., 248., 150.,\n",
      "       160., 147., 139., 189., 195., 187., 269., 179., 174., 161., 225.,\n",
      "       314., 158., 141., 167., 353., 354., 284., 258., 234., 194., 264.,\n",
      "       145., 239., 238., 144., 235., 369., 257., 227., 184., 296., 317.,\n",
      "       240., 213., 169., 199., 222., 230., 274., 181., 197., 237., 252.,\n",
      "       309., 339., 262., 366., 177., 241., 175., 304., 186., 178., 176.,\n",
      "       172., 200., 216., 182., 205., 228., 336., 445., 242., 299., 151.,\n",
      "       203., 185., 268., 214., 286., 322., 198., 449., 165., 190., 297.,\n",
      "       209., 342., 375., 371., 171.]), 'ANZ_TITEL': array([nan,  0.,  1.,  2.,  4.,  3.,  6.]), 'ARBEIT': array([nan,  3.,  2.,  4.,  1.,  5.,  9.]), 'BALLRAUM': array([nan,  6.,  2.,  4.,  3.,  7.,  1.,  5.]), 'CAMEO_DEU_2015': array([nan, '8A', '4C', '2A', '6B', '8C', '4A', '2D', '1A', '1E', '9D',\n",
      "       '5C', '8B', '7A', '5D', '9E', '9B', '1B', '3D', '4E', '4B', '3C',\n",
      "       '5A', '7B', '9A', '6D', '6E', '2C', '7C', '9C', '7D', '5E', '1D',\n",
      "       '8D', '6C', '6A', '5B', '4D', '3A', '2B', '7E', '3B', '6F', '5F',\n",
      "       '1C'], dtype=object), 'CAMEO_DEUG_2015': array([nan,  8.,  4.,  2.,  6.,  1.,  9.,  5.,  7.,  3.]), 'CAMEO_INTL_2015': array([nan, 51., 24., 12., 43., 54., 22., 14., 13., 15., 33., 41., 34.,\n",
      "       55., 25., 23., 31., 52., 35., 45., 44., 32.]), 'CJT_GESAMTTYP': array([ 2.,  5.,  3.,  4.,  1.,  6., nan]), 'CJT_KATALOGNUTZER': array([ 5.,  1.,  2.,  3.,  4., nan]), 'CJT_TYP_1': array([ 1.,  5.,  4.,  2.,  3., nan]), 'CJT_TYP_2': array([ 1.,  5.,  4.,  2.,  3., nan]), 'CJT_TYP_3': array([ 5.,  2.,  1.,  4.,  3., nan]), 'CJT_TYP_4': array([ 5.,  3.,  4.,  1.,  2., nan]), 'CJT_TYP_5': array([ 5.,  1.,  2.,  3.,  4., nan]), 'CJT_TYP_6': array([ 5.,  1.,  2.,  3.,  4., nan]), 'D19_BANKEN_ANZ_12': array([0, 3, 1, 2, 4, 5, 6], dtype=int64), 'D19_BANKEN_ANZ_24': array([0, 5, 1, 2, 4, 3, 6], dtype=int64), 'D19_BANKEN_DATUM': array([10,  5,  8,  6,  9,  1,  7,  4,  2,  3], dtype=int64), 'D19_BANKEN_DIREKT': array([0, 1, 6, 5, 4, 3, 7, 2], dtype=int64), 'D19_BANKEN_GROSS': array([0, 2, 6, 3, 5, 1, 4], dtype=int64), 'D19_BANKEN_LOKAL': array([0, 7, 3, 6, 5, 2, 1, 4], dtype=int64), 'D19_BANKEN_OFFLINE_DATUM': array([10,  9,  8,  2,  5,  4,  1,  6,  7,  3], dtype=int64), 'D19_BANKEN_ONLINE_DATUM': array([10,  5,  8,  6,  9,  1,  4,  7,  2,  3], dtype=int64), 'D19_BANKEN_ONLINE_QUOTE_12': array([nan,  0., 10.,  8.,  5.,  9.,  7.,  6.,  3.,  4.,  2.,  1.]), 'D19_BANKEN_REST': array([0, 6, 5, 4, 3, 7, 2, 1], dtype=int64), 'D19_BEKLEIDUNG_GEH': array([0, 6, 5, 7, 3, 2, 4, 1], dtype=int64), 'D19_BEKLEIDUNG_REST': array([0, 1, 6, 7, 5, 3, 4, 2], dtype=int64), 'D19_BILDUNG': array([0, 6, 3, 7, 2, 4, 5, 1], dtype=int64), 'D19_BIO_OEKO': array([0, 6, 7, 3, 5, 2, 4, 1], dtype=int64), 'D19_BUCH_CD': array([0, 6, 5, 3, 1, 7, 4, 2], dtype=int64), 'D19_DIGIT_SERV': array([0, 6, 7, 3, 5, 2, 4, 1], dtype=int64), 'D19_DROGERIEARTIKEL': array([0, 1, 6, 3, 7, 4, 5, 2], dtype=int64), 'D19_ENERGIE': array([0, 5, 3, 6, 7, 2, 1, 4], dtype=int64), 'D19_FREIZEIT': array([0, 7, 3, 6, 5, 4, 1, 2], dtype=int64), 'D19_GARTEN': array([0, 3, 6, 7, 5, 4, 2, 1], dtype=int64), 'D19_GESAMT_ANZ_12': array([0, 6, 1, 2, 3, 4, 5], dtype=int64), 'D19_GESAMT_ANZ_24': array([0, 6, 1, 2, 3, 5, 4], dtype=int64), 'D19_GESAMT_DATUM': array([10,  1,  3,  5,  9,  4,  7,  6,  8,  2], dtype=int64), 'D19_GESAMT_OFFLINE_DATUM': array([10,  6,  8,  9,  5,  2,  4,  1,  7,  3], dtype=int64), 'D19_GESAMT_ONLINE_DATUM': array([10,  1,  3,  5,  9,  4,  7,  6,  8,  2], dtype=int64), 'D19_GESAMT_ONLINE_QUOTE_12': array([nan,  0., 10.,  7.,  9.,  5.,  8.,  6.,  3.,  4.,  2.,  1.]), 'D19_HANDWERK': array([0, 6, 3, 5, 7, 4, 2, 1], dtype=int64), 'D19_HAUS_DEKO': array([0, 5, 6, 7, 1, 3, 4, 2], dtype=int64), 'D19_KINDERARTIKEL': array([0, 6, 7, 3, 5, 2, 1, 4], dtype=int64), 'D19_KONSUMTYP': array([nan,  9.,  1.,  4.,  3.,  6.,  5.,  2.]), 'D19_KONSUMTYP_MAX': array([9, 8, 1, 2, 3, 4], dtype=int64), 'D19_KOSMETIK': array([0, 6, 3, 5, 7, 2, 4, 1], dtype=int64), 'D19_LEBENSMITTEL': array([0, 6, 7, 5, 3, 4, 1, 2], dtype=int64), 'D19_LETZTER_KAUF_BRANCHE': array([nan, 'D19_UNBEKANNT', 'D19_SCHUHE', 'D19_ENERGIE', 'D19_KOSMETIK',\n",
      "       'D19_VOLLSORTIMENT', 'D19_SONSTIGE', 'D19_BANKEN_GROSS',\n",
      "       'D19_DROGERIEARTIKEL', 'D19_HANDWERK', 'D19_BUCH_CD',\n",
      "       'D19_VERSICHERUNGEN', 'D19_VERSAND_REST', 'D19_TELKO_REST',\n",
      "       'D19_BANKEN_DIREKT', 'D19_BANKEN_REST', 'D19_FREIZEIT',\n",
      "       'D19_LEBENSMITTEL', 'D19_HAUS_DEKO', 'D19_BEKLEIDUNG_REST',\n",
      "       'D19_SAMMELARTIKEL', 'D19_TELKO_MOBILE', 'D19_REISEN',\n",
      "       'D19_BEKLEIDUNG_GEH', 'D19_TECHNIK', 'D19_NAHRUNGSERGAENZUNG',\n",
      "       'D19_DIGIT_SERV', 'D19_LOTTO', 'D19_RATGEBER', 'D19_TIERARTIKEL',\n",
      "       'D19_KINDERARTIKEL', 'D19_BIO_OEKO', 'D19_WEIN_FEINKOST',\n",
      "       'D19_GARTEN', 'D19_BILDUNG', 'D19_BANKEN_LOKAL'], dtype=object), 'D19_LOTTO': array([nan,  0.,  6.,  7.,  5.,  3.,  4.,  2.,  1.]), 'D19_NAHRUNGSERGAENZUNG': array([0, 5, 6, 7, 4, 1, 2, 3], dtype=int64), 'D19_RATGEBER': array([0, 7, 6, 3, 5, 2, 4, 1], dtype=int64), 'D19_REISEN': array([0, 6, 7, 3, 5, 2, 4, 1], dtype=int64), 'D19_SAMMELARTIKEL': array([0, 6, 1, 7, 5, 3, 2, 4], dtype=int64), 'D19_SCHUHE': array([0, 1, 3, 5, 6, 2, 7, 4], dtype=int64), 'D19_SONSTIGE': array([0, 6, 4, 7, 5, 3, 2, 1], dtype=int64), 'D19_SOZIALES': array([nan,  0.,  4.,  5.,  3.,  1.,  2.]), 'D19_TECHNIK': array([0, 6, 5, 7, 3, 1, 4, 2], dtype=int64), 'D19_TELKO_ANZ_12': array([0, 1, 2, 6, 3, 4, 5], dtype=int64), 'D19_TELKO_ANZ_24': array([0, 1, 2, 4, 3, 6, 5], dtype=int64), 'D19_TELKO_DATUM': array([10,  6,  9,  8,  7,  5,  4,  2,  1,  3], dtype=int64), 'D19_TELKO_MOBILE': array([0, 6, 3, 7, 4, 5, 2, 1], dtype=int64), 'D19_TELKO_OFFLINE_DATUM': array([10,  8,  9,  5,  6,  7,  4,  2,  3,  1], dtype=int64), 'D19_TELKO_ONLINE_DATUM': array([10,  9,  7,  8,  6,  5,  4,  1,  2,  3], dtype=int64), 'D19_TELKO_ONLINE_QUOTE_12': array([nan,  0., 10.,  5.,  7.,  3.]), 'D19_TELKO_REST': array([0, 5, 6, 4, 3, 7, 2, 1], dtype=int64), 'D19_TIERARTIKEL': array([0, 6, 5, 3, 4, 7, 2, 1], dtype=int64), 'D19_VERSAND_ANZ_12': array([0, 6, 1, 2, 5, 3, 4], dtype=int64), 'D19_VERSAND_ANZ_24': array([0, 6, 2, 1, 3, 4, 5], dtype=int64), 'D19_VERSAND_DATUM': array([10,  1,  5,  9,  4,  8,  7,  6,  3,  2], dtype=int64), 'D19_VERSAND_OFFLINE_DATUM': array([10,  9,  6,  8,  5,  2,  1,  4,  7,  3], dtype=int64), 'D19_VERSAND_ONLINE_DATUM': array([10,  1,  5,  9,  4,  8,  7,  6,  3,  2], dtype=int64), 'D19_VERSAND_ONLINE_QUOTE_12': array([nan,  0., 10.,  7.,  5.,  9.,  3.,  8.,  6.,  4.,  2.,  1.]), 'D19_VERSAND_REST': array([0, 2, 6, 5, 3, 1, 4, 7], dtype=int64), 'D19_VERSI_ANZ_12': array([0, 1, 2, 3, 4, 5, 6], dtype=int64), 'D19_VERSI_ANZ_24': array([0, 3, 1, 2, 4, 5, 6], dtype=int64), 'D19_VERSI_DATUM': array([10,  2,  8,  9,  6,  7,  5,  1,  4,  3], dtype=int64), 'D19_VERSI_OFFLINE_DATUM': array([10,  7,  9,  6,  4,  8,  5,  2,  3,  1], dtype=int64), 'D19_VERSI_ONLINE_DATUM': array([10,  8,  9,  5,  6,  7,  4,  1,  2,  3], dtype=int64), 'D19_VERSI_ONLINE_QUOTE_12': array([nan,  0., 10.,  5.,  7.,  8.,  6.,  3.,  9.]), 'D19_VERSICHERUNGEN': array([0, 3, 6, 4, 5, 7, 2, 1], dtype=int64), 'D19_VOLLSORTIMENT': array([0, 7, 6, 3, 2, 5, 4, 1], dtype=int64), 'D19_WEIN_FEINKOST': array([0, 6, 7, 5, 3, 2, 4, 1], dtype=int64), 'DSL_FLAG': array([nan,  1.,  0.]), 'EINGEFUEGT_AM': array([nan, '1992-02-10 00:00:00', '1992-02-12 00:00:00', ...,\n",
      "       '2010-12-02 00:00:00', '2005-03-19 00:00:00',\n",
      "       '2011-11-18 00:00:00'], dtype=object), 'EINGEZOGENAM_HH_JAHR': array([  nan, 2004., 2000., 1998., 1994., 2005., 2007., 2009., 2016.,\n",
      "       2014., 2015., 2013., 2008., 2010., 2001., 2002., 1997., 2012.,\n",
      "       1992., 1999., 1996., 1995., 2011., 2003., 2006., 1991., 2017.,\n",
      "       1993., 2018., 1989., 1990., 1987., 1986., 1988., 1900., 1904.,\n",
      "       1971., 1984.]), 'EWDICHTE': array([nan,  3.,  4.,  2.,  5.,  6.,  1.]), 'EXTSEL992': array([nan, 14., 31., 20., 56., 53., 27., 54.,  6., 25., 48., 55., 36.,\n",
      "       34., 35., 18., 38., 32., 29., 41., 43., 22., 19., 24., 23.,  8.,\n",
      "       21., 37.,  7.,  3., 39., 12., 15., 17.,  4.,  9., 44., 50., 13.,\n",
      "       33., 42., 49.,  1., 30., 10., 45., 26., 16., 28., 47.,  2., 46.,\n",
      "       11., 40., 51., 52.,  5.]), 'FINANZ_ANLEGER': array([5., 2., 1., 4., 3.]), 'FINANZ_HAUSBAUER': array([3., 5., 2., 4., 1.]), 'FINANZ_MINIMALIST': array([3., 1., 4., 2., 5.]), 'FINANZ_SPARER': array([4., 5., 2., 3., 1.]), 'FINANZ_UNAUFFAELLIGER': array([5., 4., 3., 1., 2.]), 'FINANZ_VORSORGER': array([3., 2., 1., 5., 4.]), 'FINANZTYP': array([4., 1., 6., 5., 2., 3.]), 'FIRMENDICHTE': array([nan,  2.,  4.,  5.,  3.,  1.]), 'GEBAEUDETYP': array([nan,  8.,  1.,  3.,  2.,  6.,  4.,  5.]), 'GEBAEUDETYP_RASTER': array([nan,  3.,  4.,  5.,  1.,  2.]), 'GEBURTSJAHR': array([   0, 1996, 1979, 1957, 1963, 1943, 1964, 1974, 1975, 1941, 1993,\n",
      "       1946, 1988, 1991, 1966, 1949, 1982, 1972, 1990, 1985, 1989, 1948,\n",
      "       1935, 1997, 1994, 1987, 2002, 1950, 1965, 1969, 1978, 1958, 1944,\n",
      "       1967, 1977, 1960, 1970, 1973, 1971, 1937, 1947, 1926, 1954, 1981,\n",
      "       1962, 1992, 2008, 1976, 1928, 1927, 1968, 1940, 1952, 1961, 2006,\n",
      "       1938, 1945, 1942, 1984, 1930, 1980, 1959, 1986, 1931, 1955, 1983,\n",
      "       2010, 1951, 1921, 1929, 1939, 2001, 1995, 1956, 1953, 2012, 1934,\n",
      "       1913, 1914, 1922, 2004, 1936, 2009, 1915, 2003, 2013, 1998, 2007,\n",
      "       1932, 2005, 1923, 1925, 2015, 1933, 2017, 2000, 1999, 2014, 1920,\n",
      "       1918, 1924, 2016, 2011, 1908, 1919, 1916, 1917, 1912, 1911, 1909,\n",
      "       1910, 1904, 1906, 1905, 1900, 1907, 1902], dtype=int64), 'GEMEINDETYP': array([nan, 22., 40., 21., 12., 30., 11., 50.]), 'GFK_URLAUBERTYP': array([10.,  1.,  5., 12.,  9.,  3.,  8., 11.,  4.,  2.,  7.,  6., nan]), 'GREEN_AVANTGARDE': array([0, 1], dtype=int64), 'HEALTH_TYP': array([nan,  3.,  2.,  1.]), 'HH_DELTA_FLAG': array([nan,  0.,  1.]), 'HH_EINKOMMEN_SCORE': array([ 2.,  6.,  4.,  1.,  5.,  3., nan]), 'INNENSTADT': array([nan,  8.,  4.,  6.,  1.,  7.,  3.,  2.,  5.]), 'KBA05_ALTER1': array([nan,  3.,  2.,  0.,  1.,  4.]), 'KBA05_ALTER2': array([nan,  4.,  3.,  5.,  2.,  1.]), 'KBA05_ALTER3': array([nan,  1.,  3.,  4.,  2.,  5.]), 'KBA05_ALTER4': array([nan,  4.,  3.,  0.,  5.,  2.,  1.]), 'KBA05_ANHANG': array([nan,  0.,  1.,  2.,  3.]), 'KBA05_ANTG1': array([nan,  0.,  1.,  4.,  2.,  3.]), 'KBA05_ANTG2': array([nan,  0.,  3.,  1.,  4.,  2.]), 'KBA05_ANTG3': array([nan,  0.,  1.,  2.,  3.]), 'KBA05_ANTG4': array([nan,  2.,  0.,  1.]), 'KBA05_AUTOQUOT': array([nan,  1.,  3.,  4.,  2.,  5.]), 'KBA05_BAUMAX': array([nan,  5.,  1.,  2.,  3.,  4.]), 'KBA05_CCM1': array([nan,  1.,  5.,  2.,  4.,  3.]), 'KBA05_CCM2': array([nan,  5.,  2.,  3.,  1.,  4.]), 'KBA05_CCM3': array([nan,  1.,  3.,  5.,  4.,  2.]), 'KBA05_CCM4': array([nan,  4.,  0.,  1.,  2.,  3.]), 'KBA05_DIESEL': array([nan,  2.,  0.,  3.,  1.,  4.]), 'KBA05_FRAU': array([nan,  4.,  3.,  5.,  2.,  1.]), 'KBA05_GBZ': array([nan,  1.,  3.,  4.,  5.,  2.]), 'KBA05_HERST1': array([nan,  5.,  2.,  4.,  3.,  0.,  1.]), 'KBA05_HERST2': array([nan,  5.,  2.,  3.,  4.,  1.]), 'KBA05_HERST3': array([nan,  2.,  3.,  4.,  1.,  0.,  5.]), 'KBA05_HERST4': array([nan,  2.,  1.,  3.,  4.,  0.,  5.]), 'KBA05_HERST5': array([nan,  0.,  5.,  3.,  4.,  2.,  1.]), 'KBA05_HERSTTEMP': array([nan,  4.,  3.,  1.,  2.,  5.]), 'KBA05_KRSAQUOT': array([nan,  1.,  3.,  4.,  2.,  5.]), 'KBA05_KRSHERST1': array([nan,  5.,  3.,  4.,  2.,  1.]), 'KBA05_KRSHERST2': array([nan,  4.,  2.,  3.,  5.,  1.]), 'KBA05_KRSHERST3': array([nan,  2.,  3.,  1.,  4.,  5.]), 'KBA05_KRSKLEIN': array([nan,  1.,  3.,  2.]), 'KBA05_KRSOBER': array([nan,  2.,  1.,  3.]), 'KBA05_KRSVAN': array([nan,  1.,  2.,  3.]), 'KBA05_KRSZUL': array([nan,  2.,  3.,  1.]), 'KBA05_KW1': array([nan,  1.,  3.,  4.,  2.,  5.]), 'KBA05_KW2': array([nan,  3.,  2.,  4.,  5.,  1.]), 'KBA05_KW3': array([nan,  4.,  2.,  1.,  3.,  0.]), 'KBA05_MAXAH': array([nan,  2.,  3.,  5.,  1.,  4.]), 'KBA05_MAXBJ': array([nan,  1.,  4.,  2.,  3.]), 'KBA05_MAXHERST': array([nan,  2.,  5.,  3.,  1.,  4.]), 'KBA05_MAXSEG': array([nan,  4.,  1.,  2.,  3.]), 'KBA05_MAXVORB': array([nan,  3.,  1.,  2.]), 'KBA05_MOD1': array([nan,  3.,  0.,  2.,  1.,  4.]), 'KBA05_MOD2': array([nan,  2.,  4.,  1.,  3.,  5.]), 'KBA05_MOD3': array([nan,  2.,  5.,  4.,  1.,  3.]), 'KBA05_MOD4': array([nan,  0.,  1.,  2.,  4.,  5.,  3.]), 'KBA05_MOD8': array([nan,  0.,  1.,  2.,  3.]), 'KBA05_MODTEMP': array([nan,  1.,  4.,  3.,  5.,  2.,  6.]), 'KBA05_MOTOR': array([nan,  3.,  1.,  4.,  2.]), 'KBA05_MOTRAD': array([nan,  0.,  1.,  3.,  2.]), 'KBA05_SEG1': array([nan,  0.,  2.,  1.,  3.]), 'KBA05_SEG10': array([nan,  4.,  1.,  3.,  2.,  0.]), 'KBA05_SEG2': array([nan,  1.,  5.,  2.,  4.,  3.]), 'KBA05_SEG3': array([nan,  2.,  3.,  5.,  1.,  4.]), 'KBA05_SEG4': array([nan,  2.,  3.,  4.,  1.,  5.]), 'KBA05_SEG5': array([nan,  2.,  1.,  0.,  3.,  4.]), 'KBA05_SEG6': array([nan,  1.,  0.]), 'KBA05_SEG7': array([nan,  3.,  0.,  1.,  2.]), 'KBA05_SEG8': array([nan,  3.,  0.,  1.,  2.]), 'KBA05_SEG9': array([nan,  0.,  1.,  2.,  3.]), 'KBA05_VORB0': array([nan,  1.,  4.,  2.,  5.,  3.]), 'KBA05_VORB1': array([nan,  1.,  2.,  5.,  3.,  4.]), 'KBA05_VORB2': array([nan,  5.,  3.,  1.,  4.,  2.,  0.]), 'KBA05_ZUL1': array([nan,  5.,  2.,  3.,  4.,  1.]), 'KBA05_ZUL2': array([nan,  1.,  3.,  4.,  2.,  5.]), 'KBA05_ZUL3': array([nan,  0.,  4.,  3.,  2.,  1.,  5.]), 'KBA05_ZUL4': array([nan,  2.,  4.,  3.,  5.,  1.,  0.]), 'KBA13_ALTERHALTER_30': array([nan,  3.,  2.,  1.,  4.,  5.]), 'KBA13_ALTERHALTER_45': array([nan,  2.,  3.,  4.,  1.,  5.]), 'KBA13_ALTERHALTER_60': array([nan,  3.,  5.,  2.,  4.,  1.]), 'KBA13_ALTERHALTER_61': array([nan,  4.,  3.,  2.,  5.,  1.]), 'KBA13_ANTG1': array([nan,  2.,  1.,  4.,  3.,  0.]), 'KBA13_ANTG2': array([nan,  4.,  3.,  2.,  1.,  0.]), 'KBA13_ANTG3': array([nan,  2.,  1.,  0.,  3.]), 'KBA13_ANTG4': array([nan,  1.,  0.,  2.]), 'KBA13_ANZAHL_PKW': array([ nan, 963., 712., ...,   2.,  30.,   7.]), 'KBA13_AUDI': array([nan,  4.,  3.,  5.,  2.,  1.]), 'KBA13_AUTOQUOTE': array([nan,  2.,  3.,  4.,  5.,  1.,  0.]), 'KBA13_BAUMAX': array([nan,  2.,  1.,  4.,  5.,  3.]), 'KBA13_BJ_1999': array([nan,  3.,  2.,  4.,  1.,  5.]), 'KBA13_BJ_2000': array([nan,  3.,  2.,  1.,  4.,  5.]), 'KBA13_BJ_2004': array([nan,  3.,  4.,  2.,  1.,  5.]), 'KBA13_BJ_2006': array([nan,  3.,  5.,  2.,  4.,  1.]), 'KBA13_BJ_2008': array([nan,  3.,  4.,  0.,  2.,  5.,  1.]), 'KBA13_BJ_2009': array([nan,  2.,  1.,  3.,  5.,  0.,  4.]), 'KBA13_BMW': array([nan,  3.,  4.,  2.,  5.,  1.]), 'KBA13_CCM_0_1400': array([nan,  2.,  1.,  3.,  5.,  0.,  4.]), 'KBA13_CCM_1000': array([nan,  0.,  1.,  4.,  5.,  3.,  2.]), 'KBA13_CCM_1200': array([nan,  0.,  2.,  1.,  4.,  5.,  3.]), 'KBA13_CCM_1400': array([nan,  4.,  2.,  3.,  1.,  5.]), 'KBA13_CCM_1401_2500': array([nan,  3.,  2.,  1.,  4.,  5.]), 'KBA13_CCM_1500': array([nan,  1.,  4.,  3.,  5.,  2.]), 'KBA13_CCM_1600': array([nan,  2.,  3.,  1.,  4.,  5.]), 'KBA13_CCM_1800': array([nan,  2.,  4.,  3.,  5.,  1.,  0.]), 'KBA13_CCM_2000': array([nan,  5.,  3.,  4.,  2.,  1.]), 'KBA13_CCM_2500': array([nan,  3.,  4.,  0.,  5.,  2.,  1.]), 'KBA13_CCM_2501': array([nan,  3.,  4.,  5.,  0.,  2.,  1.]), 'KBA13_CCM_3000': array([nan,  0.,  3.,  5.,  2.,  1.,  4.]), 'KBA13_CCM_3001': array([nan,  5.,  4.,  1.,  3.,  2.]), 'KBA13_FAB_ASIEN': array([nan,  2.,  4.,  3.,  1.,  5.]), 'KBA13_FAB_SONSTIGE': array([nan,  3.,  2.,  1.,  4.,  5.]), 'KBA13_FIAT': array([nan,  4.,  3.,  5.,  2.,  1.]), 'KBA13_FORD': array([nan,  2.,  4.,  3.,  1.,  5.]), 'KBA13_GBZ': array([nan,  4.,  3.,  5.,  2.,  1.]), 'KBA13_HALTER_20': array([nan,  3.,  2.,  4.,  5.,  1.]), 'KBA13_HALTER_25': array([nan,  3.,  2.,  1.,  4.,  5.]), 'KBA13_HALTER_30': array([nan,  3.,  2.,  1.,  4.,  5.]), 'KBA13_HALTER_35': array([nan,  3.,  2.,  1.,  4.,  5.]), 'KBA13_HALTER_40': array([nan,  3.,  2.,  1.,  4.,  5.]), 'KBA13_HALTER_45': array([nan,  2.,  3.,  5.,  1.,  4.]), 'KBA13_HALTER_50': array([nan,  2.,  3.,  5.,  4.,  1.]), 'KBA13_HALTER_55': array([nan,  3.,  5.,  4.,  2.,  1.]), 'KBA13_HALTER_60': array([nan,  3.,  4.,  2.,  5.,  1.]), 'KBA13_HALTER_65': array([nan,  3.,  4.,  5.,  2.,  1.]), 'KBA13_HALTER_66': array([nan,  4.,  3.,  2.,  5.,  1.]), 'KBA13_HERST_ASIEN': array([nan,  1.,  3.,  4.,  2.,  5.]), 'KBA13_HERST_AUDI_VW': array([nan,  4.,  2.,  3.,  5.,  1.]), 'KBA13_HERST_BMW_BENZ': array([nan,  4.,  3.,  5.,  2.,  1.]), 'KBA13_HERST_EUROPA': array([nan,  4.,  3.,  2.,  5.,  1.]), 'KBA13_HERST_FORD_OPEL': array([nan,  2.,  3.,  1.,  4.,  5.]), 'KBA13_HERST_SONST': array([nan,  3.,  2.,  1.,  4.,  5.]), 'KBA13_HHZ': array([nan,  5.,  4.,  3.,  2.,  1.]), 'KBA13_KMH_0_140': array([nan,  3.,  1.,  5.,  0.,  4.,  2.]), 'KBA13_KMH_110': array([nan,  1.,  2.,  3.]), 'KBA13_KMH_140': array([nan,  3.,  1.,  5.,  2.,  4.]), 'KBA13_KMH_140_210': array([nan,  3.,  2.,  1.,  4.,  5.]), 'KBA13_KMH_180': array([nan,  2.,  1.,  3.,  4.,  5.]), 'KBA13_KMH_210': array([nan,  4.,  2.,  3.,  5.,  1.]), 'KBA13_KMH_211': array([nan,  3.,  4.,  5.,  2.,  1.,  0.]), 'KBA13_KMH_250': array([nan,  3.,  4.,  5.,  2.,  1.,  0.]), 'KBA13_KMH_251': array([nan,  1.,  3.,  2.]), 'KBA13_KRSAQUOT': array([nan,  2.,  3.,  4.,  1.,  5.,  0.]), 'KBA13_KRSHERST_AUDI_VW': array([nan,  4.,  3.,  2.,  1.,  5.,  0.]), 'KBA13_KRSHERST_BMW_BENZ': array([nan,  3.,  4.,  5.,  2.,  1.,  0.]), 'KBA13_KRSHERST_FORD_OPEL': array([nan,  3.,  2.,  4.,  1.,  5.,  0.]), 'KBA13_KRSSEG_KLEIN': array([nan,  2.,  3.,  1.,  0.]), 'KBA13_KRSSEG_OBER': array([nan,  2.,  3.,  1.,  0.]), 'KBA13_KRSSEG_VAN': array([nan,  2.,  1.,  3.,  0.]), 'KBA13_KRSZUL_NEU': array([nan,  1.,  2.,  3.,  0.]), 'KBA13_KW_0_60': array([nan,  3.,  1.,  2.,  4.,  5.]), 'KBA13_KW_110': array([nan,  4.,  3.,  1.,  5.,  0.,  2.]), 'KBA13_KW_120': array([nan,  4.,  3.,  1.,  5.,  0.,  2.]), 'KBA13_KW_121': array([nan,  3.,  4.,  5.,  2.,  0.,  1.]), 'KBA13_KW_30': array([nan,  1.,  2.,  3.]), 'KBA13_KW_40': array([nan,  2.,  1.,  4.,  5.,  0.,  3.]), 'KBA13_KW_50': array([nan,  4.,  2.,  3.,  0.,  1.,  5.]), 'KBA13_KW_60': array([nan,  0.,  1.,  2.,  3.,  4.,  5.]), 'KBA13_KW_61_120': array([nan,  3.,  5.,  2.,  4.,  1.]), 'KBA13_KW_70': array([nan,  1.,  4.,  3.,  2.,  0.,  5.]), 'KBA13_KW_80': array([nan,  2.,  4.,  1.,  3.,  0.,  5.]), 'KBA13_KW_90': array([nan,  3.,  2.,  0.,  4.,  1.,  5.]), 'KBA13_MAZDA': array([nan,  2.,  3.,  4.,  5.,  1.]), 'KBA13_MERCEDES': array([nan,  4.,  3.,  5.,  2.,  1.]), 'KBA13_MOTOR': array([nan,  3.,  4.,  2.,  1.]), 'KBA13_NISSAN': array([nan,  2.,  3.,  5.,  4.,  1.]), 'KBA13_OPEL': array([nan,  3.,  2.,  4.,  1.,  5.]), 'KBA13_PEUGEOT': array([nan,  4.,  3.,  2.,  1.,  5.]), 'KBA13_RENAULT': array([nan,  3.,  2.,  4.,  5.,  1.]), 'KBA13_SEG_GELAENDEWAGEN': array([nan,  2.,  5.,  3.,  4.,  1.]), 'KBA13_SEG_GROSSRAUMVANS': array([nan,  3.,  4.,  1.,  5.,  2.]), 'KBA13_SEG_KLEINST': array([nan,  2.,  3.,  5.,  4.,  1.]), 'KBA13_SEG_KLEINWAGEN': array([nan,  2.,  3.,  4.,  1.,  5.]), 'KBA13_SEG_KOMPAKTKLASSE': array([nan,  5.,  1.,  4.,  3.,  2.]), 'KBA13_SEG_MINIVANS': array([nan,  4.,  3.,  2.,  1.,  5.]), 'KBA13_SEG_MINIWAGEN': array([nan,  2.,  3.,  5.,  4.,  1.]), 'KBA13_SEG_MITTELKLASSE': array([nan,  3.,  2.,  4.,  5.,  1.]), 'KBA13_SEG_OBEREMITTELKLASSE': array([nan,  3.,  4.,  5.,  2.,  1.]), 'KBA13_SEG_OBERKLASSE': array([nan,  3.,  1.,  4.,  5.,  0.,  2.]), 'KBA13_SEG_SONSTIGE': array([nan,  2.,  5.,  3.,  4.,  1.]), 'KBA13_SEG_SPORTWAGEN': array([nan,  3.,  4.,  5.,  1.,  2.,  0.]), 'KBA13_SEG_UTILITIES': array([nan,  3.,  5.,  2.,  4.,  1.]), 'KBA13_SEG_VAN': array([nan,  4.,  3.,  2.,  1.,  5.]), 'KBA13_SEG_WOHNMOBILE': array([nan,  2.,  5.,  3.,  4.,  0.,  1.]), 'KBA13_SITZE_4': array([nan,  3.,  4.,  5.,  2.,  1.]), 'KBA13_SITZE_5': array([nan,  3.,  2.,  1.,  4.,  5.]), 'KBA13_SITZE_6': array([nan,  4.,  3.,  2.,  5.,  1.]), 'KBA13_TOYOTA': array([nan,  2.,  3.,  4.,  5.,  1.]), 'KBA13_VORB_0': array([nan,  3.,  4.,  5.,  2.,  1.]), 'KBA13_VORB_1': array([nan,  3.,  4.,  2.,  1.,  5.]), 'KBA13_VORB_1_2': array([nan,  3.,  4.,  2.,  1.,  5.]), 'KBA13_VORB_2': array([nan,  3.,  2.,  4.,  1.,  5.]), 'KBA13_VORB_3': array([nan,  3.,  2.,  4.,  0.,  1.,  5.]), 'KBA13_VW': array([nan,  4.,  2.,  3.,  5.,  1.]), 'KK_KUNDENTYP': array([nan,  1.,  3.,  6.,  4.,  2.,  5.]), 'KKK': array([nan,  2.,  3.,  4.,  1.]), 'KOMBIALTER': array([9, 1, 2, 4, 3], dtype=int64), 'KONSUMNAEHE': array([nan,  1.,  5.,  4.,  3.,  2.,  6.,  7.]), 'KONSUMZELLE': array([nan,  1.,  0.]), 'LP_FAMILIE_FEIN': array([ 2.,  5.,  1.,  0., 10.,  7., 11.,  3.,  8.,  4.,  6., nan,  9.]), 'LP_FAMILIE_GROB': array([ 2.,  3.,  1.,  0.,  5.,  4., nan]), 'LP_LEBENSPHASE_FEIN': array([15., 21.,  3.,  0., 32.,  8.,  2.,  5., 10.,  4.,  6., 23., 12.,\n",
      "       20.,  1., 11., 25., 13.,  7., 18., 31., 19., 38., 35., 30., 22.,\n",
      "       14., 33., 29., 24., 28., 37., 26., 39., 27., 36.,  9., 34., nan,\n",
      "       40., 16., 17.]), 'LP_LEBENSPHASE_GROB': array([ 4.,  6.,  1.,  0., 10.,  2.,  3.,  5.,  7., 12., 11.,  9.,  8.,\n",
      "       nan]), 'LP_STATUS_FEIN': array([ 1.,  2.,  3.,  9.,  4., 10.,  5.,  8.,  6.,  7., nan]), 'LP_STATUS_GROB': array([ 1.,  2.,  4.,  5.,  3., nan]), 'MIN_GEBAEUDEJAHR': array([  nan, 1992., 1997., 2005., 2009., 1994., 1996., 2002., 2015.,\n",
      "       1991., 1993., 1995., 2003., 2014., 2008., 2006., 2000., 1990.,\n",
      "       2004., 1999., 1998., 2001., 2007., 2013., 1989., 2011., 2012.,\n",
      "       2010., 1987., 1988., 1985., 2016., 1986.]), 'MOBI_RASTER': array([nan,  1.,  2.,  4.,  3.,  5.,  6.]), 'MOBI_REGIO': array([nan,  1.,  3.,  4.,  5.,  2.,  6.]), 'NATIONALITAET_KZ': array([nan,  1.,  3.,  2.]), 'ONLINE_AFFINITAET': array([ 1.,  3.,  2.,  5.,  4.,  0., nan]), 'ORTSGR_KLS9': array([nan,  5.,  3.,  6.,  4.,  8.,  2.,  7.,  9.,  1.,  0.]), 'OST_WEST_KZ': array([nan, 'W', 'O'], dtype=object), 'PLZ8_ANTG1': array([nan,  2.,  3.,  1.,  4.,  0.]), 'PLZ8_ANTG2': array([nan,  3.,  2.,  4.,  1.,  0.]), 'PLZ8_ANTG3': array([nan,  2.,  1.,  3.,  0.]), 'PLZ8_ANTG4': array([nan,  1.,  0.,  2.]), 'PLZ8_BAUMAX': array([nan,  1.,  2.,  4.,  5.,  3.]), 'PLZ8_GBZ': array([nan,  4.,  3.,  5.,  2.,  1.]), 'PLZ8_HHZ': array([nan,  5.,  4.,  3.,  2.,  1.]), 'PRAEGENDE_JUGENDJAHRE': array([nan, 14., 15.,  8.,  3., 10., 11.,  5.,  9.,  6.,  4.,  2.,  1.,\n",
      "       12., 13.,  7.]), 'REGIOTYP': array([nan,  3.,  2.,  5.,  1.,  7.,  6.,  4.]), 'RELAT_AB': array([nan,  4.,  2.,  3.,  5.,  1.]), 'RETOURTYP_BK_S': array([ 5.,  1.,  3.,  2.,  4., nan]), 'RT_KEIN_ANREIZ': array([ 1.,  5.,  3.,  4.,  2., nan]), 'RT_SCHNAEPPCHEN': array([ 4.,  3.,  2.,  5.,  1., nan]), 'RT_UEBERGROESSE': array([ 1.,  5.,  3.,  4., nan,  2.,  0.]), 'SEMIO_DOM': array([6., 7., 4., 2., 1., 5., 3.]), 'SEMIO_ERL': array([3., 2., 6., 7., 4., 5., 1.]), 'SEMIO_FAM': array([6., 4., 1., 5., 7., 2., 3.]), 'SEMIO_KAEM': array([6., 4., 7., 5., 2., 3., 1.]), 'SEMIO_KRIT': array([7., 4., 3., 1., 5., 6., 2.]), 'SEMIO_KULT': array([3., 4., 6., 5., 7., 1., 2.]), 'SEMIO_LUST': array([5., 2., 4., 6., 7., 3., 1.]), 'SEMIO_MAT': array([5., 3., 1., 2., 4., 7., 6.]), 'SEMIO_PFLICHT': array([5., 7., 3., 4., 1., 6., 2.]), 'SEMIO_RAT': array([4., 6., 3., 2., 7., 5., 1.]), 'SEMIO_REL': array([7., 4., 3., 2., 5., 1., 6.]), 'SEMIO_SOZ': array([2., 5., 4., 6., 7., 3., 1.]), 'SEMIO_TRADV': array([3., 6., 4., 2., 7., 5., 1.]), 'SEMIO_VERT': array([1., 4., 7., 2., 6., 5., 3.]), 'SHOPPER_TYP': array([nan,  3.,  2.,  1.,  0.]), 'SOHO_KZ': array([nan,  1.,  0.]), 'STRUKTURTYP': array([nan,  2.,  3.,  1.]), 'TITEL_KZ': array([nan,  4.,  1.,  3.,  5.,  2.]), 'UMFELD_ALT': array([nan,  3.,  2.,  4.,  5.,  1.]), 'UMFELD_JUNG': array([nan,  3.,  5.,  4.,  2.,  1.]), 'UNGLEICHENN_FLAG': array([nan,  1.,  0.]), 'VERDICHTUNGSRAUM': array([nan,  0.,  1., 35.,  3.,  7., 23.,  4.,  8., 13., 16., 25.,  5.,\n",
      "       21.,  6., 15., 32., 42., 31., 11., 33., 22., 30., 18., 12., 27.,\n",
      "        2.,  9., 28., 10., 14., 20., 17., 43., 19., 24., 34., 40., 39.,\n",
      "       29., 26., 44., 45., 37., 36., 41., 38.]), 'VERS_TYP': array([nan,  2.,  1.]), 'VHA': array([nan,  0.,  1.,  5.,  2.,  4.,  3.]), 'VHN': array([nan,  4.,  2.,  0.,  1.,  3.]), 'VK_DHT4A': array([nan,  8.,  9.,  7.,  3., 10.,  1.,  6.,  4.,  2.,  5., 11.]), 'VK_DISTANZ': array([nan, 11.,  9., 10.,  5.,  7., 12.,  1.,  6., 13.,  8.,  4.,  3.,\n",
      "        2.]), 'VK_ZG11': array([nan, 10.,  6., 11.,  4.,  9.,  8.,  1.,  3.,  7.,  5.,  2.]), 'W_KEIT_KIND_HH': array([nan,  3.,  2.,  6.,  5.,  4.,  1.]), 'WOHNDAUER_2008': array([nan,  9.,  8.,  3.,  4.,  5.,  6.,  2.,  7.,  1.]), 'WOHNLAGE': array([nan,  4.,  2.,  7.,  3.,  5.,  1.,  8.,  0.]), 'ZABEOTYP': array([3., 5., 4., 1., 6., 2.]), 'ANREDE_KZ': array([1., 2.]), 'ALTERSKATEGORIE_GROB': array([2., 1., 3., 4., 9.])}\n"
     ]
    }
   ],
   "source": [
    "print(azdias_unique_range)"
   ]
  },
  {
   "cell_type": "code",
   "execution_count": 29,
   "metadata": {},
   "outputs": [],
   "source": [
    "attributes_proper_range = get_attributes_range()"
   ]
  },
  {
   "cell_type": "code",
   "execution_count": 30,
   "metadata": {},
   "outputs": [
    {
     "name": "stdout",
     "output_type": "stream",
     "text": [
      "{'AGER_TYP': [-1, 0, 1, 2, 3], 'ALTERSKATEGORIE_GROB': ['-1, 0', 1, 2, 3, 4, 9], 'ALTER_HH': [0, 1, 2, 3, 4, 5, 6, 7, 8, 9, 10, 11, 12, 13, 14, 15, 16, 17, 18, 19, 20, 21], 'ANREDE_KZ': ['-1, 0', 1, 2], 'ANZ_HAUSHALTE_AKTIV': ['…'], 'ANZ_HH_TITEL': ['…'], 'ANZ_PERSONEN': ['…'], 'ANZ_TITEL': ['…'], 'BALLRAUM': [-1, 1, 2, 3, 4, 5, 6, 7], 'BIP_FLAG': [-1, 0, 1], 'CAMEO_DEUG_2015': [-1, 1, 2, 3, 4, 5, 6, 7, 8, 9], 'CAMEO_DEU_2015': ['1A', '1B', '1C', '1D', '1E', '2A', '2B', '2C', '2D', '3A', '3B', '3C', '3D', '4A', '4B', '4C', '4D', '4E', '5A', '5B', '5C', '5D', '5E', '5F', '6A', '6B', '6C', '6D', '6E', '6F', '7A', '7B', '7C', '7D', '7E', '8A', '8B', '8C', '8D', '9A', '9B', '9C', '9D', '9E'], 'CAMEO_DEUINTL_2015': [-1, 11, 12, 13, 14, 15, 21, 22, 23, 24, 25, 31, 32, 33, 34, 35, 41, 42, 43, 44, 45, 51, 52, 53, 54, 55], 'CJT_GESAMTTYP': [0, 1, 2, 3, 4, 5, 6], 'D19_BANKEN_ANZ_12': [0, 1, 2, 3, 4, 5, 6], 'D19_BANKEN_ANZ_24': [0, 1, 2, 3, 4, 5, 6], 'D19_BANKEN_DATUM': [1, 2, 3, 4, 5, 6, 7, 8, 9, 10], 'D19_BANKEN_DIREKT_RZ': [0, 1, 2, 3, 4, 5, 6, 7], 'D19_BANKEN_GROSS_RZ': [0, 1, 2, 3, 4, 5, 6, 7], 'D19_BANKEN_LOKAL_RZ': [0, 1, 2, 3, 4, 5, 6, 7], 'D19_BANKEN_OFFLINE_DATUM': [1, 2, 3, 4, 5, 6, 7, 8, 9, 10], 'D19_BANKEN_ONLINE_DATUM': [1, 2, 3, 4, 5, 6, 7, 8, 9, 10], 'D19_BANKEN_ONLINE_QUOTE_12': [0, 1, 2, 3, 4, 5, 6, 7, 8, 9, 10], 'D19_BANKEN_REST_RZ': [0, 1, 2, 3, 4, 5, 6, 7], 'D19_BEKLEIDUNG_GEH_RZ': [0, 1, 2, 3, 4, 5, 6, 7], 'D19_BEKLEIDUNG_REST_RZ': [0, 1, 2, 3, 4, 5, 6, 7], 'D19_BILDUNG_RZ': [0, 1, 2, 3, 4, 5, 6, 7], 'D19_BIO_OEKO_RZ': [0, 1, 2, 3, 4, 5, 6, 7], 'D19_BUCH_RZ': [0, 1, 2, 3, 4, 5, 6, 7], 'D19_DIGIT_SERV_RZ': [0, 1, 2, 3, 4, 5, 6, 7], 'D19_DROGERIEARTIKEL_RZ': [0, 1, 2, 3, 4, 5, 6, 7], 'D19_ENERGIE_RZ': [0, 1, 2, 3, 4, 5, 6, 7], 'D19_FREIZEIT_RZ': [0, 1, 2, 3, 4, 5, 6, 7], 'D19_GARTEN_RZ': [0, 1, 2, 3, 4, 5, 6, 7], 'D19_GESAMT_ANZ_12': [0, 1, 2, 3, 4, 5, 6], 'D19_GESAMT_ANZ_24': [0, 1, 2, 3, 4, 5, 6], 'D19_GESAMT_DATUM': [1, 2, 3, 4, 5, 6, 7, 8, 9, 10], 'D19_GESAMT_OFFLINE_DATUM': [1, 2, 3, 4, 5, 6, 7, 8, 9, 10], 'D19_GESAMT_ONLINE_DATUM': [1, 2, 3, 4, 5, 6, 7, 8, 9, 10], 'D19_GESAMT_ONLINE_QUOTE_12': [0, 1, 2, 3, 4, 5, 6, 7, 8, 9, 10], 'D19_HANDWERK_RZ': [0, 1, 2, 3, 4, 5, 6, 7], 'D19_HAUS_DEKO_RZ': [0, 1, 2, 3, 4, 5, 6, 7], 'D19_KINDERARTIKEL_RZ': [0, 1, 2, 3, 4, 5, 6, 7], 'D19_KONSUMTYP': [1, 2, 3, 4, 5, 6, 9], 'D19_KK_KUNDENTYP': [-1, 1, 2, 3, 4, 5, 6], 'D19_KOSMETIK_RZ': [0, 1, 2, 3, 4, 5, 6, 7], 'D19_LEBENSMITTEL_RZ': [0, 1, 2, 3, 4, 5, 6, 7], 'D19_LOTTO_RZ': [0, 1, 2, 3, 4, 5, 6, 7], 'D19_NAHRUNGSERGAENZUNG_RZ': [0, 1, 2, 3, 4, 5, 6, 7], 'D19_RATGEBER_RZ': [0, 1, 2, 3, 4, 5, 6, 7], 'D19_REISEN_RZ': [0, 1, 2, 3, 4, 5, 6, 7], 'D19_SAMMELARTIKEL_RZ': [0, 1, 2, 3, 4, 5, 6, 7], 'D19_SCHUHE_RZ': [0, 1, 2, 3, 4, 5, 6, 7], 'D19_SONSTIGE_RZ': [0, 1, 2, 3, 4, 5, 6, 7], 'D19_TECHNIK_RZ': [0, 1, 2, 3, 4, 5, 6, 7], 'D19_TELKO_ANZ_12': [0, 1, 2, 3, 4, 5, 6], 'D19_TELKO_ANZ_24': [0, 1, 2, 3, 4, 5, 6], 'D19_TELKO_DATUM': [1, 2, 3, 4, 5, 6, 7, 8, 9, 10], 'D19_TELKO_MOBILE_RZ': [0, 1, 2, 3, 4, 5, 6, 7], 'D19_TELKO_OFFLINE_DATUM': [1, 2, 3, 4, 5, 6, 7, 8, 9, 10], 'D19_TELKO_ONLINE_DATUM': [1, 2, 3, 4, 5, 6, 7, 8, 9, 10], 'D19_TELKO_REST_RZ': [0, 1, 2, 3, 4, 5, 6, 7], 'D19_TIERARTIKEL_RZ': [0, 1, 2, 3, 4, 5, 6, 7], 'D19_VERSAND_ANZ_12': [0, 1, 2, 3, 4, 5, 6], 'D19_VERSAND_ANZ_24': [0, 1, 2, 3, 4, 5, 6], 'D19_VERSAND_DATUM': [1, 2, 3, 4, 5, 6, 7, 8, 9, 10], 'D19_VERSAND_OFFLINE_DATUM': [1, 2, 3, 4, 5, 6, 7, 8, 9, 10], 'D19_VERSAND_ONLINE_DATUM': [1, 2, 3, 4, 5, 6, 7, 8, 9, 10], 'D19_VERSAND_ONLINE_QUOTE_12': [0, 1, 2, 3, 4, 5, 6, 7, 8, 9, 10], 'D19_VERSAND_REST_RZ': [0, 1, 2, 3, 4, 5, 6, 7], 'D19_VERSICHERUNGEN_RZ': [0, 1, 2, 3, 4, 5, 6, 7], 'D19_VERSI_ANZ_12': [0, 1, 2, 3, 4, 5, 6], 'D19_VERSI_ANZ_24': [0, 1, 2, 3, 4, 5, 6], 'D19_VOLLSORTIMENT_RZ': [0, 1, 2, 3, 4, 5, 6, 7], 'D19_WEIN_FEINKOST_RZ': [0, 1, 2, 3, 4, 5, 6, 7], 'EWDICHTE': [-1, 1, 2, 3, 4, 5, 6], 'FINANZTYP': [-1, 1, 2, 3, 4, 5, 6], 'FINANZ_ANLEGER': [-1, 1, 2, 3, 4, 5], 'FINANZ_HAUSBAUER': [-1, 1, 2, 3, 4, 5], 'FINANZ_MINIMALIST': [-1, 1, 2, 3, 4, 5], 'FINANZ_SPARER': [-1, 1, 2, 3, 4, 5], 'FINANZ_UNAUFFAELLIGER': [-1, 1, 2, 3, 4, 5], 'FINANZ_VORSORGER': [-1, 1, 2, 3, 4, 5], 'GEBAEUDETYP': ['-1, 0', 1, 2, 3, 4, 5, 6, 7, 8], 'GEBAEUDETYP_RASTER': [1, 2, 3, 4, 5], 'GEBURTSJAHR': ['…'], 'GFK_URLAUBERTYP': [1, 2, 3, 4, 5, 6, 7, 8, 9, 10, 11, 12], 'GEOSCORE_KLS7': ['-1, 0', 1, 2, 3, 4, 5, 6, 7], 'GREEN_AVANTGARDE': [0, 1], 'HAUSHALTSSTRUKTUR': ['-1, 0', 1, 2, 3, 4, 5, 6, 7, 8, 9], 'HEALTH_TYP': [-1, 0, 1, 2, 3], 'HH_EINKOMMEN_SCORE': ['-1, 0', 1, 2, 3, 4, 5, 6], 'INNENSTADT': [-1, 1, 2, 3, 4, 5, 6, 7, 8], 'KBA05_ALTER1': ['-1, 9', 0, 1, 2, 3, 4], 'KBA05_ALTER2': ['-1, 9', 1, 2, 3, 4, 5], 'KBA05_ALTER3': ['-1, 9', 1, 2, 3, 4, 5], 'KBA05_ALTER4': ['-1, 9', 0, 1, 2, 3, 4, 5], 'KBA05_ANHANG': ['-1, 9', 0, 1, 2, 3], 'KBA05_ANTG1': [-1, 0, 1, 2, 3, 4], 'KBA05_ANTG2': [-1, 0, 1, 2, 3, 4], 'KBA05_ANTG3': [-1, 0, 1, 2, 3], 'KBA05_ANTG4': [-1, 0, 1, 2], 'KBA05_AUTOQUOT': [1, 2, 3, 4, 5, '-1, 9'], 'KBA05_BAUMAX': ['-1, 0', 1, 2, 3, 4, 5], 'KBA05_CCM1': ['-1, 9', 1, 2, 3, 4, 5], 'KBA05_CCM2': ['-1, 9', 1, 2, 3, 4, 5], 'KBA05_CCM3': ['-1, 9', 1, 2, 3, 4, 5], 'KBA05_CCM4': ['-1, 9', 0, 1, 2, 3, 4], 'KBA05_DIESEL': ['-1, 9', 0, 1, 2, 3, 4], 'KBA05_FRAU': ['-1, 9', 1, 2, 3, 4, 5], 'KBA05_GBZ': ['-1, 0', 1, 2, 3, 4, 5], 'KBA05_HERST1': ['-1, 9', 0, 1, 2, 3, 4, 5], 'KBA05_HERST2': ['-1, 9', 0, 1, 2, 3, 4, 5], 'KBA05_HERST3': ['-1, 9', 0, 1, 2, 3, 4, 5], 'KBA05_HERST4': ['-1, 9', 0, 1, 2, 3, 4, 5], 'KBA05_HERST5': ['-1, 9', 0, 1, 2, 3, 4, 5], 'KBA05_HERSTTEMP': ['-1, 9', 1, 2, 3, 4, 5], 'KBA05_KRSAQUOT': ['-1, 9', 1, 2, 3, 4, 5], 'KBA05_KRSHERST1': ['-1, 9', 1, 2, 3, 4, 5], 'KBA05_KRSHERST2': ['-1, 9', 1, 2, 3, 4, 5], 'KBA05_KRSHERST3': ['-1, 9', 1, 2, 3, 4, 5], 'KBA05_KRSKLEIN': ['-1, 9', 1, 2, 3], 'KBA05_KRSOBER': ['-1, 9', 1, 2, 3], 'KBA05_KRSVAN': ['-1, 9', 1, 2, 3], 'KBA05_KRSZUL': ['-1, 9', 1, 2, 3], 'KBA05_KW1': ['-1, 9', 1, 2, 3, 4, 5], 'KBA05_KW2': ['-1, 9', 1, 2, 3, 4, 5], 'KBA05_KW3': ['-1, 9', 0, 1, 2, 3, 4], 'KBA05_MAXAH': ['-1, 9', 1, 2, 3, 4, 5], 'KBA05_MAXBJ': ['-1, 9', 1, 2, 3, 4], 'KBA05_MAXHERST': ['-1, 9', 1, 2, 3, 4, 5], 'KBA05_MAXSEG': ['-1, 9', 1, 2, 3, 4], 'KBA05_MAXVORB': ['-1, 9', 1, 2, 3], 'KBA05_MOD1': ['-1, 9', 0, 1, 2, 3, 4], 'KBA05_MOD2': ['-1, 9', 1, 2, 3, 4, 5], 'KBA05_MOD3': ['-1, 9', 1, 2, 3, 4, 5], 'KBA05_MOD4': ['-1, 9', 0, 1, 2, 3, 4, 5], 'KBA05_MOD8': ['-1, 9', 0, 1, 2, 3], 'KBA05_MODTEMP': ['-1, 9', 1, 2, 3, 4, 5], 'KBA05_MOTOR': ['-1, 9', 1, 2, 3, 4], 'KBA05_MOTRAD': ['-1, 9', 0, 1, 2, 3], 'KBA05_SEG1': ['-1, 9', 0, 1, 2, 3], 'KBA05_SEG10': ['-1, 9', 0, 1, 2, 3, 4], 'KBA05_SEG2': ['-1, 9', 1, 2, 3, 4, 5], 'KBA05_SEG3': ['-1, 9', 1, 2, 3, 4, 5], 'KBA05_SEG4': ['-1, 9', 1, 2, 3, 4, 5], 'KBA05_SEG5': ['-1, 9', 0, 1, 2, 3, 4], 'KBA05_SEG6': ['-1, 9', 0, 1], 'KBA05_SEG7': ['-1, 9', 0, 1, 2, 3], 'KBA05_SEG8': ['-1, 9', 0, 1, 2, 3], 'KBA05_SEG9': ['-1, 9', 0, 1, 2, 3], 'KBA05_VORB0': ['-1, 9', 1, 2, 3, 4, 5], 'KBA05_VORB1': ['-1, 9', 1, 2, 3, 4, 5], 'KBA05_VORB2': ['-1, 9', 0, 1, 2, 3, 4, 5], 'KBA05_ZUL1': ['-1, 9', 1, 2, 3, 4, 5], 'KBA05_ZUL2': ['-1, 9', 1, 2, 3, 4, 5], 'KBA05_ZUL3': ['-1, 9', 0, 1, 2, 3, 4, 5], 'KBA05_ZUL4': ['-1, 9', 0, 1, 2, 3, 4, 5], 'KBA13_ALTERHALTER_30': [-1, 0, 1, 2, 3, 4, 5], 'KBA13_ALTERHALTER_45': [-1, 0, 1, 2, 3, 4, 5], 'KBA13_ALTERHALTER_60': [-1, 0, 1, 2, 3, 4, 5], 'KBA13_ALTERHALTER_61': [-1, 0, 1, 2, 3, 4, 5], 'KBA13_ANZAHL_PKW': ['…'], 'KBA13_AUDI': [-1, 0, 1, 2, 3, 4, 5], 'KBA13_AUTOQUOTE': [-1, 0, 1, 2, 3, 4, 5], 'KBA13_BJ_1999': [-1, 0, 1, 2, 3, 4, 5], 'KBA13_BJ_2000': [-1, 0, 1, 2, 3, 4, 5], 'KBA13_BJ_2004': [-1, 0, 1, 2, 3, 4, 5], 'KBA13_BJ_2006': [-1, 0, 1, 2, 3, 4, 5], 'KBA13_BJ_2008': [-1, 0, 1, 2, 3, 4, 5], 'KBA13_BJ_2009': [-1, 0, 1, 2, 3, 4, 5], 'KBA13_BMW': [-1, 0, 1, 2, 3, 4, 5], 'KBA13_CCM_1000': [-1, 0, 1, 2, 3, 4, 5], 'KBA13_CCM_1200': [-1, 0, 1, 2, 3, 4, 5], 'KBA13_CCM_1400': [-1, 0, 1, 2, 3, 4, 5], 'KBA13_CCM_0_1400': [-1, 0, 1, 2, 3, 4, 5], 'KBA13_CCM_1500': [-1, 0, 1, 2, 3, 4, 5], 'KBA13_CCM_1400_2500': [-1, 0, 1, 2, 3, 4, 5], 'KBA13_CCM_1600': [-1, 0, 1, 2, 3, 4, 5], 'KBA13_CCM_1800': [-1, 0, 1, 2, 3, 4, 5], 'KBA13_CCM_2000': [-1, 0, 1, 2, 3, 4, 5], 'KBA13_CCM_2500': [-1, 0, 1, 2, 3, 4, 5], 'KBA13_CCM_2501': [-1, 0, 1, 2, 3, 4, 5], 'KBA13_CCM_3000': [-1, 0, 1, 2, 3, 4, 5], 'KBA13_CCM_3001': [-1, 0, 1, 2, 3, 4, 5], 'KBA13_FAB_ASIEN': [-1, 0, 1, 2, 3, 4, 5], 'KBA13_FAB_SONSTIGE': [-1, 0, 1, 2, 3, 4, 5], 'KBA13_FIAT': [-1, 0, 1, 2, 3, 4, 5], 'KBA13_FORD': [-1, 0, 1, 2, 3, 4, 5], 'KBA13_HALTER_20': [-1, 0, 1, 2, 3, 4, 5], 'KBA13_HALTER_25': [-1, 0, 1, 2, 3, 4, 5], 'KBA13_HALTER_30': [-1, 0, 1, 2, 3, 4, 5], 'KBA13_HALTER_35': [-1, 0, 1, 2, 3, 4, 5], 'KBA13_HALTER_40': [-1, 0, 1, 2, 3, 4, 5], 'KBA13_HALTER_45': [-1, 0, 1, 2, 3, 4, 5], 'KBA13_HALTER_50': [-1, 0, 1, 2, 3, 4, 5], 'KBA13_HALTER_55': [-1, 0, 1, 2, 3, 4, 5], 'KBA13_HALTER_60': [-1, 0, 1, 2, 3, 4, 5], 'KBA13_HALTER_65': [-1, 0, 1, 2, 3, 4, 5], 'KBA13_HALTER_66': [-1, 0, 1, 2, 3, 4, 5], 'KBA13_HERST_ASIEN': [-1, 0, 1, 2, 3, 4, 5], 'KBA13_HERST_AUDI_VW': [-1, 0, 1, 2, 3, 4, 5], 'KBA13_HERST_BMW_BENZ': [-1, 0, 1, 2, 3, 4, 5], 'KBA13_HERST_EUROPA': [-1, 0, 1, 2, 3, 4, 5], 'KBA13_HERST_FORD_OPEL': [-1, 0, 1, 2, 3, 4, 5], 'KBA13_HERST_SONST': [-1, 0, 1, 2, 3, 4, 5], 'KBA13_KMH_110': [-1, 0, 1, 2, 3, 4, 5], 'KBA13_KMH_140': [-1, 0, 1, 2, 3, 4, 5], 'KBA13_KMH_180': [-1, 0, 1, 2, 3, 4, 5], 'KBA13_KMH_0_140': [-1, 0, 1, 2, 3, 4, 5], 'KBA13_KMH_140_210': [-1, 0, 1, 2, 3, 4, 5], 'KBA13_KMH_211': [-1, 0, 1, 2, 3, 4, 5], 'KBA13_KMH_250': [-1, 0, 1, 2, 3, 4, 5], 'KBA13_KMH_251': [-1, 0, 1, 2, 3, 4, 5], 'KBA13_KRSAQUOT': [-1, 0, 1, 2, 3, 4, 5], 'KBA13_KRSHERST_AUDI_VW': [-1, 0, 1, 2, 3, 4, 5], 'KBA13_KRSHERST_BMW_BENZ': [-1, 0, 1, 2, 3, 4, 5], 'KBA13_KRSHERST_FORD_OPEL': [-1, 0, 1, 2, 3, 4, 5], 'KBA13_KRSSEG_KLEIN': [-1, 0, 1, 2, 3], 'KBA13_KRSSEG_OBER': [-1, 0, 1, 2, 3], 'KBA13_KRSSEG_VAN': [-1, 0, 1, 2, 3], 'KBA13_KRSZUL_NEU': [-1, 0, 1, 2, 3], 'KBA13_KW_30': [-1, 0, 1, 2, 3, 4, 5], 'KBA13_KW_40': [-1, 0, 1, 2, 3, 4, 5], 'KBA13_KW_50': [-1, 0, 1, 2, 3, 4, 5], 'KBA13_KW_60': [-1, 0, 1, 2, 3, 4, 5], 'KBA13_KW_0_60': [-1, 0, 1, 2, 3, 4, 5], 'KBA13_KW_70': [-1, 0, 1, 2, 3, 4, 5], 'KBA13_KW_61_120': [-1, 0, 1, 2, 3, 4, 5], 'KBA13_KW_80': [-1, 0, 1, 2, 3, 4, 5], 'KBA13_KW_90': [-1, 0, 1, 2, 3, 4, 5], 'KBA13_KW_110': [-1, 0, 1, 2, 3, 4, 5], 'KBA13_KW_120': [-1, 0, 1, 2, 3, 4, 5], 'KBA13_KW_121': [-1, 0, 1, 2, 3, 4, 5], 'KBA13_MAZDA': [-1, 0, 1, 2, 3, 4, 5], 'KBA13_MERCEDES': [-1, 0, 1, 2, 3, 4, 5], 'KBA13_MOTOR': [-1, 0, 1, 2, 3, 4], 'KBA13_NISSAN': [-1, 0, 1, 2, 3, 4, 5], 'KBA13_OPEL': [-1, 0, 1, 2, 3, 4, 5], 'KBA13_PEUGEOT': [-1, 0, 1, 2, 3, 4, 5], 'KBA13_RENAULT': [-1, 0, 1, 2, 3, 4, 5], 'KBA13_SEG_GELAENDEWAGEN': [-1, 0, 1, 2, 3, 4, 5], 'KBA13_SEG_GROSSRAUMVANS': [-1, 0, 1, 2, 3, 4, 5], 'KBA13_SEG_KLEINST': [-1, 0, 1, 2, 3, 4, 5], 'KBA13_SEG_KLEINWAGEN': [-1, 0, 1, 2, 3, 4, 5], 'KBA13_SEG_KOMPAKTKLASSE': [-1, 0, 1, 2, 3, 4, 5], 'KBA13_SEG_MINIVANS': [-1, 0, 1, 2, 3, 4, 5], 'KBA13_SEG_MINIWAGEN': [-1, 0, 1, 2, 3, 4, 5], 'KBA13_SEG_MITTELKLASSE': [-1, 0, 1, 2, 3, 4, 5], 'KBA13_SEG_OBEREMITTELKLASSE': [-1, 0, 1, 2, 3, 4, 5], 'KBA13_SEG_OBERKLASSE': [-1, 0, 1, 2, 3, 4, 5], 'KBA13_SEG_SONSTIGE': [-1, 0, 1, 2, 3, 4, 5], 'KBA13_SEG_SPORTWAGEN': [-1, 0, 1, 2, 3, 4, 5], 'KBA13_SEG_UTILITIES': [-1, 0, 1, 2, 3, 4, 5], 'KBA13_SEG_VAN': [-1, 0, 1, 2, 3, 4, 5], 'KBA13_SEG_WOHNMOBILE': [-1, 0, 1, 2, 3, 4, 5], 'KBA13_SITZE_4': [-1, 0, 1, 2, 3, 4, 5], 'KBA13_SITZE_5': [-1, 0, 1, 2, 3, 4, 5], 'KBA13_SITZE_6': [-1, 0, 1, 2, 3, 4, 5], 'KBA13_TOYOTA': [-1, 0, 1, 2, 3, 4, 5], 'KBA13_VORB_0': [-1, 0, 1, 2, 3, 4, 5], 'KBA13_VORB_1': [-1, 0, 1, 2, 3, 4, 5], 'KBA13_VORB_1_2': [-1, 0, 1, 2, 3, 4, 5], 'KBA13_VORB_2': [-1, 0, 1, 2, 3, 4, 5], 'KBA13_VORB_3': [-1, 0, 1, 2, 3, 4, 5], 'KBA13_VW': [-1, 0, 1, 2, 3, 4, 5], 'KKK': ['-1, 0', 1, 2, 3, 4], 'KONSUMNAEHE': [1, 2, 3, 4, 5, 6, 7], 'LP_FAMILIE_FEIN': [1, 2, 3, 4, 5, 6, 7, 8, 9, 10, 11], 'LP_FAMILIE_GROB': [1, 2, 3, 4, 5, 6, 7, 8, 9, 10, 11], 'LP_LEBENSPHASE_FEIN': [1, 2, 3, 4, 5, 6, 7, 8, 9, 10, 11, 12, 13, 14, 15, 16, 17, 18, 19, 20, 21, 22, 23, 24, 25, 26, 27, 28, 29, 30, 31, 32, 33, 34, 35, 36, 37, 38, 39, 40], 'LP_LEBENSPHASE_GROB': [1, 2, 3, 4, 5, 6, 7, 8, 9, 10, 11, 12], 'LP_STATUS_FEIN': [1, 2, 3, 4, 5, 6, 7, 8, 9, 10], 'LP_STATUS_GROB': [1, 2, 3, 4, 5, 6, 7, 8, 9, 10], 'MIN_GEBAEUDEJAHR': ['…'], 'MOBI_REGIO': [1, 2, 3, 4, 5, 6], 'NATIONALITAET_KZ': ['-1, 0', 1, 2, 3], 'ONLINE_AFFINITAET': [0, 1, 2, 3, 4, 5], 'ORTSGR_KLS9': ['-1', 1, 2, 3, 4, 5, 6, 7, 8, 9], 'OST_WEST_KZ': [-1, 'O', 'W'], 'PLZ8_ANTG1': [-1, 0, 1, 2, 3, 4], 'PLZ8_ANTG2': [-1, 0, 1, 2, 3, 4], 'PLZ8_ANTG3': [-1, 0, 1, 2, 3], 'PLZ8_ANTG4': [-1, 0, 1, 2], 'PLZ8_BAUMAX': [1, 2, 3, 4, 5], 'PLZ8_GBZ': [-1, 1, 2, 3, 4, 5], 'PLZ8_HHZ': [-1, 1, 2, 3, 4, 5], 'PRAEGENDE_JUGENDJAHRE': ['-1, 0', 1, 2, 3, 4, 5, 6, 7, 8, 9, 10, 11, 12, 13, 14, 15], 'REGIOTYP': ['-1, 0', 1, 2, 3, 4, 5, 6, 7], 'RELAT_AB': [1, 2, 3, 4, 5, '-1, 9'], 'RETOURTYP_BK_S': [0, 1, 2, 3, 4, 5], 'SEMIO_DOM': ['-1, 9', 1, 2, 3, 4, 5, 6, 7], 'SEMIO_ERL': ['-1, 9', 1, 2, 3, 4, 5, 6, 7], 'SEMIO_FAM': ['-1, 9', 1, 2, 3, 4, 5, 6, 7], 'SEMIO_KAEM': ['-1, 9', 1, 2, 3, 4, 5, 6, 7], 'SEMIO_KRIT': ['-1, 9', 1, 2, 3, 4, 5, 6, 7], 'SEMIO_KULT': ['-1, 9', 1, 2, 3, 4, 5, 6, 7], 'SEMIO_LUST': ['-1, 9', 1, 2, 3, 4, 5, 6, 7], 'SEMIO_MAT': ['-1, 9', 1, 2, 3, 4, 5, 6, 7], 'SEMIO_PFLICHT': ['-1, 9', 1, 2, 3, 4, 5, 6, 7], 'SEMIO_RAT': ['-1, 9', 1, 2, 3, 4, 5, 6, 7], 'SEMIO_REL': ['-1, 9', 1, 2, 3, 4, 5, 6, 7], 'SEMIO_SOZ': ['-1, 9', 1, 2, 3, 4, 5, 6, 7], 'SEMIO_TRADV': ['-1, 9', 1, 2, 3, 4, 5, 6, 7], 'SEMIO_VERT': ['-1, 9', 1, 2, 3, 4, 5, 6, 7], 'SHOPPER_TYP': [-1, 0, 1, 2, 3], 'SOHO_FLAG': [-1, 0, 1], 'TITEL_KZ': ['-1, 0', 1, 2, 3, 4, 5], 'VERS_TYP': [-1, 1, 2], 'WOHNDAUER_2008': ['-1, 0', 1, 2, 3, 4, 5, 6, 7, 8, 9], 'WOHNLAGE': [-1, 0, 1, 2, 3, 4, 5, 7, 8], 'WACHSTUMSGEBIET_NB': ['-1, 0', 1, 2, 3, 4, 5], 'W_KEIT_KIND_HH': ['-1, 0', 1, 2, 3, 4, 5, 6], 'ZABEOTYP': ['-1, 9', 1, 2, 3, 4, 5, 6]}\n"
     ]
    }
   ],
   "source": [
    "print(attributes_proper_range)"
   ]
  },
  {
   "cell_type": "code",
   "execution_count": 31,
   "metadata": {},
   "outputs": [
    {
     "name": "stdout",
     "output_type": "stream",
     "text": [
      "AGER_TYP, => 5\n",
      "ALTERSKATEGORIE_GROB, => 6\n",
      "ALTER_HH, => 22\n",
      "ANREDE_KZ, => 3\n",
      "ANZ_HAUSHALTE_AKTIV, => 1\n",
      "ANZ_HH_TITEL, => 1\n",
      "ANZ_PERSONEN, => 1\n",
      "ANZ_TITEL, => 1\n",
      "BALLRAUM, => 8\n",
      "BIP_FLAG, => 3\n",
      "CAMEO_DEUG_2015, => 10\n",
      "CAMEO_DEU_2015, => 44\n",
      "CAMEO_DEUINTL_2015, => 26\n",
      "CJT_GESAMTTYP, => 7\n",
      "D19_BANKEN_ANZ_12, => 7\n",
      "D19_BANKEN_ANZ_24, => 7\n",
      "D19_BANKEN_DATUM, => 10\n",
      "D19_BANKEN_DIREKT_RZ, => 8\n",
      "D19_BANKEN_GROSS_RZ, => 8\n",
      "D19_BANKEN_LOKAL_RZ, => 8\n",
      "D19_BANKEN_OFFLINE_DATUM, => 10\n",
      "D19_BANKEN_ONLINE_DATUM, => 10\n",
      "D19_BANKEN_ONLINE_QUOTE_12, => 11\n",
      "D19_BANKEN_REST_RZ, => 8\n",
      "D19_BEKLEIDUNG_GEH_RZ, => 8\n",
      "D19_BEKLEIDUNG_REST_RZ, => 8\n",
      "D19_BILDUNG_RZ, => 8\n",
      "D19_BIO_OEKO_RZ, => 8\n",
      "D19_BUCH_RZ, => 8\n",
      "D19_DIGIT_SERV_RZ, => 8\n",
      "D19_DROGERIEARTIKEL_RZ, => 8\n",
      "D19_ENERGIE_RZ, => 8\n",
      "D19_FREIZEIT_RZ, => 8\n",
      "D19_GARTEN_RZ, => 8\n",
      "D19_GESAMT_ANZ_12, => 7\n",
      "D19_GESAMT_ANZ_24, => 7\n",
      "D19_GESAMT_DATUM, => 10\n",
      "D19_GESAMT_OFFLINE_DATUM, => 10\n",
      "D19_GESAMT_ONLINE_DATUM, => 10\n",
      "D19_GESAMT_ONLINE_QUOTE_12, => 11\n",
      "D19_HANDWERK_RZ, => 8\n",
      "D19_HAUS_DEKO_RZ, => 8\n",
      "D19_KINDERARTIKEL_RZ, => 8\n",
      "D19_KONSUMTYP, => 7\n",
      "D19_KK_KUNDENTYP, => 7\n",
      "D19_KOSMETIK_RZ, => 8\n",
      "D19_LEBENSMITTEL_RZ, => 8\n",
      "D19_LOTTO_RZ, => 8\n",
      "D19_NAHRUNGSERGAENZUNG_RZ, => 8\n",
      "D19_RATGEBER_RZ, => 8\n",
      "D19_REISEN_RZ, => 8\n",
      "D19_SAMMELARTIKEL_RZ, => 8\n",
      "D19_SCHUHE_RZ, => 8\n",
      "D19_SONSTIGE_RZ, => 8\n",
      "D19_TECHNIK_RZ, => 8\n",
      "D19_TELKO_ANZ_12, => 7\n",
      "D19_TELKO_ANZ_24, => 7\n",
      "D19_TELKO_DATUM, => 10\n",
      "D19_TELKO_MOBILE_RZ, => 8\n",
      "D19_TELKO_OFFLINE_DATUM, => 10\n",
      "D19_TELKO_ONLINE_DATUM, => 10\n",
      "D19_TELKO_REST_RZ, => 8\n",
      "D19_TIERARTIKEL_RZ, => 8\n",
      "D19_VERSAND_ANZ_12, => 7\n",
      "D19_VERSAND_ANZ_24, => 7\n",
      "D19_VERSAND_DATUM, => 10\n",
      "D19_VERSAND_OFFLINE_DATUM, => 10\n",
      "D19_VERSAND_ONLINE_DATUM, => 10\n",
      "D19_VERSAND_ONLINE_QUOTE_12, => 11\n",
      "D19_VERSAND_REST_RZ, => 8\n",
      "D19_VERSICHERUNGEN_RZ, => 8\n",
      "D19_VERSI_ANZ_12, => 7\n",
      "D19_VERSI_ANZ_24, => 7\n",
      "D19_VOLLSORTIMENT_RZ, => 8\n",
      "D19_WEIN_FEINKOST_RZ, => 8\n",
      "EWDICHTE, => 7\n",
      "FINANZTYP, => 7\n",
      "FINANZ_ANLEGER, => 6\n",
      "FINANZ_HAUSBAUER, => 6\n",
      "FINANZ_MINIMALIST, => 6\n",
      "FINANZ_SPARER, => 6\n",
      "FINANZ_UNAUFFAELLIGER, => 6\n",
      "FINANZ_VORSORGER, => 6\n",
      "GEBAEUDETYP, => 9\n",
      "GEBAEUDETYP_RASTER, => 5\n",
      "GEBURTSJAHR, => 1\n",
      "GFK_URLAUBERTYP, => 12\n",
      "GEOSCORE_KLS7, => 8\n",
      "GREEN_AVANTGARDE, => 2\n",
      "HAUSHALTSSTRUKTUR, => 10\n",
      "HEALTH_TYP, => 5\n",
      "HH_EINKOMMEN_SCORE, => 7\n",
      "INNENSTADT, => 9\n",
      "KBA05_ALTER1, => 6\n",
      "KBA05_ALTER2, => 6\n",
      "KBA05_ALTER3, => 6\n",
      "KBA05_ALTER4, => 7\n",
      "KBA05_ANHANG, => 5\n",
      "KBA05_ANTG1, => 6\n",
      "KBA05_ANTG2, => 6\n",
      "KBA05_ANTG3, => 5\n",
      "KBA05_ANTG4, => 4\n",
      "KBA05_AUTOQUOT, => 6\n",
      "KBA05_BAUMAX, => 6\n",
      "KBA05_CCM1, => 6\n",
      "KBA05_CCM2, => 6\n",
      "KBA05_CCM3, => 6\n",
      "KBA05_CCM4, => 6\n",
      "KBA05_DIESEL, => 6\n",
      "KBA05_FRAU, => 6\n",
      "KBA05_GBZ, => 6\n",
      "KBA05_HERST1, => 7\n",
      "KBA05_HERST2, => 7\n",
      "KBA05_HERST3, => 7\n",
      "KBA05_HERST4, => 7\n",
      "KBA05_HERST5, => 7\n",
      "KBA05_HERSTTEMP, => 6\n",
      "KBA05_KRSAQUOT, => 6\n",
      "KBA05_KRSHERST1, => 6\n",
      "KBA05_KRSHERST2, => 6\n",
      "KBA05_KRSHERST3, => 6\n",
      "KBA05_KRSKLEIN, => 4\n",
      "KBA05_KRSOBER, => 4\n",
      "KBA05_KRSVAN, => 4\n",
      "KBA05_KRSZUL, => 4\n",
      "KBA05_KW1, => 6\n",
      "KBA05_KW2, => 6\n",
      "KBA05_KW3, => 6\n",
      "KBA05_MAXAH, => 6\n",
      "KBA05_MAXBJ, => 5\n",
      "KBA05_MAXHERST, => 6\n",
      "KBA05_MAXSEG, => 5\n",
      "KBA05_MAXVORB, => 4\n",
      "KBA05_MOD1, => 6\n",
      "KBA05_MOD2, => 6\n",
      "KBA05_MOD3, => 6\n",
      "KBA05_MOD4, => 7\n",
      "KBA05_MOD8, => 5\n",
      "KBA05_MODTEMP, => 6\n",
      "KBA05_MOTOR, => 5\n",
      "KBA05_MOTRAD, => 5\n",
      "KBA05_SEG1, => 5\n",
      "KBA05_SEG10, => 6\n",
      "KBA05_SEG2, => 6\n",
      "KBA05_SEG3, => 6\n",
      "KBA05_SEG4, => 6\n",
      "KBA05_SEG5, => 6\n",
      "KBA05_SEG6, => 3\n",
      "KBA05_SEG7, => 5\n",
      "KBA05_SEG8, => 5\n",
      "KBA05_SEG9, => 5\n",
      "KBA05_VORB0, => 6\n",
      "KBA05_VORB1, => 6\n",
      "KBA05_VORB2, => 7\n",
      "KBA05_ZUL1, => 6\n",
      "KBA05_ZUL2, => 6\n",
      "KBA05_ZUL3, => 7\n",
      "KBA05_ZUL4, => 7\n",
      "KBA13_ALTERHALTER_30, => 7\n",
      "KBA13_ALTERHALTER_45, => 7\n",
      "KBA13_ALTERHALTER_60, => 7\n",
      "KBA13_ALTERHALTER_61, => 7\n",
      "KBA13_ANZAHL_PKW, => 1\n",
      "KBA13_AUDI, => 7\n",
      "KBA13_AUTOQUOTE, => 7\n",
      "KBA13_BJ_1999, => 7\n",
      "KBA13_BJ_2000, => 7\n",
      "KBA13_BJ_2004, => 7\n",
      "KBA13_BJ_2006, => 7\n",
      "KBA13_BJ_2008, => 7\n",
      "KBA13_BJ_2009, => 7\n",
      "KBA13_BMW, => 7\n",
      "KBA13_CCM_1000, => 7\n",
      "KBA13_CCM_1200, => 7\n",
      "KBA13_CCM_1400, => 7\n",
      "KBA13_CCM_0_1400, => 7\n",
      "KBA13_CCM_1500, => 7\n",
      "KBA13_CCM_1400_2500, => 7\n",
      "KBA13_CCM_1600, => 7\n",
      "KBA13_CCM_1800, => 7\n",
      "KBA13_CCM_2000, => 7\n",
      "KBA13_CCM_2500, => 7\n",
      "KBA13_CCM_2501, => 7\n",
      "KBA13_CCM_3000, => 7\n",
      "KBA13_CCM_3001, => 7\n",
      "KBA13_FAB_ASIEN, => 7\n",
      "KBA13_FAB_SONSTIGE, => 7\n",
      "KBA13_FIAT, => 7\n",
      "KBA13_FORD, => 7\n",
      "KBA13_HALTER_20, => 7\n",
      "KBA13_HALTER_25, => 7\n",
      "KBA13_HALTER_30, => 7\n",
      "KBA13_HALTER_35, => 7\n",
      "KBA13_HALTER_40, => 7\n",
      "KBA13_HALTER_45, => 7\n",
      "KBA13_HALTER_50, => 7\n",
      "KBA13_HALTER_55, => 7\n",
      "KBA13_HALTER_60, => 7\n",
      "KBA13_HALTER_65, => 7\n",
      "KBA13_HALTER_66, => 7\n",
      "KBA13_HERST_ASIEN, => 7\n",
      "KBA13_HERST_AUDI_VW, => 7\n",
      "KBA13_HERST_BMW_BENZ, => 7\n",
      "KBA13_HERST_EUROPA, => 7\n",
      "KBA13_HERST_FORD_OPEL, => 7\n",
      "KBA13_HERST_SONST, => 7\n",
      "KBA13_KMH_110, => 7\n",
      "KBA13_KMH_140, => 7\n",
      "KBA13_KMH_180, => 7\n",
      "KBA13_KMH_0_140, => 7\n",
      "KBA13_KMH_140_210, => 7\n",
      "KBA13_KMH_211, => 7\n",
      "KBA13_KMH_250, => 7\n",
      "KBA13_KMH_251, => 7\n",
      "KBA13_KRSAQUOT, => 7\n",
      "KBA13_KRSHERST_AUDI_VW, => 7\n",
      "KBA13_KRSHERST_BMW_BENZ, => 7\n",
      "KBA13_KRSHERST_FORD_OPEL, => 7\n",
      "KBA13_KRSSEG_KLEIN, => 5\n",
      "KBA13_KRSSEG_OBER, => 5\n",
      "KBA13_KRSSEG_VAN, => 5\n",
      "KBA13_KRSZUL_NEU, => 5\n",
      "KBA13_KW_30, => 7\n",
      "KBA13_KW_40, => 7\n",
      "KBA13_KW_50, => 7\n",
      "KBA13_KW_60, => 7\n",
      "KBA13_KW_0_60, => 7\n",
      "KBA13_KW_70, => 7\n",
      "KBA13_KW_61_120, => 7\n",
      "KBA13_KW_80, => 7\n",
      "KBA13_KW_90, => 7\n",
      "KBA13_KW_110, => 7\n",
      "KBA13_KW_120, => 7\n",
      "KBA13_KW_121, => 7\n",
      "KBA13_MAZDA, => 7\n",
      "KBA13_MERCEDES, => 7\n",
      "KBA13_MOTOR, => 6\n",
      "KBA13_NISSAN, => 7\n",
      "KBA13_OPEL, => 7\n",
      "KBA13_PEUGEOT, => 7\n",
      "KBA13_RENAULT, => 7\n",
      "KBA13_SEG_GELAENDEWAGEN, => 7\n",
      "KBA13_SEG_GROSSRAUMVANS, => 7\n",
      "KBA13_SEG_KLEINST, => 7\n",
      "KBA13_SEG_KLEINWAGEN, => 7\n",
      "KBA13_SEG_KOMPAKTKLASSE, => 7\n",
      "KBA13_SEG_MINIVANS, => 7\n",
      "KBA13_SEG_MINIWAGEN, => 7\n",
      "KBA13_SEG_MITTELKLASSE, => 7\n",
      "KBA13_SEG_OBEREMITTELKLASSE, => 7\n",
      "KBA13_SEG_OBERKLASSE, => 7\n",
      "KBA13_SEG_SONSTIGE, => 7\n",
      "KBA13_SEG_SPORTWAGEN, => 7\n",
      "KBA13_SEG_UTILITIES, => 7\n",
      "KBA13_SEG_VAN, => 7\n",
      "KBA13_SEG_WOHNMOBILE, => 7\n",
      "KBA13_SITZE_4, => 7\n",
      "KBA13_SITZE_5, => 7\n",
      "KBA13_SITZE_6, => 7\n",
      "KBA13_TOYOTA, => 7\n",
      "KBA13_VORB_0, => 7\n",
      "KBA13_VORB_1, => 7\n",
      "KBA13_VORB_1_2, => 7\n",
      "KBA13_VORB_2, => 7\n",
      "KBA13_VORB_3, => 7\n",
      "KBA13_VW, => 7\n",
      "KKK, => 5\n",
      "KONSUMNAEHE, => 7\n",
      "LP_FAMILIE_FEIN, => 11\n",
      "LP_FAMILIE_GROB, => 11\n",
      "LP_LEBENSPHASE_FEIN, => 40\n",
      "LP_LEBENSPHASE_GROB, => 12\n",
      "LP_STATUS_FEIN, => 10\n",
      "LP_STATUS_GROB, => 10\n",
      "MIN_GEBAEUDEJAHR, => 1\n",
      "MOBI_REGIO, => 6\n",
      "NATIONALITAET_KZ, => 4\n",
      "ONLINE_AFFINITAET, => 6\n",
      "ORTSGR_KLS9, => 10\n",
      "OST_WEST_KZ, => 3\n",
      "PLZ8_ANTG1, => 6\n",
      "PLZ8_ANTG2, => 6\n",
      "PLZ8_ANTG3, => 5\n",
      "PLZ8_ANTG4, => 4\n",
      "PLZ8_BAUMAX, => 5\n",
      "PLZ8_GBZ, => 6\n",
      "PLZ8_HHZ, => 6\n",
      "PRAEGENDE_JUGENDJAHRE, => 16\n",
      "REGIOTYP, => 8\n",
      "RELAT_AB, => 6\n",
      "RETOURTYP_BK_S, => 6\n",
      "SEMIO_DOM, => 8\n",
      "SEMIO_ERL, => 8\n",
      "SEMIO_FAM, => 8\n",
      "SEMIO_KAEM, => 8\n",
      "SEMIO_KRIT, => 8\n",
      "SEMIO_KULT, => 8\n",
      "SEMIO_LUST, => 8\n",
      "SEMIO_MAT, => 8\n",
      "SEMIO_PFLICHT, => 8\n",
      "SEMIO_RAT, => 8\n",
      "SEMIO_REL, => 8\n",
      "SEMIO_SOZ, => 8\n",
      "SEMIO_TRADV, => 8\n",
      "SEMIO_VERT, => 8\n",
      "SHOPPER_TYP, => 5\n",
      "SOHO_FLAG, => 3\n",
      "TITEL_KZ, => 6\n",
      "VERS_TYP, => 3\n",
      "WOHNDAUER_2008, => 10\n",
      "WOHNLAGE, => 9\n",
      "WACHSTUMSGEBIET_NB, => 6\n",
      "W_KEIT_KIND_HH, => 7\n",
      "ZABEOTYP, => 7\n"
     ]
    }
   ],
   "source": [
    "for key, value in attributes_proper_range.items():\n",
    "    print(f'{key}, => {len(value)}')"
   ]
  },
  {
   "cell_type": "code",
   "execution_count": 32,
   "metadata": {},
   "outputs": [],
   "source": [
    "def get_difference(actual_entries_dictionary):\n",
    "    \n",
    "    dict_of_outliers = {}\n",
    "    for key, value in actual_entries_dictionary.items():\n",
    "        if key in attributes_proper_range:\n",
    "            dict_of_outliers[key] = [item for item in value if item not in attributes_proper_range[key]]\n",
    "    return dict_of_outliers"
   ]
  },
  {
   "cell_type": "code",
   "execution_count": 33,
   "metadata": {},
   "outputs": [
    {
     "name": "stdout",
     "output_type": "stream",
     "text": [
      "ANZ_HAUSHALTE_AKTIV [nan, 11.0, 10.0, 1.0, 3.0, 5.0, 4.0, 6.0, 2.0, 9.0, 0.0, 14.0, 13.0, 8.0, 7.0, 44.0, 25.0, 36.0, 16.0, 272.0, 33.0, 15.0, 12.0, 22.0, 21.0, 20.0, 67.0, 23.0, 18.0, 27.0, 24.0, 31.0, 39.0, 19.0, 30.0, 17.0, 29.0, 61.0, 54.0, 88.0, 49.0, 60.0, 38.0, 34.0, 48.0, 35.0, 62.0, 26.0, 45.0, 42.0, 28.0, 77.0, 47.0, 50.0, 236.0, 137.0, 43.0, 52.0, 41.0, 76.0, 63.0, 32.0, 40.0, 37.0, 59.0, 53.0, 57.0, 118.0, 66.0, 95.0, 78.0, 70.0, 46.0, 185.0, 73.0, 154.0, 80.0, 102.0, 92.0, 126.0, 94.0, 71.0, 68.0, 81.0, 69.0, 121.0, 258.0, 58.0, 86.0, 124.0, 85.0, 90.0, 128.0, 51.0, 72.0, 64.0, 56.0, 83.0, 150.0, 259.0, 91.0, 160.0, 134.0, 169.0, 246.0, 82.0, 114.0, 183.0, 116.0, 74.0, 143.0, 99.0, 216.0, 98.0, 125.0, 112.0, 123.0, 55.0, 120.0, 75.0, 141.0, 103.0, 87.0, 89.0, 223.0, 93.0, 179.0, 135.0, 149.0, 97.0, 101.0, 110.0, 79.0, 111.0, 109.0, 65.0, 84.0, 367.0, 162.0, 195.0, 107.0, 119.0, 331.0, 122.0, 161.0, 157.0, 175.0, 177.0, 136.0, 104.0, 316.0, 127.0, 100.0, 180.0, 155.0, 133.0, 178.0, 176.0, 108.0, 353.0, 131.0, 130.0, 96.0, 256.0, 117.0, 146.0, 211.0, 199.0, 140.0, 200.0, 106.0, 285.0, 263.0, 314.0, 253.0, 163.0, 377.0, 171.0, 148.0, 191.0, 243.0, 153.0, 145.0, 174.0, 172.0, 190.0, 142.0, 317.0, 244.0, 189.0, 286.0, 105.0, 170.0, 215.0, 321.0, 113.0, 115.0, 156.0, 129.0, 242.0, 132.0, 280.0, 159.0, 138.0, 158.0, 267.0, 151.0, 164.0, 187.0, 206.0, 266.0, 265.0, 209.0, 196.0, 139.0, 193.0, 184.0, 210.0, 260.0, 366.0, 194.0, 318.0, 344.0, 277.0, 595.0, 197.0, 247.0, 165.0, 283.0, 326.0, 181.0, 186.0, 438.0, 222.0, 144.0, 378.0, 237.0, 152.0, 208.0, 274.0, 430.0, 202.0, 214.0, 231.0, 219.0, 225.0, 230.0, 198.0, 224.0, 333.0, 168.0, 221.0, 523.0, 254.0, 305.0, 166.0, 252.0, 445.0, 147.0, 301.0, 213.0, 536.0, 220.0, 249.0, 290.0, 515.0, 276.0, 241.0, 204.0, 250.0, 218.0, 226.0, 201.0, 240.0, 404.0, 348.0, 328.0, 228.0, 304.0, 167.0, 346.0, 205.0, 207.0, 293.0, 255.0, 307.0, 414.0, 311.0, 347.0, 379.0, 395.0, 229.0, 232.0]\n",
      "ANZ_HH_TITEL [nan, 0.0, 1.0, 5.0, 2.0, 3.0, 7.0, 4.0, 6.0, 9.0, 15.0, 14.0, 8.0, 11.0, 10.0, 12.0, 13.0, 20.0, 16.0, 17.0, 23.0, 18.0]\n",
      "ANZ_PERSONEN [nan, 2.0, 1.0, 0.0, 4.0, 3.0, 5.0, 7.0, 6.0, 8.0, 12.0, 9.0, 21.0, 10.0, 13.0, 11.0, 14.0, 45.0, 20.0, 31.0, 29.0, 37.0, 16.0, 22.0, 15.0, 23.0, 18.0, 35.0, 17.0, 40.0, 38.0]\n",
      "ANZ_TITEL [nan, 0.0, 1.0, 2.0, 4.0, 3.0, 6.0]\n",
      "GEBURTSJAHR [0, 1996, 1979, 1957, 1963, 1943, 1964, 1974, 1975, 1941, 1993, 1946, 1988, 1991, 1966, 1949, 1982, 1972, 1990, 1985, 1989, 1948, 1935, 1997, 1994, 1987, 2002, 1950, 1965, 1969, 1978, 1958, 1944, 1967, 1977, 1960, 1970, 1973, 1971, 1937, 1947, 1926, 1954, 1981, 1962, 1992, 2008, 1976, 1928, 1927, 1968, 1940, 1952, 1961, 2006, 1938, 1945, 1942, 1984, 1930, 1980, 1959, 1986, 1931, 1955, 1983, 2010, 1951, 1921, 1929, 1939, 2001, 1995, 1956, 1953, 2012, 1934, 1913, 1914, 1922, 2004, 1936, 2009, 1915, 2003, 2013, 1998, 2007, 1932, 2005, 1923, 1925, 2015, 1933, 2017, 2000, 1999, 2014, 1920, 1918, 1924, 2016, 2011, 1908, 1919, 1916, 1917, 1912, 1911, 1909, 1910, 1904, 1906, 1905, 1900, 1907, 1902]\n",
      "KBA05_MODTEMP [nan, 6.0]\n",
      "KBA13_ANZAHL_PKW [nan, 963.0, 712.0, 596.0, 435.0, 1300.0, 867.0, 758.0, 511.0, 530.0, 424.0, 1106.0, 486.0, 876.0, 387.0, 621.0, 694.0, 537.0, 1500.0, 711.0, 545.0, 348.0, 452.0, 439.0, 442.0, 469.0, 670.0, 203.0, 635.0, 309.0, 463.0, 352.0, 524.0, 891.0, 444.0, 652.0, 378.0, 810.0, 594.0, 395.0, 713.0, 584.0, 354.0, 633.0, 961.0, 363.0, 886.0, 385.0, 874.0, 990.0, 666.0, 380.0, 218.0, 847.0, 693.0, 429.0, 423.0, 392.0, 1800.0, 504.0, 632.0, 581.0, 638.0, 1400.0, 1023.0, 546.0, 1114.0, 554.0, 799.0, 738.0, 622.0, 228.0, 578.0, 612.0, 329.0, 229.0, 768.0, 834.0, 556.0, 668.0, 436.0, 565.0, 209.0, 534.0, 994.0, 474.0, 437.0, 958.0, 477.0, 421.0, 127.0, 453.0, 656.0, 681.0, 409.0, 367.0, 311.0, 293.0, 613.0, 526.0, 460.0, 665.0, 520.0, 492.0, 748.0, 625.0, 340.0, 242.0, 611.0, 708.0, 602.0, 1008.0, 716.0, 873.0, 598.0, 1600.0, 763.0, 324.0, 304.0, 896.0, 683.0, 419.0, 797.0, 605.0, 399.0, 615.0, 710.0, 521.0, 563.0, 369.0, 871.0, 657.0, 599.0, 717.0, 595.0, 153.0, 884.0, 1205.0, 473.0, 370.0, 287.0, 669.0, 375.0, 650.0, 618.0, 288.0, 285.0, 319.0, 391.0, 1140.0, 428.0, 137.0, 272.0, 355.0, 188.0, 302.0, 412.0, 487.0, 201.0, 253.0, 512.0, 267.0, 317.0, 368.0, 793.0, 579.0, 342.0, 785.0, 993.0, 255.0, 459.0, 448.0, 283.0, 586.0, 755.0, 888.0, 443.0, 854.0, 779.0, 1196.0, 431.0, 438.0, 215.0, 689.0, 957.0, 890.0, 1216.0, 1900.0, 646.0, 573.0, 280.0, 1092.0, 727.0, 1220.0, 301.0, 418.0, 1066.0, 764.0, 211.0, 451.0, 697.0, 341.0, 1198.0, 746.0, 617.0, 603.0, 1040.0, 308.0, 631.0, 690.0, 372.0, 499.0, 660.0, 700.0, 544.0, 754.0, 833.0, 882.0, 564.0, 356.0, 644.0, 572.0, 384.0, 450.0, 678.0, 259.0, 410.0, 983.0, 290.0, 237.0, 336.0, 420.0, 268.0, 1021.0, 1094.0, 1201.0, 587.0, 1700.0, 536.0, 1013.0, 417.0, 1239.0, 837.0, 458.0, 923.0, 642.0, 398.0, 828.0, 679.0, 540.0, 339.0, 195.0, 1197.0, 249.0, 154.0, 984.0, 734.0, 723.0, 333.0, 714.0, 346.0, 879.0, 918.0, 485.0, 501.0, 480.0, 970.0, 379.0, 682.0, 1165.0, 508.0, 510.0, 1193.0, 292.0, 507.0, 719.0, 607.0, 471.0, 517.0, 482.0, 798.0, 390.0, 1083.0, 359.0, 547.0, 582.0, 778.0, 495.0, 406.0, 569.0, 403.0, 413.0, 506.0, 366.0, 88.0, 701.0, 590.0, 1022.0, 861.0, 560.0, 327.0, 1130.0, 1126.0, 2100.0, 802.0, 745.0, 516.0, 328.0, 503.0, 661.0, 297.0, 571.0, 688.0, 364.0, 807.0, 71.0, 204.0, 969.0, 303.0, 129.0, 757.0, 194.0, 770.0, 1054.0, 489.0, 335.0, 396.0, 916.0, 484.0, 1132.0, 1070.0, 624.0, 230.0, 117.0, 494.0, 686.0, 371.0, 434.0, 558.0, 862.0, 251.0, 479.0, 178.0, 281.0, 277.0, 140.0, 747.0, 575.0, 381.0, 1057.0, 159.0, 672.0, 456.0, 675.0, 561.0, 475.0, 161.0, 236.0, 296.0, 740.0, 185.0, 325.0, 851.0, 744.0, 803.0, 626.0, 496.0, 562.0, 667.0, 320.0, 795.0, 570.0, 343.0, 141.0, 982.0, 731.0, 857.0, 784.0, 362.0, 468.0, 330.0, 488.0, 950.0, 749.0, 973.0, 846.0, 408.0, 627.0, 691.0, 1056.0, 2000.0, 298.0, 449.0, 349.0, 551.0, 252.0, 464.0, 593.0, 692.0, 580.0, 254.0, 559.0, 651.0, 812.0, 685.0, 796.0, 125.0, 233.0, 289.0, 43.0, 1007.0, 411.0, 539.0, 257.0, 109.0, 225.0, 1190.0, 659.0, 1045.0, 839.0, 377.0, 404.0, 620.0, 478.0, 1078.0, 750.0, 528.0, 454.0, 407.0, 337.0, 634.0, 1131.0, 937.0, 1125.0, 766.0, 533.0, 183.0, 608.0, 577.0, 772.0, 250.0, 781.0, 476.0, 724.0, 223.0, 831.0, 345.0, 529.0, 401.0, 756.0, 266.0, 427.0, 1229.0, 938.0, 557.0, 312.0, 247.0, 221.0, 1027.0, 315.0, 739.0, 907.0, 542.0, 525.0, 610.0, 212.0, 466.0, 400.0, 491.0, 498.0, 733.0, 726.0, 641.0, 654.0, 818.0, 840.0, 1188.0, 959.0, 130.0, 231.0, 157.0, 291.0, 197.0, 313.0, 271.0, 326.0, 260.0, 915.0, 344.0, 241.0, 402.0, 1164.0, 902.0, 1080.0, 1127.0, 629.0, 245.0, 307.0, 145.0, 461.0, 532.0, 502.0, 151.0, 481.0, 104.0, 877.0, 531.0, 806.0, 771.0, 900.0, 939.0, 206.0, 234.0, 505.0, 457.0, 966.0, 262.0, 414.0, 175.0, 1042.0, 1046.0, 446.0, 897.0, 925.0, 112.0, 357.0, 405.0, 541.0, 1178.0, 737.0, 497.0, 167.0, 389.0, 1097.0, 568.0, 722.0, 680.0, 299.0, 210.0, 270.0, 817.0, 1137.0, 623.0, 213.0, 1077.0, 196.0, 318.0, 813.0, 455.0, 217.0, 943.0, 316.0, 115.0, 762.0, 752.0, 720.0, 1065.0, 616.0, 310.0, 1232.0, 286.0, 522.0, 263.0, 1019.0, 677.0, 79.0, 1245.0, 515.0, 1016.0, 1151.0, 869.0, 550.0, 415.0, 776.0, 1238.0, 358.0, 162.0, 655.0, 892.0, 1160.0, 216.0, 643.0, 1110.0, 275.0, 150.0, 322.0, 619.0, 519.0, 941.0, 373.0, 214.0, 783.0, 819.0, 567.0, 591.0, 1129.0, 673.0, 715.0, 804.0, 465.0, 702.0, 493.0, 782.0, 597.0, 703.0, 1138.0, 759.0, 640.0, 971.0, 709.0, 549.0, 962.0, 866.0, 741.0, 394.0, 1249.0, 350.0, 1219.0, 2300.0, 509.0, 294.0, 273.0, 997.0, 841.0, 445.0, 647.0, 543.0, 1062.0, 193.0, 523.0, 430.0, 794.0, 527.0, 825.0, 630.0, 1212.0, 246.0, 1068.0, 604.0, 878.0, 174.0, 382.0, 279.0, 500.0, 365.0, 774.0, 126.0, 777.0, 898.0, 351.0, 780.0, 284.0, 1235.0, 416.0, 695.0, 1121.0, 323.0, 467.0, 895.0, 698.0, 718.0, 179.0, 775.0, 863.0, 1154.0, 636.0, 953.0, 968.0, 705.0, 388.0, 1109.0, 765.0, 838.0, 639.0, 919.0, 146.0, 331.0, 386.0, 956.0, 964.0, 433.0, 829.0, 425.0, 589.0, 933.0, 181.0, 671.0, 751.0, 944.0, 94.0, 566.0, 397.0, 725.0, 899.0, 265.0, 103.0, 462.0, 908.0, 653.0, 706.0, 824.0, 553.0, 742.0, 1015.0, 674.0, 1175.0, 860.0, 601.0, 845.0, 332.0, 27.0, 1059.0, 1236.0, 347.0, 875.0, 952.0, 921.0, 1167.0, 393.0, 426.0, 142.0, 222.0, 334.0, 202.0, 849.0, 106.0, 256.0, 374.0, 628.0, 1009.0, 730.0, 269.0, 995.0, 980.0, 1075.0, 585.0, 555.0, 649.0, 809.0, 490.0, 830.0, 936.0, 945.0, 729.0, 1037.0, 44.0, 440.0, 441.0, 121.0, 823.0, 447.0, 376.0, 518.0, 881.0, 951.0, 967.0, 239.0, 1210.0, 704.0, 760.0, 1116.0, 606.0, 305.0, 870.0, 975.0, 1031.0, 128.0, 1250.0, 1028.0, 1090.0, 1024.0, 1089.0, 789.0, 1146.0, 583.0, 989.0, 227.0, 786.0, 548.0, 903.0, 609.0, 1108.0, 282.0, 658.0, 1020.0, 219.0, 928.0, 979.0, 614.0, 826.0, 736.0, 1113.0, 1152.0, 187.0, 814.0, 432.0, 552.0, 926.0, 0.0, 859.0, 1195.0, 535.0, 1215.0, 383.0, 1139.0, 976.0, 946.0, 92.0, 172.0, 63.0, 1099.0, 224.0, 637.0, 155.0, 827.0, 1087.0, 767.0, 306.0, 843.0, 243.0, 198.0, 645.0, 171.0, 207.0, 910.0, 164.0, 483.0, 811.0, 940.0, 885.0, 922.0, 790.0, 1060.0, 1058.0, 821.0, 735.0, 836.0, 648.0, 991.0, 1133.0, 1162.0, 1153.0, 1043.0, 865.0, 707.0, 788.0, 905.0, 1173.0, 800.0, 240.0, 163.0, 108.0, 998.0, 100.0, 842.0, 664.0, 135.0, 1150.0, 1233.0, 1039.0, 238.0, 687.0, 805.0, 422.0, 1088.0, 1117.0, 1230.0, 1017.0, 1102.0, 1049.0, 77.0, 1119.0, 1179.0, 192.0, 220.0, 912.0, 1105.0, 1035.0, 37.0, 930.0, 276.0, 321.0, 773.0, 261.0, 684.0, 761.0, 600.0, 1053.0, 1189.0, 67.0, 935.0, 170.0, 180.0, 91.0, 360.0, 914.0, 893.0, 190.0, 769.0, 852.0, 1096.0, 822.0, 513.0, 166.0, 883.0, 184.0, 1104.0, 858.0, 1246.0, 314.0, 889.0, 248.0, 1082.0, 663.0, 1051.0, 78.0, 894.0, 177.0, 574.0, 576.0, 186.0, 353.0, 232.0, 1223.0, 1052.0, 1217.0, 136.0, 191.0, 835.0, 1243.0, 124.0, 97.0, 165.0, 1172.0, 732.0, 1169.0, 1191.0, 1177.0, 1011.0, 176.0, 96.0, 111.0, 787.0, 1204.0, 1044.0, 1161.0, 1061.0, 538.0, 148.0, 1218.0, 1194.0, 1142.0, 1209.0, 1192.0, 850.0, 924.0, 1149.0, 189.0, 1003.0, 592.0, 791.0, 1128.0, 338.0, 801.0, 89.0, 168.0, 131.0, 107.0, 295.0, 472.0, 147.0, 792.0, 258.0, 949.0, 981.0, 2200.0, 1004.0, 1134.0, 1041.0, 470.0, 1025.0, 927.0, 972.0, 816.0, 182.0, 992.0, 120.0, 300.0, 931.0, 985.0, 588.0, 1006.0, 200.0, 514.0, 1072.0, 264.0, 133.0, 1086.0, 132.0, 909.0, 143.0, 1234.0, 74.0, 226.0, 887.0, 1144.0, 1241.0, 696.0, 743.0, 1203.0, 815.0, 11.0, 1014.0, 95.0, 1101.0, 1084.0, 934.0, 278.0, 1202.0, 965.0, 118.0, 986.0, 134.0, 832.0, 9.0, 1145.0, 1029.0, 361.0, 699.0, 988.0, 753.0, 1159.0, 113.0, 1079.0, 64.0, 156.0, 116.0, 855.0, 955.0, 1107.0, 1098.0, 274.0, 1071.0, 929.0, 101.0, 119.0, 1180.0, 105.0, 901.0, 676.0, 1010.0, 906.0, 39.0, 880.0, 848.0, 1226.0, 87.0, 1018.0, 1214.0, 49.0, 205.0, 1231.0, 1012.0, 853.0, 864.0, 123.0, 977.0, 872.0, 1227.0, 947.0, 114.0, 93.0, 1157.0, 721.0, 974.0, 122.0, 199.0, 1050.0, 1063.0, 244.0, 978.0, 235.0, 1048.0, 1170.0, 1182.0, 160.0, 1123.0, 158.0, 46.0, 1064.0, 1181.0, 169.0, 1136.0, 1163.0, 1069.0, 1091.0, 1206.0, 1005.0, 1213.0, 728.0, 1000.0, 110.0, 1148.0, 1158.0, 1111.0, 987.0, 1085.0, 1115.0, 1135.0, 808.0, 913.0, 102.0, 917.0, 1242.0, 904.0, 152.0, 1122.0, 844.0, 42.0, 53.0, 1112.0, 208.0, 52.0, 820.0, 1176.0, 662.0, 1240.0, 1228.0, 1047.0, 82.0, 868.0, 5.0, 1187.0, 1001.0, 69.0, 1055.0, 1166.0, 1002.0, 144.0, 21.0, 81.0, 1143.0, 138.0, 99.0, 1033.0, 76.0, 1207.0, 1186.0, 954.0, 920.0, 932.0, 999.0, 948.0, 960.0, 1032.0, 1095.0, 1225.0, 1076.0, 149.0, 1067.0, 33.0, 1200.0, 911.0, 72.0, 75.0, 1073.0, 1185.0, 1244.0, 47.0, 1034.0, 98.0, 1155.0, 1208.0, 1147.0, 139.0, 38.0, 51.0, 85.0, 1036.0, 59.0, 1171.0, 1183.0, 173.0, 12.0, 1174.0, 1118.0, 1184.0, 1081.0, 36.0, 1221.0, 1103.0, 18.0, 1038.0, 70.0, 73.0, 86.0, 856.0, 45.0, 68.0, 1124.0, 1224.0, 1030.0, 1100.0, 1199.0, 1141.0, 1168.0, 58.0, 1026.0, 1222.0, 55.0, 1247.0, 80.0, 50.0, 1120.0, 83.0, 61.0, 62.0, 996.0, 24.0, 40.0, 942.0, 90.0, 1237.0, 41.0, 28.0, 84.0, 54.0, 57.0, 1156.0, 35.0, 32.0, 34.0, 56.0, 25.0, 8.0, 65.0, 1093.0, 26.0, 1211.0, 31.0, 23.0, 66.0, 1074.0, 48.0, 60.0, 16.0, 22.0, 19.0, 17.0, 29.0, 10.0, 13.0, 1.0, 3.0, 15.0, 20.0, 14.0, 6.0, 4.0, 2.0, 30.0, 7.0]\n",
      "LP_FAMILIE_FEIN [0.0, nan]\n",
      "LP_FAMILIE_GROB [0.0, nan]\n",
      "LP_LEBENSPHASE_FEIN [0.0, nan]\n",
      "LP_LEBENSPHASE_GROB [0.0, nan]\n",
      "MIN_GEBAEUDEJAHR [nan, 1992.0, 1997.0, 2005.0, 2009.0, 1994.0, 1996.0, 2002.0, 2015.0, 1991.0, 1993.0, 1995.0, 2003.0, 2014.0, 2008.0, 2006.0, 2000.0, 1990.0, 2004.0, 1999.0, 1998.0, 2001.0, 2007.0, 2013.0, 1989.0, 2011.0, 2012.0, 2010.0, 1987.0, 1988.0, 1985.0, 2016.0, 1986.0]\n",
      "ORTSGR_KLS9 [nan, 0.0]\n"
     ]
    }
   ],
   "source": [
    "validation_dict = get_difference(azdias_unique_range)\n",
    "for key, value in validation_dict.items():\n",
    "    if len(value) > 1 or (len(value) == 1 and \"nan\" not in str(value[0])):\n",
    "        print(key, value)"
   ]
  },
  {
   "cell_type": "code",
   "execution_count": 34,
   "metadata": {},
   "outputs": [],
   "source": [
    "additional_missing_values = {'KBA05_MODTEMP': [6.0], 'LP_FAMILIE_FEIN': [0.0], 'LP_FAMILIE_GROB': [0.0],\n",
    "                            'LP_LEBENSPHASE_FEIN': [0.0], 'LP_LEBENSPHASE_GROB': [0.0], 'ORTSGR_KLS9': [0.0], 'GEBURTSJAHR': [0]}\n",
    "\n",
    "replace_unknown_with_nan(filtered_customers, additional_missing_values)\n",
    "replace_unknown_with_nan(filtered_azdias, additional_missing_values)"
   ]
  },
  {
   "cell_type": "code",
   "execution_count": 35,
   "metadata": {},
   "outputs": [],
   "source": [
    "#print('Post-filtered Cusmomer df, no of actual NaN values: ', filtered_customers.isna().sum().sum())"
   ]
  },
  {
   "cell_type": "markdown",
   "metadata": {},
   "source": [
    "Now, it is time to check the quantity of the missing values in each column. I would like to know how much it is in percents as well."
   ]
  },
  {
   "cell_type": "code",
   "execution_count": 36,
   "metadata": {},
   "outputs": [],
   "source": [
    "def extract_missing_data_cols(df):\n",
    "    '''This function accepts the dataframe, extracts \n",
    "    the columns with missing data and calculates \n",
    "    the percentage of the NaN values for each column.'''\n",
    "    md_cols = pd.Series(df.isna().sum()[df.isna().sum()>0], name=\"num\").to_frame()\n",
    "    md_cols = md_cols.assign(perc_of_miss=lambda x: round((x.num*100 / df.shape[0]),2))\n",
    "    md_cols = md_cols.sort_values('perc_of_miss', ascending=False)\n",
    "    return md_cols"
   ]
  },
  {
   "cell_type": "code",
   "execution_count": 37,
   "metadata": {},
   "outputs": [
    {
     "data": {
      "text/html": [
       "<div>\n",
       "<style scoped>\n",
       "    .dataframe tbody tr th:only-of-type {\n",
       "        vertical-align: middle;\n",
       "    }\n",
       "\n",
       "    .dataframe tbody tr th {\n",
       "        vertical-align: top;\n",
       "    }\n",
       "\n",
       "    .dataframe thead th {\n",
       "        text-align: right;\n",
       "    }\n",
       "</style>\n",
       "<table border=\"1\" class=\"dataframe\">\n",
       "  <thead>\n",
       "    <tr style=\"text-align: right;\">\n",
       "      <th></th>\n",
       "      <th>num</th>\n",
       "      <th>perc_of_miss</th>\n",
       "    </tr>\n",
       "  </thead>\n",
       "  <tbody>\n",
       "    <tr>\n",
       "      <th>ALTER_KIND4</th>\n",
       "      <td>191416</td>\n",
       "      <td>99.88</td>\n",
       "    </tr>\n",
       "    <tr>\n",
       "      <th>ALTER_KIND3</th>\n",
       "      <td>190377</td>\n",
       "      <td>99.33</td>\n",
       "    </tr>\n",
       "    <tr>\n",
       "      <th>TITEL_KZ</th>\n",
       "      <td>189340</td>\n",
       "      <td>98.79</td>\n",
       "    </tr>\n",
       "    <tr>\n",
       "      <th>ALTER_KIND2</th>\n",
       "      <td>186552</td>\n",
       "      <td>97.34</td>\n",
       "    </tr>\n",
       "    <tr>\n",
       "      <th>ALTER_KIND1</th>\n",
       "      <td>179886</td>\n",
       "      <td>93.86</td>\n",
       "    </tr>\n",
       "    <tr>\n",
       "      <th>...</th>\n",
       "      <td>...</td>\n",
       "      <td>...</td>\n",
       "    </tr>\n",
       "    <tr>\n",
       "      <th>CJT_TYP_2</th>\n",
       "      <td>3213</td>\n",
       "      <td>1.68</td>\n",
       "    </tr>\n",
       "    <tr>\n",
       "      <th>RETOURTYP_BK_S</th>\n",
       "      <td>3213</td>\n",
       "      <td>1.68</td>\n",
       "    </tr>\n",
       "    <tr>\n",
       "      <th>RT_KEIN_ANREIZ</th>\n",
       "      <td>3213</td>\n",
       "      <td>1.68</td>\n",
       "    </tr>\n",
       "    <tr>\n",
       "      <th>CJT_TYP_3</th>\n",
       "      <td>3213</td>\n",
       "      <td>1.68</td>\n",
       "    </tr>\n",
       "    <tr>\n",
       "      <th>HH_EINKOMMEN_SCORE</th>\n",
       "      <td>2968</td>\n",
       "      <td>1.55</td>\n",
       "    </tr>\n",
       "  </tbody>\n",
       "</table>\n",
       "<p>280 rows × 2 columns</p>\n",
       "</div>"
      ],
      "text/plain": [
       "                       num  perc_of_miss\n",
       "ALTER_KIND4         191416         99.88\n",
       "ALTER_KIND3         190377         99.33\n",
       "TITEL_KZ            189340         98.79\n",
       "ALTER_KIND2         186552         97.34\n",
       "ALTER_KIND1         179886         93.86\n",
       "...                    ...           ...\n",
       "CJT_TYP_2             3213          1.68\n",
       "RETOURTYP_BK_S        3213          1.68\n",
       "RT_KEIN_ANREIZ        3213          1.68\n",
       "CJT_TYP_3             3213          1.68\n",
       "HH_EINKOMMEN_SCORE    2968          1.55\n",
       "\n",
       "[280 rows x 2 columns]"
      ]
     },
     "execution_count": 37,
     "metadata": {},
     "output_type": "execute_result"
    }
   ],
   "source": [
    "customers_missing_data_df = extract_missing_data_cols(filtered_customers)\n",
    "customers_missing_data_df"
   ]
  },
  {
   "cell_type": "markdown",
   "metadata": {},
   "source": [
    "From the table above we can see that there are some columns in dataset that have extremely high percentage of the missing data. They are basically empty. I also wanted to check them in the form of diagram."
   ]
  },
  {
   "cell_type": "code",
   "execution_count": 38,
   "metadata": {},
   "outputs": [
    {
     "data": {
      "image/png": "[encoded data removed]",
      "text/plain": [
       "<Figure size 432x288 with 1 Axes>"
      ]
     },
     "metadata": {
      "needs_background": "light"
     },
     "output_type": "display_data"
    }
   ],
   "source": [
    "customers_missing_data_df[customers_missing_data_df.perc_of_miss > 30].perc_of_miss.plot(kind='bar');\n",
    "plt.show()"
   ]
  },
  {
   "cell_type": "code",
   "execution_count": 39,
   "metadata": {},
   "outputs": [
    {
     "data": {
      "image/png": "[encoded data removed]",
      "text/plain": [
       "<Figure size 1440x720 with 1 Axes>"
      ]
     },
     "metadata": {
      "needs_background": "light"
     },
     "output_type": "display_data"
    }
   ],
   "source": [
    "customers_missing_data_df[customers_missing_data_df.perc_of_miss < 30].perc_of_miss[:20].plot(figsize = (20, 10), kind = 'bar');\n",
    "plt.show()"
   ]
  },
  {
   "cell_type": "markdown",
   "metadata": {},
   "source": [
    "Simmilar with CUSTOOMERS dataframe."
   ]
  },
  {
   "cell_type": "code",
   "execution_count": 40,
   "metadata": {},
   "outputs": [
    {
     "data": {
      "text/html": [
       "<div>\n",
       "<style scoped>\n",
       "    .dataframe tbody tr th:only-of-type {\n",
       "        vertical-align: middle;\n",
       "    }\n",
       "\n",
       "    .dataframe tbody tr th {\n",
       "        vertical-align: top;\n",
       "    }\n",
       "\n",
       "    .dataframe thead th {\n",
       "        text-align: right;\n",
       "    }\n",
       "</style>\n",
       "<table border=\"1\" class=\"dataframe\">\n",
       "  <thead>\n",
       "    <tr style=\"text-align: right;\">\n",
       "      <th></th>\n",
       "      <th>num</th>\n",
       "      <th>perc_of_miss</th>\n",
       "    </tr>\n",
       "  </thead>\n",
       "  <tbody>\n",
       "    <tr>\n",
       "      <th>ALTER_KIND4</th>\n",
       "      <td>890016</td>\n",
       "      <td>99.86</td>\n",
       "    </tr>\n",
       "    <tr>\n",
       "      <th>TITEL_KZ</th>\n",
       "      <td>889061</td>\n",
       "      <td>99.76</td>\n",
       "    </tr>\n",
       "    <tr>\n",
       "      <th>ALTER_KIND3</th>\n",
       "      <td>885051</td>\n",
       "      <td>99.31</td>\n",
       "    </tr>\n",
       "    <tr>\n",
       "      <th>ALTER_KIND2</th>\n",
       "      <td>861722</td>\n",
       "      <td>96.69</td>\n",
       "    </tr>\n",
       "    <tr>\n",
       "      <th>ALTER_KIND1</th>\n",
       "      <td>810163</td>\n",
       "      <td>90.90</td>\n",
       "    </tr>\n",
       "    <tr>\n",
       "      <th>...</th>\n",
       "      <td>...</td>\n",
       "      <td>...</td>\n",
       "    </tr>\n",
       "    <tr>\n",
       "      <th>CJT_TYP_1</th>\n",
       "      <td>4854</td>\n",
       "      <td>0.54</td>\n",
       "    </tr>\n",
       "    <tr>\n",
       "      <th>ONLINE_AFFINITAET</th>\n",
       "      <td>4854</td>\n",
       "      <td>0.54</td>\n",
       "    </tr>\n",
       "    <tr>\n",
       "      <th>CJT_TYP_2</th>\n",
       "      <td>4854</td>\n",
       "      <td>0.54</td>\n",
       "    </tr>\n",
       "    <tr>\n",
       "      <th>CJT_TYP_3</th>\n",
       "      <td>4854</td>\n",
       "      <td>0.54</td>\n",
       "    </tr>\n",
       "    <tr>\n",
       "      <th>RT_SCHNAEPPCHEN</th>\n",
       "      <td>4854</td>\n",
       "      <td>0.54</td>\n",
       "    </tr>\n",
       "  </tbody>\n",
       "</table>\n",
       "<p>280 rows × 2 columns</p>\n",
       "</div>"
      ],
      "text/plain": [
       "                      num  perc_of_miss\n",
       "ALTER_KIND4        890016         99.86\n",
       "TITEL_KZ           889061         99.76\n",
       "ALTER_KIND3        885051         99.31\n",
       "ALTER_KIND2        861722         96.69\n",
       "ALTER_KIND1        810163         90.90\n",
       "...                   ...           ...\n",
       "CJT_TYP_1            4854          0.54\n",
       "ONLINE_AFFINITAET    4854          0.54\n",
       "CJT_TYP_2            4854          0.54\n",
       "CJT_TYP_3            4854          0.54\n",
       "RT_SCHNAEPPCHEN      4854          0.54\n",
       "\n",
       "[280 rows x 2 columns]"
      ]
     },
     "execution_count": 40,
     "metadata": {},
     "output_type": "execute_result"
    }
   ],
   "source": [
    "azdias_missing_data_df = extract_missing_data_cols(filtered_azdias)\n",
    "azdias_missing_data_df"
   ]
  },
  {
   "cell_type": "code",
   "execution_count": 41,
   "metadata": {},
   "outputs": [
    {
     "data": {
      "image/png": "[encoded data removed]",
      "text/plain": [
       "<Figure size 432x288 with 1 Axes>"
      ]
     },
     "metadata": {
      "needs_background": "light"
     },
     "output_type": "display_data"
    }
   ],
   "source": [
    "azdias_missing_data_df[azdias_missing_data_df.perc_of_miss > 30].perc_of_miss.plot(kind='bar');\n",
    "plt.show()"
   ]
  },
  {
   "cell_type": "code",
   "execution_count": 42,
   "metadata": {},
   "outputs": [
    {
     "data": {
      "image/png": "[encoded data removed]",
      "text/plain": [
       "<Figure size 1440x720 with 1 Axes>"
      ]
     },
     "metadata": {
      "needs_background": "light"
     },
     "output_type": "display_data"
    }
   ],
   "source": [
    "azdias_missing_data_df[azdias_missing_data_df.perc_of_miss < 30].perc_of_miss[:20].plot(figsize = (20, 10), kind = 'bar');\n",
    "plt.show()"
   ]
  },
  {
   "cell_type": "markdown",
   "metadata": {},
   "source": [
    "Now I want to compare the missing data from AZDIAS with CUSTOMERS. Therefore, I will merge them by column name."
   ]
  },
  {
   "cell_type": "code",
   "execution_count": 43,
   "metadata": {},
   "outputs": [
    {
     "data": {
      "text/html": [
       "<div>\n",
       "<style scoped>\n",
       "    .dataframe tbody tr th:only-of-type {\n",
       "        vertical-align: middle;\n",
       "    }\n",
       "\n",
       "    .dataframe tbody tr th {\n",
       "        vertical-align: top;\n",
       "    }\n",
       "\n",
       "    .dataframe thead th {\n",
       "        text-align: right;\n",
       "    }\n",
       "</style>\n",
       "<table border=\"1\" class=\"dataframe\">\n",
       "  <thead>\n",
       "    <tr style=\"text-align: right;\">\n",
       "      <th></th>\n",
       "      <th>index</th>\n",
       "      <th>azdias_miss</th>\n",
       "    </tr>\n",
       "  </thead>\n",
       "  <tbody>\n",
       "    <tr>\n",
       "      <th>0</th>\n",
       "      <td>ALTER_KIND4</td>\n",
       "      <td>99.86</td>\n",
       "    </tr>\n",
       "    <tr>\n",
       "      <th>1</th>\n",
       "      <td>TITEL_KZ</td>\n",
       "      <td>99.76</td>\n",
       "    </tr>\n",
       "    <tr>\n",
       "      <th>2</th>\n",
       "      <td>ALTER_KIND3</td>\n",
       "      <td>99.31</td>\n",
       "    </tr>\n",
       "    <tr>\n",
       "      <th>3</th>\n",
       "      <td>ALTER_KIND2</td>\n",
       "      <td>96.69</td>\n",
       "    </tr>\n",
       "    <tr>\n",
       "      <th>4</th>\n",
       "      <td>ALTER_KIND1</td>\n",
       "      <td>90.90</td>\n",
       "    </tr>\n",
       "    <tr>\n",
       "      <th>...</th>\n",
       "      <td>...</td>\n",
       "      <td>...</td>\n",
       "    </tr>\n",
       "    <tr>\n",
       "      <th>275</th>\n",
       "      <td>CJT_TYP_1</td>\n",
       "      <td>0.54</td>\n",
       "    </tr>\n",
       "    <tr>\n",
       "      <th>276</th>\n",
       "      <td>ONLINE_AFFINITAET</td>\n",
       "      <td>0.54</td>\n",
       "    </tr>\n",
       "    <tr>\n",
       "      <th>277</th>\n",
       "      <td>CJT_TYP_2</td>\n",
       "      <td>0.54</td>\n",
       "    </tr>\n",
       "    <tr>\n",
       "      <th>278</th>\n",
       "      <td>CJT_TYP_3</td>\n",
       "      <td>0.54</td>\n",
       "    </tr>\n",
       "    <tr>\n",
       "      <th>279</th>\n",
       "      <td>RT_SCHNAEPPCHEN</td>\n",
       "      <td>0.54</td>\n",
       "    </tr>\n",
       "  </tbody>\n",
       "</table>\n",
       "<p>280 rows × 2 columns</p>\n",
       "</div>"
      ],
      "text/plain": [
       "                 index  azdias_miss\n",
       "0          ALTER_KIND4        99.86\n",
       "1             TITEL_KZ        99.76\n",
       "2          ALTER_KIND3        99.31\n",
       "3          ALTER_KIND2        96.69\n",
       "4          ALTER_KIND1        90.90\n",
       "..                 ...          ...\n",
       "275          CJT_TYP_1         0.54\n",
       "276  ONLINE_AFFINITAET         0.54\n",
       "277          CJT_TYP_2         0.54\n",
       "278          CJT_TYP_3         0.54\n",
       "279    RT_SCHNAEPPCHEN         0.54\n",
       "\n",
       "[280 rows x 2 columns]"
      ]
     },
     "execution_count": 43,
     "metadata": {},
     "output_type": "execute_result"
    }
   ],
   "source": [
    "merged = azdias_missing_data_df.reset_index()\n",
    "merged.rename(columns={'perc_of_miss':'azdias_miss'}, inplace=True)\n",
    "del merged[\"num\"]\n",
    "merged"
   ]
  },
  {
   "cell_type": "code",
   "execution_count": 44,
   "metadata": {},
   "outputs": [
    {
     "data": {
      "text/html": [
       "<div>\n",
       "<style scoped>\n",
       "    .dataframe tbody tr th:only-of-type {\n",
       "        vertical-align: middle;\n",
       "    }\n",
       "\n",
       "    .dataframe tbody tr th {\n",
       "        vertical-align: top;\n",
       "    }\n",
       "\n",
       "    .dataframe thead th {\n",
       "        text-align: right;\n",
       "    }\n",
       "</style>\n",
       "<table border=\"1\" class=\"dataframe\">\n",
       "  <thead>\n",
       "    <tr style=\"text-align: right;\">\n",
       "      <th></th>\n",
       "      <th>index</th>\n",
       "      <th>cust_miss</th>\n",
       "    </tr>\n",
       "  </thead>\n",
       "  <tbody>\n",
       "    <tr>\n",
       "      <th>0</th>\n",
       "      <td>ALTER_KIND4</td>\n",
       "      <td>99.88</td>\n",
       "    </tr>\n",
       "    <tr>\n",
       "      <th>1</th>\n",
       "      <td>ALTER_KIND3</td>\n",
       "      <td>99.33</td>\n",
       "    </tr>\n",
       "    <tr>\n",
       "      <th>2</th>\n",
       "      <td>TITEL_KZ</td>\n",
       "      <td>98.79</td>\n",
       "    </tr>\n",
       "    <tr>\n",
       "      <th>3</th>\n",
       "      <td>ALTER_KIND2</td>\n",
       "      <td>97.34</td>\n",
       "    </tr>\n",
       "    <tr>\n",
       "      <th>4</th>\n",
       "      <td>ALTER_KIND1</td>\n",
       "      <td>93.86</td>\n",
       "    </tr>\n",
       "    <tr>\n",
       "      <th>...</th>\n",
       "      <td>...</td>\n",
       "      <td>...</td>\n",
       "    </tr>\n",
       "    <tr>\n",
       "      <th>275</th>\n",
       "      <td>CJT_TYP_2</td>\n",
       "      <td>1.68</td>\n",
       "    </tr>\n",
       "    <tr>\n",
       "      <th>276</th>\n",
       "      <td>RETOURTYP_BK_S</td>\n",
       "      <td>1.68</td>\n",
       "    </tr>\n",
       "    <tr>\n",
       "      <th>277</th>\n",
       "      <td>RT_KEIN_ANREIZ</td>\n",
       "      <td>1.68</td>\n",
       "    </tr>\n",
       "    <tr>\n",
       "      <th>278</th>\n",
       "      <td>CJT_TYP_3</td>\n",
       "      <td>1.68</td>\n",
       "    </tr>\n",
       "    <tr>\n",
       "      <th>279</th>\n",
       "      <td>HH_EINKOMMEN_SCORE</td>\n",
       "      <td>1.55</td>\n",
       "    </tr>\n",
       "  </tbody>\n",
       "</table>\n",
       "<p>280 rows × 2 columns</p>\n",
       "</div>"
      ],
      "text/plain": [
       "                  index  cust_miss\n",
       "0           ALTER_KIND4      99.88\n",
       "1           ALTER_KIND3      99.33\n",
       "2              TITEL_KZ      98.79\n",
       "3           ALTER_KIND2      97.34\n",
       "4           ALTER_KIND1      93.86\n",
       "..                  ...        ...\n",
       "275           CJT_TYP_2       1.68\n",
       "276      RETOURTYP_BK_S       1.68\n",
       "277      RT_KEIN_ANREIZ       1.68\n",
       "278           CJT_TYP_3       1.68\n",
       "279  HH_EINKOMMEN_SCORE       1.55\n",
       "\n",
       "[280 rows x 2 columns]"
      ]
     },
     "execution_count": 44,
     "metadata": {},
     "output_type": "execute_result"
    }
   ],
   "source": [
    "temp_cus = customers_missing_data_df.reset_index()\n",
    "temp_cus.rename(columns={'perc_of_miss':'cust_miss'}, inplace=True)\n",
    "del temp_cus[\"num\"]\n",
    "temp_cus\n"
   ]
  },
  {
   "cell_type": "code",
   "execution_count": 45,
   "metadata": {},
   "outputs": [
    {
     "data": {
      "text/html": [
       "<div>\n",
       "<style scoped>\n",
       "    .dataframe tbody tr th:only-of-type {\n",
       "        vertical-align: middle;\n",
       "    }\n",
       "\n",
       "    .dataframe tbody tr th {\n",
       "        vertical-align: top;\n",
       "    }\n",
       "\n",
       "    .dataframe thead th {\n",
       "        text-align: right;\n",
       "    }\n",
       "</style>\n",
       "<table border=\"1\" class=\"dataframe\">\n",
       "  <thead>\n",
       "    <tr style=\"text-align: right;\">\n",
       "      <th></th>\n",
       "      <th>index</th>\n",
       "      <th>azdias_miss</th>\n",
       "      <th>cust_miss</th>\n",
       "    </tr>\n",
       "  </thead>\n",
       "  <tbody>\n",
       "    <tr>\n",
       "      <th>0</th>\n",
       "      <td>ALTER_KIND4</td>\n",
       "      <td>99.86</td>\n",
       "      <td>99.88</td>\n",
       "    </tr>\n",
       "    <tr>\n",
       "      <th>1</th>\n",
       "      <td>TITEL_KZ</td>\n",
       "      <td>99.76</td>\n",
       "      <td>98.79</td>\n",
       "    </tr>\n",
       "    <tr>\n",
       "      <th>2</th>\n",
       "      <td>ALTER_KIND3</td>\n",
       "      <td>99.31</td>\n",
       "      <td>99.33</td>\n",
       "    </tr>\n",
       "    <tr>\n",
       "      <th>3</th>\n",
       "      <td>ALTER_KIND2</td>\n",
       "      <td>96.69</td>\n",
       "      <td>97.34</td>\n",
       "    </tr>\n",
       "    <tr>\n",
       "      <th>4</th>\n",
       "      <td>ALTER_KIND1</td>\n",
       "      <td>90.90</td>\n",
       "      <td>93.86</td>\n",
       "    </tr>\n",
       "    <tr>\n",
       "      <th>...</th>\n",
       "      <td>...</td>\n",
       "      <td>...</td>\n",
       "      <td>...</td>\n",
       "    </tr>\n",
       "    <tr>\n",
       "      <th>275</th>\n",
       "      <td>CJT_TYP_1</td>\n",
       "      <td>0.54</td>\n",
       "      <td>1.68</td>\n",
       "    </tr>\n",
       "    <tr>\n",
       "      <th>276</th>\n",
       "      <td>ONLINE_AFFINITAET</td>\n",
       "      <td>0.54</td>\n",
       "      <td>1.68</td>\n",
       "    </tr>\n",
       "    <tr>\n",
       "      <th>277</th>\n",
       "      <td>CJT_TYP_2</td>\n",
       "      <td>0.54</td>\n",
       "      <td>1.68</td>\n",
       "    </tr>\n",
       "    <tr>\n",
       "      <th>278</th>\n",
       "      <td>CJT_TYP_3</td>\n",
       "      <td>0.54</td>\n",
       "      <td>1.68</td>\n",
       "    </tr>\n",
       "    <tr>\n",
       "      <th>279</th>\n",
       "      <td>RT_SCHNAEPPCHEN</td>\n",
       "      <td>0.54</td>\n",
       "      <td>1.68</td>\n",
       "    </tr>\n",
       "  </tbody>\n",
       "</table>\n",
       "<p>280 rows × 3 columns</p>\n",
       "</div>"
      ],
      "text/plain": [
       "                 index  azdias_miss  cust_miss\n",
       "0          ALTER_KIND4        99.86      99.88\n",
       "1             TITEL_KZ        99.76      98.79\n",
       "2          ALTER_KIND3        99.31      99.33\n",
       "3          ALTER_KIND2        96.69      97.34\n",
       "4          ALTER_KIND1        90.90      93.86\n",
       "..                 ...          ...        ...\n",
       "275          CJT_TYP_1         0.54       1.68\n",
       "276  ONLINE_AFFINITAET         0.54       1.68\n",
       "277          CJT_TYP_2         0.54       1.68\n",
       "278          CJT_TYP_3         0.54       1.68\n",
       "279    RT_SCHNAEPPCHEN         0.54       1.68\n",
       "\n",
       "[280 rows x 3 columns]"
      ]
     },
     "execution_count": 45,
     "metadata": {},
     "output_type": "execute_result"
    }
   ],
   "source": [
    "merged = merged.merge(temp_cus, on='index')\n",
    "merged"
   ]
  },
  {
   "cell_type": "markdown",
   "metadata": {},
   "source": [
    "After I have substratedd all the required data and merged it, I would like to represent it in the form of bar-plot for better understanding."
   ]
  },
  {
   "cell_type": "code",
   "execution_count": 46,
   "metadata": {},
   "outputs": [
    {
     "data": {
      "image/png": "[encoded data removed]",
      "text/plain": [
       "<Figure size 1440x720 with 1 Axes>"
      ]
     },
     "metadata": {
      "needs_background": "light"
     },
     "output_type": "display_data"
    },
    {
     "data": {
      "image/png": "[encoded data removed]",
      "text/plain": [
       "<Figure size 1440x720 with 1 Axes>"
      ]
     },
     "metadata": {
      "needs_background": "light"
     },
     "output_type": "display_data"
    },
    {
     "data": {
      "image/png": "[encoded data removed]",
      "text/plain": [
       "<Figure size 1440x720 with 1 Axes>"
      ]
     },
     "metadata": {
      "needs_background": "light"
     },
     "output_type": "display_data"
    },
    {
     "data": {
      "image/png": "[encoded data removed]",
      "text/plain": [
       "<Figure size 1440x720 with 1 Axes>"
      ]
     },
     "metadata": {
      "needs_background": "light"
     },
     "output_type": "display_data"
    },
    {
     "data": {
      "image/png": "[encoded data removed]",
      "text/plain": [
       "<Figure size 1440x720 with 1 Axes>"
      ]
     },
     "metadata": {
      "needs_background": "light"
     },
     "output_type": "display_data"
    },
    {
     "data": {
      "image/png": "[encoded data removed]",
      "text/plain": [
       "<Figure size 1440x720 with 1 Axes>"
      ]
     },
     "metadata": {
      "needs_background": "light"
     },
     "output_type": "display_data"
    }
   ],
   "source": [
    "for i in range(0, len(merged), 50):\n",
    "    \n",
    "    merged[i:i+50].plot(x ='index', figsize=(20,10), kind = 'bar')"
   ]
  },
  {
   "cell_type": "markdown",
   "metadata": {},
   "source": [
    "Based on the abovedepicted graph, I have made a decision to drop completely such columns where percentage of missing values in AZDIAS and CUSTOMERS bigger than 30%. "
   ]
  },
  {
   "cell_type": "code",
   "execution_count": 47,
   "metadata": {},
   "outputs": [],
   "source": [
    "merged_unique = set(list(merged['index']))\n",
    "#print(len(attribuets_desc_unique & merged_unique))"
   ]
  },
  {
   "cell_type": "code",
   "execution_count": 48,
   "metadata": {},
   "outputs": [
    {
     "data": {
      "text/plain": [
       "['ALTER_KIND4',\n",
       " 'TITEL_KZ',\n",
       " 'ALTER_KIND3',\n",
       " 'ALTER_KIND2',\n",
       " 'ALTER_KIND1',\n",
       " 'AGER_TYP',\n",
       " 'EXTSEL992',\n",
       " 'KK_KUNDENTYP',\n",
       " 'KBA05_BAUMAX',\n",
       " 'GEBURTSJAHR',\n",
       " 'ALTER_HH']"
      ]
     },
     "execution_count": 48,
     "metadata": {},
     "output_type": "execute_result"
    }
   ],
   "source": [
    "cols_to_drop = list(merged.loc[(merged['azdias_miss'] > 30) & (merged['cust_miss'] > 30)]['index'])\n",
    "cols_to_drop"
   ]
  },
  {
   "cell_type": "code",
   "execution_count": 49,
   "metadata": {},
   "outputs": [
    {
     "name": "stdout",
     "output_type": "stream",
     "text": [
      "{'GEBURTSJAHR', 'ALTER_HH', 'KBA05_BAUMAX', 'AGER_TYP', 'TITEL_KZ'}\n"
     ]
    }
   ],
   "source": [
    "print(attribuets_desc_unique & set(cols_to_drop))"
   ]
  },
  {
   "cell_type": "code",
   "execution_count": 50,
   "metadata": {},
   "outputs": [],
   "source": [
    "filtered_azdias = filtered_azdias.drop(cols_to_drop, axis = 1)\n",
    "filtered_customers = filtered_customers.drop(cols_to_drop, axis = 1)"
   ]
  },
  {
   "cell_type": "code",
   "execution_count": 51,
   "metadata": {},
   "outputs": [
    {
     "name": "stdout",
     "output_type": "stream",
     "text": [
      "(891221, 355)\n",
      "(191652, 358)\n"
     ]
    }
   ],
   "source": [
    "print(filtered_azdias.shape)\n",
    "print(filtered_customers.shape)"
   ]
  },
  {
   "cell_type": "code",
   "execution_count": 52,
   "metadata": {},
   "outputs": [
    {
     "name": "stdout",
     "output_type": "stream",
     "text": [
      "{'D19_TECHNIK', 'D19_BANKEN_ANZ_24', 'KOMBIALTER', 'D19_BIO_OEKO', 'D19_RATGEBER', 'D19_REISEN', 'D19_GESAMT_ANZ_12', 'KBA13_ANTG1', 'RT_KEIN_ANREIZ', 'D19_VERSAND_ANZ_24', 'D19_BANKEN_GROSS', 'D19_SCHUHE', 'ANZ_STATISTISCHE_HAUSHALTE', 'D19_VERSAND_ANZ_12', 'DSL_FLAG', 'D19_TELKO_MOBILE', 'D19_BANKEN_ANZ_12', 'HH_DELTA_FLAG', 'CAMEO_INTL_2015', 'CJT_TYP_6', 'RT_SCHNAEPPCHEN', 'D19_BANKEN_LOKAL', 'VK_DISTANZ', 'D19_VERSICHERUNGEN', 'SOHO_KZ', 'D19_KOSMETIK', 'FIRMENDICHTE', 'D19_SOZIALES', 'D19_TELKO_ANZ_12', 'D19_VERSI_ANZ_24', 'D19_LEBENSMITTEL', 'D19_LOTTO', 'D19_DROGERIEARTIKEL', 'CJT_KATALOGNUTZER', 'KONSUMZELLE', 'ANZ_KINDER', 'CJT_TYP_4', 'D19_VOLLSORTIMENT', 'D19_LETZTER_KAUF_BRANCHE', 'UMFELD_ALT', 'D19_KINDERARTIKEL', 'D19_VERSAND_REST', 'KBA13_HHZ', 'AKT_DAT_KL', 'KBA13_BAUMAX', 'D19_GESAMT_ANZ_24', 'D19_SAMMELARTIKEL', 'UNGLEICHENN_FLAG', 'KBA13_CCM_1401_2500', 'RT_UEBERGROESSE', 'VHN', 'UMFELD_JUNG', 'D19_KONSUMTYP_MAX', 'D19_TELKO_ONLINE_QUOTE_12', 'D19_TIERARTIKEL', 'ALTERSKATEGORIE_FEIN', 'D19_ENERGIE', 'VK_DHT4A', 'KBA13_ANTG3', 'D19_FREIZEIT', 'D19_VERSI_ANZ_12', 'VERDICHTUNGSRAUM', 'D19_HANDWERK', 'D19_BEKLEIDUNG_GEH', 'KBA13_ANTG2', 'CJT_TYP_2', 'KBA13_KMH_210', 'MOBI_RASTER', 'D19_BUCH_CD', 'D19_DIGIT_SERV', 'VK_ZG11', 'STRUKTURTYP', 'GEMEINDETYP', 'D19_BEKLEIDUNG_REST', 'D19_WEIN_FEINKOST', 'D19_TELKO_REST', 'KBA13_CCM_3000', 'D19_HAUS_DEKO', 'D19_TELKO_ANZ_24', 'EINGEZOGENAM_HH_JAHR', 'VHA', 'CJT_TYP_3', 'D19_BANKEN_REST', 'KBA13_ANTG4', 'KBA13_GBZ', 'D19_NAHRUNGSERGAENZUNG', 'KBA13_CCM_3001', 'D19_VERSI_ONLINE_QUOTE_12', 'D19_BILDUNG', 'D19_GARTEN', 'CJT_TYP_5', 'LNR', 'D19_BANKEN_DIREKT', 'EINGEFUEGT_AM', 'CJT_TYP_1', 'D19_SONSTIGE'}\n"
     ]
    }
   ],
   "source": [
    "print((set(filtered_azdias.columns) & set(filtered_customers.columns)).difference(attribuets_desc_unique))"
   ]
  },
  {
   "cell_type": "code",
   "execution_count": 53,
   "metadata": {},
   "outputs": [
    {
     "name": "stdout",
     "output_type": "stream",
     "text": [
      "{'KBA13_BJ_2004', 'D19_BANKEN_DATUM', 'KBA13_ALTERHALTER_61', 'SEMIO_KAEM', 'KBA13_AUTOQUOTE', 'KBA13_KMH_140', 'KBA13_KRSZUL_NEU', 'KBA13_SEG_SONSTIGE', 'D19_GESAMT_ONLINE_DATUM', 'KBA13_ALTERHALTER_30', 'KBA13_CCM_1600', 'KBA05_SEG5', 'KBA05_ALTER4', 'KBA13_HALTER_65', 'KBA13_KW_60', 'KBA13_CCM_2000', 'KBA13_KW_0_60', 'KBA13_SEG_UTILITIES', 'KBA13_CCM_2501', 'SEMIO_REL', 'ARBEIT', 'KBA05_GBZ', 'KBA13_VORB_0', 'KBA13_CCM_1400', 'SEMIO_TRADV', 'D19_TELKO_ONLINE_DATUM', 'KBA13_BJ_2006', 'KBA05_SEG2', 'KBA05_MOD3', 'KBA13_ALTERHALTER_60', 'EWDICHTE', 'LP_STATUS_GROB', 'BALLRAUM', 'KBA05_MAXAH', 'PLZ8_ANTG2', 'KBA05_CCM2', 'KBA05_SEG10', 'D19_VERSAND_ONLINE_DATUM', 'HH_EINKOMMEN_SCORE', 'LP_FAMILIE_GROB', 'FINANZ_UNAUFFAELLIGER', 'KBA13_ANZAHL_PKW', 'LP_LEBENSPHASE_GROB', 'SEMIO_RAT', 'KBA13_SEG_GROSSRAUMVANS', 'KBA05_MAXVORB', 'KBA05_SEG6', 'GEBAEUDETYP_RASTER', 'KBA05_FRAU', 'ORTSGR_KLS9', 'KBA13_KMH_250', 'KBA05_MOD1', 'KBA13_KW_50', 'KBA13_KMH_110', 'KBA13_BJ_2000', 'KBA13_KRSSEG_OBER', 'KBA13_HERST_FORD_OPEL', 'KBA13_KMH_211', 'KBA05_MOTRAD', 'KBA05_SEG1', 'ANZ_HAUSHALTE_AKTIV', 'KBA13_KW_121', 'KBA13_VORB_1', 'D19_TELKO_OFFLINE_DATUM', 'KBA13_BJ_2008', 'NATIONALITAET_KZ', 'KBA05_KW3', 'PRAEGENDE_JUGENDJAHRE', 'KBA13_KW_61_120', 'KBA13_MERCEDES', 'KBA05_VORB0', 'D19_KONSUMTYP', 'KBA13_SEG_OBEREMITTELKLASSE', 'SEMIO_KULT', 'KBA13_KW_90', 'PLZ8_ANTG4', 'KBA05_MOD8', 'D19_VERSI_DATUM', 'KBA13_RENAULT', 'KKK', 'WOHNLAGE', 'KBA13_NISSAN', 'KBA05_AUTOQUOT', 'KBA05_ANTG2', 'KBA05_KRSVAN', 'FINANZ_MINIMALIST', 'KBA05_HERST4', 'ONLINE_AFFINITAET', 'KBA13_KMH_251', 'KBA13_FIAT', 'KBA13_OPEL', 'MOBI_REGIO', 'KBA13_HERST_BMW_BENZ', 'FINANZ_ANLEGER', 'KBA05_ALTER3', 'KBA05_ANTG3', 'KBA13_KW_80', 'KBA05_HERSTTEMP', 'KBA13_KW_70', 'KBA05_DIESEL', 'KBA13_KW_30', 'KBA13_MAZDA', 'KBA05_KRSOBER', 'KBA13_SEG_OBERKLASSE', 'KBA05_ZUL1', 'KBA13_HERST_AUDI_VW', 'SHOPPER_TYP', 'KBA05_ALTER1', 'KBA05_CCM3', 'KBA13_HALTER_20', 'KBA05_KRSHERST3', 'PLZ8_HHZ', 'KBA13_TOYOTA', 'KBA13_KRSHERST_FORD_OPEL', 'SEMIO_KRIT', 'KBA05_ZUL2', 'ANREDE_KZ', 'KBA05_ALTER2', 'GEBAEUDETYP', 'ANZ_TITEL', 'D19_GESAMT_OFFLINE_DATUM', 'KBA05_HERST3', 'KBA05_KW1', 'KBA05_HERST1', 'KBA13_BJ_1999', 'KBA13_VW', 'SEMIO_PFLICHT', 'KBA13_KMH_0_140', 'KBA13_KMH_180', 'FINANZ_SPARER', 'LP_LEBENSPHASE_FEIN', 'KBA05_VORB1', 'KBA05_SEG3', 'KBA05_KRSHERST1', 'KBA05_MOD2', 'INNENSTADT', 'KBA13_SEG_KOMPAKTKLASSE', 'RETOURTYP_BK_S', 'KBA13_HALTER_40', 'D19_TELKO_DATUM', 'KBA13_KRSSEG_KLEIN', 'KBA05_SEG9', 'KBA05_ANTG1', 'KBA13_FAB_SONSTIGE', 'KBA13_HERST_SONST', 'MIN_GEBAEUDEJAHR', 'PLZ8_GBZ', 'RELAT_AB', 'FINANZ_HAUSBAUER', 'KBA13_FORD', 'KBA13_BJ_2009', 'KBA13_KW_120', 'KBA13_SEG_WOHNMOBILE', 'W_KEIT_KIND_HH', 'KBA13_AUDI', 'KBA13_SITZE_4', 'KBA13_CCM_1800', 'FINANZ_VORSORGER', 'PLZ8_BAUMAX', 'D19_VERSI_ONLINE_DATUM', 'KBA13_SEG_GELAENDEWAGEN', 'D19_VERSAND_DATUM', 'KBA13_HALTER_55', 'KBA05_KRSHERST2', 'ANZ_HH_TITEL', 'KBA13_CCM_1000', 'KBA13_KRSHERST_AUDI_VW', 'KBA13_KW_40', 'KBA13_CCM_2500', 'CAMEO_DEU_2015', 'KBA13_PEUGEOT', 'CJT_GESAMTTYP', 'SEMIO_LUST', 'KBA05_HERST2', 'GFK_URLAUBERTYP', 'KBA05_MOD4', 'KBA13_HALTER_35', 'KBA13_KRSAQUOT', 'KBA13_VORB_1_2', 'VERS_TYP', 'D19_VERSAND_OFFLINE_DATUM', 'KBA05_CCM4', 'KBA13_SEG_SPORTWAGEN', 'ZABEOTYP', 'KBA05_KRSKLEIN', 'KBA13_HALTER_45', 'KBA05_MAXBJ', 'KBA13_KRSHERST_BMW_BENZ', 'ANZ_PERSONEN', 'KBA13_HALTER_50', 'D19_BANKEN_ONLINE_DATUM', 'KBA05_ZUL3', 'SEMIO_ERL', 'KBA13_CCM_0_1400', 'KBA05_MAXHERST', 'D19_VERSI_OFFLINE_DATUM', 'LP_FAMILIE_FEIN', 'KBA13_HALTER_66', 'KBA13_HALTER_60', 'CAMEO_DEUG_2015', 'KBA05_ANTG4', 'KBA13_KRSSEG_VAN', 'KBA13_SEG_VAN', 'SEMIO_FAM', 'KBA13_SEG_MINIWAGEN', 'FINANZTYP', 'KBA13_HERST_ASIEN', 'KBA05_MOTOR', 'KBA05_SEG4', 'KBA05_SEG7', 'KBA13_SITZE_6', 'KBA05_MODTEMP', 'PLZ8_ANTG1', 'SEMIO_SOZ', 'KBA13_SITZE_5', 'WOHNDAUER_2008', 'KBA13_CCM_1200', 'D19_GESAMT_ONLINE_QUOTE_12', 'KBA13_MOTOR', 'GREEN_AVANTGARDE', 'SEMIO_MAT', 'KBA13_SEG_MITTELKLASSE', 'HEALTH_TYP', 'KBA13_ALTERHALTER_45', 'KBA13_BMW', 'LP_STATUS_FEIN', 'KBA05_CCM1', 'D19_BANKEN_OFFLINE_DATUM', 'KBA13_VORB_2', 'D19_GESAMT_DATUM', 'D19_BANKEN_ONLINE_QUOTE_12', 'KONSUMNAEHE', 'KBA05_KRSAQUOT', 'KBA13_HALTER_25', 'PLZ8_ANTG3', 'KBA05_KW2', 'KBA05_HERST5', 'KBA13_VORB_3', 'KBA13_FAB_ASIEN', 'KBA13_KW_110', 'KBA05_SEG8', 'KBA05_ANHANG', 'KBA13_KMH_140_210', 'KBA13_SEG_KLEINST', 'KBA13_SEG_MINIVANS', 'KBA05_VORB2', 'KBA13_HERST_EUROPA', 'KBA05_ZUL4', 'SEMIO_VERT', 'KBA13_SEG_KLEINWAGEN', 'ALTERSKATEGORIE_GROB', 'KBA13_CCM_1500', 'KBA05_KRSZUL', 'KBA05_MAXSEG', 'SEMIO_DOM', 'REGIOTYP', 'OST_WEST_KZ', 'D19_VERSAND_ONLINE_QUOTE_12', 'KBA13_HALTER_30'}\n"
     ]
    }
   ],
   "source": [
    "print(set(filtered_azdias.columns) & set(filtered_customers.columns) & attribuets_desc_unique)"
   ]
  },
  {
   "cell_type": "code",
   "execution_count": 54,
   "metadata": {},
   "outputs": [
    {
     "name": "stdout",
     "output_type": "stream",
     "text": [
      "Post-filtered Azdias df, no of left NaN values:  30387543\n",
      "Post-filtered Customers df, no of left NaN values:  13274738\n"
     ]
    }
   ],
   "source": [
    "print('Post-filtered Azdias df, no of left NaN values: ', filtered_azdias.isna().sum().sum())\n",
    "print('Post-filtered Customers df, no of left NaN values: ', filtered_customers.isna().sum().sum())"
   ]
  },
  {
   "cell_type": "code",
   "execution_count": 55,
   "metadata": {},
   "outputs": [],
   "source": [
    "def feature_eng(df):\n",
    "    \n",
    "    df['CAMEO_DEU_2015'].fillna(df['CAMEO_DEU_2015'].value_counts().idxmax(), inplace=True)\n",
    "    print('Perlaced CAMEO_DEU_2015')\n",
    "    df['ANZ_HAUSHALTE_AKTIV'].fillna(df['ANZ_HAUSHALTE_AKTIV'].mean(), inplace=True)\n",
    "    print('Replaced ANZ_HAUSHALTE_AKTIV')\n",
    "    df['KBA13_ANZAHL_PKW'].fillna(df['KBA13_ANZAHL_PKW'].mean(), inplace=True)\n",
    "    print('Replaced KBA13_ANZAHL_PKW')\n",
    "    #df['MIN_GEBAEUDEJAHR'].fillna()\n",
    "    \n",
    "    #LP_LEBENSPHASE_FEIN\n",
    "    family_type_dict = {\n",
    "        1: 'single', 2: 'single', 3: 'single', 4: 'single', 5: 'single', 6: 'single', 7: 'single',\n",
    "        8: 'single', 9: 'single', 10:'single', 11:'single', 12:'single', 13:'single', 14:'couples',\n",
    "        15:'couples', 16:'couples', 17:'couples', 18:'couples', 19:'couples', 20:'couples', 21:'single_parent',\n",
    "        22:'single_parent', 23:'single_parent', 24:'families', 25:'families', 26:'families', 27:'families', 28:'families',\n",
    "        29:'mulitperson_households', 30:'mulitperson_households', 31:'mulitperson_households', 32:'mulitperson_households',\n",
    "        33:'mulitperson_households', 34:'mulitperson_households', 35:'mulitperson_households', 36:'mulitperson_households',\n",
    "        37:'mulitperson_households', 38:'mulitperson_households', 39:'mulitperson_households', 40:'mulitperson_households'\n",
    "    }\n",
    "    earner_type_dict = {\n",
    "        1: 'low', 2: 'low', 3: 'average', 4: 'average', 5: 'low', 6: 'low', 7: 'average',\n",
    "        8: 'average', 9: 'independant', 10:'wealthy', 11:'homeowners', 12:'homeowners', 13:'top', 14:'low',\n",
    "        15: 'low', 16:'average', 17: 'independant', 18:'wealthy', 19:'homeowners', 20:'top', 21:'low',\n",
    "        22: 'average', 23:'high', 24:'low', 25:'average', 26: 'independant', 27:'homeowners', 28:'top',\n",
    "        29: 'low', 30:'average', 31:'low', 32:'average',\n",
    "        33: 'independant', 34:'homeowners', 35:'top', 36: 'independant',\n",
    "        37: 'homeowners', 38:'homeowners', 39:'top', 40:'top'\n",
    "    }\n",
    "    age_group_dict = {\n",
    "        1: 'younger_age', 2: 'middle_age', 3: 'younger_age', 4: 'middle_age', 5: 'advanced_age', 6: 'retirement_age', 7: 'advanced_age',\n",
    "        8: 'retirement_age', 9: np.nan, 10: np.nan, 11:'advanced_age', 12:'retirement_age', 13:'higher_age', 14:'younger_age',\n",
    "        15: 'higher_age', 16:'higher_age', 17: np.nan, 18:'younger_age', 19:'higher_age', 20:'higher_age', 21: np.nan,\n",
    "        22: np.nan, 23:np.nan, 24:np.nan, 25:np.nan, 26: np.nan, 27:np.nan, 28:np.nan,\n",
    "        29: 'younger_age', 30:'younger_age', 31:'higher_age', 32:'higher_age',\n",
    "        33: 'younger_age', 34:'younger_age', 35:'younger_age', 36: 'higher_age',\n",
    "        37: 'advanced_age', 38:'retirement_age', 39:'middle_age', 40:'retirement_age'\n",
    "    }\n",
    "    \n",
    "    df['LP_LEBENSPHASE_FEIN_family_type'] = df['LP_LEBENSPHASE_FEIN'].map(family_type_dict)\n",
    "    df['LP_LEBENSPHASE_FEIN_earner_type'] = df['LP_LEBENSPHASE_FEIN'].map(earner_type_dict)\n",
    "    df['LP_LEBENSPHASE_FEIN_age_group'] = df['LP_LEBENSPHASE_FEIN'].map(age_group_dict)\n",
    "    \n",
    "    family_type_dict = {\n",
    "        'single': 1, 'couples': 2, 'single_parent': 3, 'families': 4, 'mulitperson_households': 5\n",
    "    }\n",
    "    earner_type_dict = {\n",
    "        'low': 1, 'average': 2, 'independant': 3, 'wealthy': 4, 'homeowners': 5, 'top': 6\n",
    "    }\n",
    "\n",
    "    age_group_dict = {\n",
    "        'younger_age': 1, 'middle_age': 2, 'advanced_age': 3, 'higher_age': 4, 'retirement_age': 5\n",
    "    }\n",
    "    df['LP_LEBENSPHASE_FEIN_family_type'] = df['LP_LEBENSPHASE_FEIN_family_type'].map(family_type_dict)\n",
    "    df['LP_LEBENSPHASE_FEIN_earner_type'] = df['LP_LEBENSPHASE_FEIN_earner_type'].map(earner_type_dict)\n",
    "    df['LP_LEBENSPHASE_FEIN_age_group'] = df['LP_LEBENSPHASE_FEIN_age_group'].map(age_group_dict)\n",
    "    print('Cretaed LP_LEBENSPHASE_FEIN_family_type, LP_LEBENSPHASE_FEIN_earner_type and LP_LEBENSPHASE_FEIN_age_group')\n",
    "    #LP_FAMILIE_GROB\n",
    "    family_type_dict = {\n",
    "        1: 'single', 2: 'couple', 3: 'single_parent', 4: 'single_parent', 5: 'single_parent', \n",
    "        6: 'family', 7: 'family', 8: 'family', 9: 'mulitperson_households', 10: 'mulitperson_households', \n",
    "        11: 'mulitperson_households'\n",
    "    }\n",
    "    df['LP_FAMILIE_GROB_family_type'] = df['LP_FAMILIE_GROB'].map(family_type_dict)\n",
    "    \n",
    "    family_type_dict = {\n",
    "        'single': 1, 'couple': 2, 'single_parent': 2, 'family': 3, 'mulitperson_households': 4\n",
    "    }\n",
    "    df['LP_FAMILIE_GROB_family_type'] = df['LP_FAMILIE_GROB_family_type'].map(family_type_dict)\n",
    "    print('Created LP_FAMILIE_GROB_family_type')\n",
    "    #LP_STATUS_GROB\n",
    "    earner_type_dict = {\n",
    "        1: 'low', 2: 'low', 3: 'average', 4: 'average', 5: 'average', \n",
    "        6: 'independant', 7: 'independant', 8: 'houseowners', 9: 'houseowners', 10: 'top'\n",
    "    }\n",
    "    df['LP_STATUS_GROB_earner_type'] = df['LP_STATUS_GROB'].map(earner_type_dict)\n",
    "    earner_type_dict = {\n",
    "        'low': 1, 'average': 2, 'independant': 3, 'houseowners': 4, 'top': 5\n",
    "    }\n",
    "    df['LP_STATUS_GROB_earner_type'] = df['LP_STATUS_GROB_earner_type'].map(earner_type_dict)\n",
    "    print('Created LP_STATUS_GROB_earner_type')\n",
    "    drop_cols = ['LP_LEBENSPHASE_FEIN', 'LP_FAMILIE_GROB', 'LP_STATUS_GROB']\n",
    "    #OST_WEST_KZ\n",
    "    ow_dict = {'OST_WEST_KZ': {'W':1, 'O':2}}\n",
    "    df = df.replace(ow_dict)\n",
    "    print('Replaced OST_WEST_KZ')\n",
    "    #imputing\n",
    "    imp = SimpleImputer(strategy=\"most_frequent\")\n",
    "    imp.fit_transform(df)"
   ]
  },
  {
   "cell_type": "code",
   "execution_count": 56,
   "metadata": {},
   "outputs": [],
   "source": [
    "feateng_azdias = filtered_azdias.copy()"
   ]
  },
  {
   "cell_type": "code",
   "execution_count": null,
   "metadata": {},
   "outputs": [
    {
     "name": "stdout",
     "output_type": "stream",
     "text": [
      "Perlaced CAMEO_DEU_2015\n",
      "Replaced ANZ_HAUSHALTE_AKTIV\n",
      "Replaced KBA13_ANZAHL_PKW\n",
      "Cretaed LP_LEBENSPHASE_FEIN_family_type, LP_LEBENSPHASE_FEIN_earner_type and LP_LEBENSPHASE_FEIN_age_group\n",
      "Created LP_FAMILIE_GROB_family_type\n",
      "Created LP_STATUS_GROB_earner_type\n"
     ]
    }
   ],
   "source": [
    "feature_eng(feateng_azdias)"
   ]
  },
  {
   "cell_type": "code",
   "execution_count": null,
   "metadata": {},
   "outputs": [],
   "source": [
    "feateng_azdias[OST_WEST_KZ]"
   ]
  },
  {
   "cell_type": "markdown",
   "metadata": {},
   "source": [
    "## Part 1: Customer Segmentation Report\n",
    "\n",
    "The main bulk of your analysis will come in this part of the project. Here, you should use unsupervised learning techniques to describe the relationship between the demographics of the company's existing customers and the general population of Germany. By the end of this part, you should be able to describe parts of the general population that are more likely to be part of the mail-order company's main customer base, and which parts of the general population are less so."
   ]
  },
  {
   "cell_type": "code",
   "execution_count": null,
   "metadata": {},
   "outputs": [],
   "source": []
  },
  {
   "cell_type": "code",
   "execution_count": null,
   "metadata": {},
   "outputs": [],
   "source": []
  },
  {
   "cell_type": "markdown",
   "metadata": {},
   "source": [
    "## Part 2: Supervised Learning Model\n",
    "\n",
    "Now that you've found which parts of the population are more likely to be customers of the mail-order company, it's time to build a prediction model. Each of the rows in the \"MAILOUT\" data files represents an individual that was targeted for a mailout campaign. Ideally, we should be able to use the demographic information from each individual to decide whether or not it will be worth it to include that person in the campaign.\n",
    "\n",
    "The \"MAILOUT\" data has been split into two approximately equal parts, each with almost 43 000 data rows. In this part, you can verify your model with the \"TRAIN\" partition, which includes a column, \"RESPONSE\", that states whether or not a person became a customer of the company following the campaign. In the next part, you'll need to create predictions on the \"TEST\" partition, where the \"RESPONSE\" column has been withheld."
   ]
  },
  {
   "cell_type": "code",
   "execution_count": null,
   "metadata": {},
   "outputs": [],
   "source": [
    "mailout_train = pd.read_csv('../../data/Term2/capstone/arvato_data/Udacity_MAILOUT_052018_TRAIN.csv', sep=';')"
   ]
  },
  {
   "cell_type": "code",
   "execution_count": null,
   "metadata": {},
   "outputs": [],
   "source": []
  },
  {
   "cell_type": "markdown",
   "metadata": {},
   "source": [
    "## Part 3: Kaggle Competition\n",
    "\n",
    "Now that you've created a model to predict which individuals are most likely to respond to a mailout campaign, it's time to test that model in competition through Kaggle. If you click on the link [here](http://www.kaggle.com/t/21e6d45d4c574c7fa2d868f0e8c83140), you'll be taken to the competition page where, if you have a Kaggle account, you can enter. If you're one of the top performers, you may have the chance to be contacted by a hiring manager from Arvato or Bertelsmann for an interview!\n",
    "\n",
    "Your entry to the competition should be a CSV file with two columns. The first column should be a copy of \"LNR\", which acts as an ID number for each individual in the \"TEST\" partition. The second column, \"RESPONSE\", should be some measure of how likely each individual became a customer – this might not be a straightforward probability. As you should have found in Part 2, there is a large output class imbalance, where most individuals did not respond to the mailout. Thus, predicting individual classes and using accuracy does not seem to be an appropriate performance evaluation method. Instead, the competition will be using AUC to evaluate performance. The exact values of the \"RESPONSE\" column do not matter as much: only that the higher values try to capture as many of the actual customers as possible, early in the ROC curve sweep."
   ]
  },
  {
   "cell_type": "code",
   "execution_count": null,
   "metadata": {},
   "outputs": [],
   "source": [
    "mailout_test = pd.read_csv('../../data/Term2/capstone/arvato_data/Udacity_MAILOUT_052018_TEST.csv', sep=';')"
   ]
  },
  {
   "cell_type": "code",
   "execution_count": null,
   "metadata": {},
   "outputs": [],
   "source": [
    "zip -r project.zip ."
   ]
  },
  {
   "cell_type": "code",
   "execution_count": null,
   "metadata": {},
   "outputs": [],
   "source": []
  }
 ],
 "metadata": {
  "kernelspec": {
   "display_name": "Python 3",
   "language": "python",
   "name": "python3"
  },
  "language_info": {
   "codemirror_mode": {
    "name": "ipython",
    "version": 3
   },
   "file_extension": ".py",
   "mimetype": "text/x-python",
   "name": "python",
   "nbconvert_exporter": "python",
   "pygments_lexer": "ipython3",
   "version": "3.7.6"
  }
 },
 "nbformat": 4,
 "nbformat_minor": 4
}
